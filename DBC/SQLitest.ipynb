{
 "cells": [
  {
   "cell_type": "code",
   "execution_count": 4,
   "metadata": {},
   "outputs": [],
   "source": [
    "import sqlite3\n",
    "import time\n",
    "import datetime\n",
    "\n",
    "conn = sqlite3.connect('test.db')\n",
    "c = conn.cursor()\n",
    "\n",
    "def  tableCreate():\n",
    "    c.execute(\"CREATE TABLE X(ID INT, unix REAL, timestamp TEXT, keyword TEXT, value REAL)\")\n",
    "\n",
    "#tableCreate()\n",
    "\n",
    "id_db = 4\n",
    "keyword = \"YES!\"\n",
    "value = 4"
   ]
  },
  {
   "cell_type": "code",
   "execution_count": 9,
   "metadata": {},
   "outputs": [],
   "source": [
    "def dataEntry():\n",
    "    date = str(datetime.datetime.fromtimestamp(int(time.time())).strftime('%Y-%m-%d %H:%M:%S'))\n",
    "    c.execute(\"INSERT INTO X(ID, unix, timestamp, keyword, value) VALUES(?, ?, ?, ?, ?)\",(id_db, time.time(), date, keyword, value))\n",
    "    conn.commit()\n",
    "dataEntry()"
   ]
  },
  {
   "cell_type": "code",
   "execution_count": 8,
   "metadata": {},
   "outputs": [
    {
     "name": "stdout",
     "output_type": "stream",
     "text": [
      "2020-08-28 16:42:35\n"
     ]
    }
   ],
   "source": [
    "date = str(datetime.datetime.fromtimestamp(int(time.time())).strftime('%Y-%m-%d %H:%M:%S'))\n",
    "print(date)"
   ]
  }
 ],
 "metadata": {
  "kernelspec": {
   "display_name": "Python 3",
   "language": "python",
   "name": "python3"
  },
  "language_info": {
   "codemirror_mode": {
    "name": "ipython",
    "version": 3
   },
   "file_extension": ".py",
   "mimetype": "text/x-python",
   "name": "python",
   "nbconvert_exporter": "python",
   "pygments_lexer": "ipython3",
   "version": "3.7.0"
  }
 },
 "nbformat": 4,
 "nbformat_minor": 4
}
