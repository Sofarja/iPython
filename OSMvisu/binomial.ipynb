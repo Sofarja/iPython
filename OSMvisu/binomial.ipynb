{
 "cells": [
  {
   "cell_type": "code",
   "execution_count": 73,
   "metadata": {},
   "outputs": [],
   "source": [
    "from random import uniform\n",
    "def bino(n):\n",
    "    u = uniform(0,1)\n",
    "    pa = 0.3\n",
    "    p = (1-pa)**n\n",
    "    f = p\n",
    "    k = 0\n",
    "    if u < f:\n",
    "        return k\n",
    "    else:   \n",
    "        while f < u:\n",
    "            k += 1\n",
    "            p = (n-k+1)/k*pa/(1-pa)*p\n",
    "            f += p\n",
    "        return k"
   ]
  },
  {
   "cell_type": "code",
   "execution_count": 86,
   "metadata": {},
   "outputs": [
    {
     "name": "stdout",
     "output_type": "stream",
     "text": [
      "2142\n"
     ]
    }
   ],
   "source": [
    "s=0\n",
    "for i in range(900):\n",
    "    s+=bino(8)\n",
    "print(s)"
   ]
  }
 ],
 "metadata": {
  "kernelspec": {
   "display_name": "Python 3",
   "language": "python",
   "name": "python3"
  },
  "language_info": {
   "codemirror_mode": {
    "name": "ipython",
    "version": 3
   },
   "file_extension": ".py",
   "mimetype": "text/x-python",
   "name": "python",
   "nbconvert_exporter": "python",
   "pygments_lexer": "ipython3",
   "version": "3.7.0"
  }
 },
 "nbformat": 4,
 "nbformat_minor": 4
}
