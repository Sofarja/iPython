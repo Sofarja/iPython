{
 "cells": [
  {
   "cell_type": "code",
   "execution_count": 29,
   "metadata": {},
   "outputs": [
    {
     "name": "stdout",
     "output_type": "stream",
     "text": [
      "Requirement already up-to-date: folium in d:\\python\\lib\\site-packages (0.10.1)\n",
      "Requirement already satisfied, skipping upgrade: branca>=0.3.0 in d:\\python\\lib\\site-packages (from folium) (0.3.1)\n",
      "Requirement already satisfied, skipping upgrade: numpy in d:\\python\\lib\\site-packages (from folium) (1.18.1)\n",
      "Requirement already satisfied, skipping upgrade: requests in d:\\python\\lib\\site-packages (from folium) (2.22.0)\n",
      "Requirement already satisfied, skipping upgrade: jinja2>=2.9 in d:\\python\\lib\\site-packages (from folium) (2.10.3)\n",
      "Requirement already satisfied, skipping upgrade: six in d:\\python\\lib\\site-packages (from branca>=0.3.0->folium) (1.14.0)\n",
      "Requirement already satisfied, skipping upgrade: certifi>=2017.4.17 in d:\\python\\lib\\site-packages (from requests->folium) (2019.11.28)\n",
      "Requirement already satisfied, skipping upgrade: idna<2.9,>=2.5 in d:\\python\\lib\\site-packages (from requests->folium) (2.8)\n",
      "Requirement already satisfied, skipping upgrade: urllib3!=1.25.0,!=1.25.1,<1.26,>=1.21.1 in d:\\python\\lib\\site-packages (from requests->folium) (1.25.8)\n",
      "Requirement already satisfied, skipping upgrade: chardet<3.1.0,>=3.0.2 in d:\\python\\lib\\site-packages (from requests->folium) (3.0.4)\n",
      "Requirement already satisfied, skipping upgrade: MarkupSafe>=0.23 in d:\\python\\lib\\site-packages (from jinja2>=2.9->folium) (1.1.1)\n",
      "Note: you may need to restart the kernel to use updated packages.\n"
     ]
    }
   ],
   "source": [
    "pip install -U folium"
   ]
  },
  {
   "cell_type": "code",
   "execution_count": 10,
   "metadata": {},
   "outputs": [
    {
     "name": "stdout",
     "output_type": "stream",
     "text": [
      "ok\n"
     ]
    }
   ],
   "source": [
    "from folium import plugins\n",
    "from folium.plugins import HeatMap\n",
    "import folium\n",
    "import os\n",
    "m = folium.Map([31.8978677, 118.7601263], zoom_start=10)\n",
    "P=[(31.8978677, 118.7601263), (31.8979351, 118.7603678), (31.8980388, 118.7607598), (31.8980485, 118.7632792), (31.8980553, 118.7650395), (31.8982193, 118.7658549), (31.8983996, 118.7667379), (31.8990942, 118.7681806), (31.90001, 118.7697543), (31.9021911, 118.7735021), (31.9046508, 118.7772064), (31.9054929, 118.7789074), (31.9056565, 118.7792379), (31.9058789, 118.7803331), (31.9060573, 118.781212), (31.9061148, 118.7826023), (31.9061196, 118.7827178), (31.9061158, 118.782968), (31.9061189, 118.7833473), (31.9061224, 118.7857622), (31.9060937, 118.7875635), (31.9060573, 118.7887222), (31.9059321, 118.7896437), (31.9059115, 118.7897951), (31.9057294, 118.7907392), (31.9047682, 118.7943313), (31.9044494, 118.7953796), (31.9043947, 118.7963881), (31.9042854, 118.7976326), (31.9043181, 118.7993954), (31.9043494, 118.8010812), (31.9044129, 118.8045796), (31.9151197, 118.8467481), (31.9162707, 118.8504957), (31.917631, 118.8539967), (31.9194935, 118.8572512), (31.9215653, 118.8596119), (31.9248164, 118.862338), (31.925587, 118.8628932), (31.91445, 118.844825), (31.9136128, 118.8423102), (31.9124618, 118.8386119), (31.9120105, 118.8350022), (31.9118226, 118.8313818), (31.9115827, 118.827813), (31.9113567, 118.8245725), (31.904504, 118.8058724), (31.904923, 118.8072671), (31.9066525, 118.8108171), (31.906881, 118.8112643), (31.907261, 118.8120433), (31.9076736, 118.812889), (31.9084877, 118.8146257), (31.9090215, 118.8157643), (31.9098138, 118.8181263), (31.9100233, 118.8184251), (31.9109705, 118.8212361), (31.9112437, 118.8220944), (31.9111344, 118.8243689), (31.925903, 118.8630732), (31.9255809, 118.8626593), (31.9249038, 118.8621143), (31.9217214, 118.8596072), (31.9195994, 118.8572311), (31.9195738, 118.8572007), (31.917816, 118.8538768), (31.9178146, 118.8538736), (31.9163985, 118.8504068), (31.9163895, 118.8503778), (31.9152443, 118.8466749), (31.9145975, 118.8447214), (31.9137435, 118.8422515), (31.9125212, 118.8385742), (31.9121891, 118.8367086), (31.9120624, 118.8349727), (31.9120616, 118.8349589), (31.9118526, 118.8313749), (31.9116532, 118.8278092), (31.9115074, 118.8247118), (31.9114802, 118.8245342)]\n",
    "\n",
    "for point in P:\n",
    "    folium.CircleMarker(\n",
    "        radius=10,\n",
    "        location=point,\n",
    "        color='#3388ff',\n",
    "        fill=True,\n",
    "        fill_color='#3388ff'\n",
    "    ).add_to(m)\n",
    "\n",
    "m.save( 'Heatmap3.html')\n",
    "print(\"ok\")"
   ]
  },
  {
   "cell_type": "code",
   "execution_count": 2,
   "metadata": {},
   "outputs": [],
   "source": [
    "import os\n",
    "import folium\n",
    "\n",
    "data=[[ 39.90403 , 116.407526 , 23014.59 ] , [ 39.084158 , 117.200983 , 16538.19 ] , [ 38.042309 , 114.514862 , 5440.6 ] , [ 37.87059 , 112.548879 , 2735.34 ] , [ 40.842585 , 111.74918 , 3090.52 ] , [ 41.805698 , 123.431474 , 7272.31 ] , [ 38.914003 , 121.614682 , 7731.64 ] , [ 43.817071 , 125.323544 , 5530.03 ] , [ 45.803775 , 126.534967 , 5751.21 ] , [ 31.230416 , 121.473701 , 25123.45 ] , [ 32.060255 , 118.796877 , 9720.77 ] , [ 30.274084 , 120.15507 , 10050.21 ] , [ 29.874556 , 121.550357 , 8003.61 ] , [ 31.820586 , 117.227239 , 5660.27 ] , [ 26.074507 , 119.296494 , 5618.08 ] , [ 24.479833 , 118.089425 , 3466.03 ] , [ 28.682892 , 115.858197 , 4000.01 ] , [ 36.651216 , 117.119999 , 6100.23 ] , [ 36.067082 , 120.382639 , 9300.07 ] , [ 34.746599 , 113.625368 , 7311.52 ] , [ 30.593098 , 114.305392 , 10905.6 ] , [ 28.228209 , 112.938814 , 8510.13 ] , [ 23.129162 , 113.264434 , 18100.41 ] , [ 22.543099 , 114.057868 , 17502.86 ] , [ 22.817002 , 108.366543 , 3410.09 ] , [ 20.044001 , 110.198293 , 1161.96 ] , [ 29.563009 , 106.551556 , 15717.27 ] , [ 30.572269 , 104.066541 , 10801.16 ] , [ 26.647661 , 106.630153 , 2891.16 ] , [ 24.880095 , 102.832891 , 3968.01 ] , [ 29.645554 , 91.140856 , 376.73 ] , [ 34.341568 , 108.940174 , 5801.2 ] , [ 36.061089 , 103.834303 , 2095.99 ] , [ 36.617144 , 101.778228 , 1131.62 ] , [ 38.487193 , 106.230909 , 1493.86 ] , [ 43.825592 , 87.616848 , 2631.64 ] ] #data = (np.random.normal(size=(100, 3)) * # np.array([[1, 1, 1]]) + # np.array([[48, 5, 1]])).tolist()\n",
    "\n",
    "from folium.plugins import HeatMap\n",
    "\n",
    "m = folium.Map([ 33., 113.], tiles='stamentoner', zoom_start=5)\n",
    "\n",
    "HeatMap(data).add_to(m)\n",
    "\n",
    "m.save('Heatmap.html')"
   ]
  },
  {
   "cell_type": "code",
   "execution_count": 3,
   "metadata": {},
   "outputs": [
    {
     "name": "stdout",
     "output_type": "stream",
     "text": [
      "ok\n"
     ]
    }
   ],
   "source": [
    "import numpy as np\n",
    "import pandas as pd\n",
    "import folium\n",
    "import webbrowser\n",
    "from folium.plugins import HeatMap\n",
    "\n",
    "df = pd.read_csv(\"PM25-20180101.csv\")\n",
    "# 获取数据个数\n",
    "num = df.shape[0]\n",
    "# 获取纬度\n",
    "lat = np.array(df[\"lat\"][0:num])\n",
    "# 获取经度\n",
    "lon = np.array(df[\"lon\"][0:num])\n",
    "# 获取PM2.5，转化为numpy浮点型\n",
    "pm25 = np.array(df[\"PM25\"][0:num],dtype=float)\n",
    "# 将数据制作成[lats, lons, weights]的形式\n",
    "data1 = [[lat[i], lon[i], pm25[i]] for i in range(num)]\n",
    "# 绘制Map，中心经纬度[32, 120],开始缩放程度是5倍\n",
    "map_osm = folium.Map(location=[32,120], zoom_start=5)\n",
    "# 将热力图添加到前面建立的map里\n",
    "HeatMap(data1).add_to(map_osm)\n",
    "print(\"ok\")\n",
    "\n",
    "map_osm.save(\"Heatmapx.html\")"
   ]
  },
  {
   "cell_type": "code",
   "execution_count": 1,
   "metadata": {},
   "outputs": [
    {
     "data": {
      "text/html": [
       "<div style=\"width:100%;\"><div style=\"position:relative;width:100%;height:0;padding-bottom:60%;\"><iframe src=\"data:text/html;charset=utf-8;base64,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\" style=\"position:absolute;width:100%;height:100%;left:0;top:0;border:none !important;\" allowfullscreen webkitallowfullscreen mozallowfullscreen></iframe></div></div>"
      ],
      "text/plain": [
       "<folium.folium.Map at 0x6139dd0>"
      ]
     },
     "execution_count": 1,
     "metadata": {},
     "output_type": "execute_result"
    }
   ],
   "source": [
    "import folium\n",
    "import numpy as np\n",
    "from folium.plugins import HeatMap\n",
    "\n",
    "data = (np.random.normal(size=(100, 3)) *\n",
    "        np.array([[1, 1, 1]]) +\n",
    "        np.array([[48, 5, 1]])).tolist()\n",
    "\n",
    "m = folium.Map([48., 5.], tiles='stamentoner', zoom_start=6)\n",
    "\n",
    "HeatMap(data).add_to(m)\n",
    "\n",
    "m"
   ]
  },
  {
   "cell_type": "code",
   "execution_count": 2,
   "metadata": {},
   "outputs": [
    {
     "name": "stdout",
     "output_type": "stream",
     "text": [
      "1 200 12 0 14\n",
      "110 120 130 140 150\n",
      "1 200 12 0 14\n",
      "110 120 130 140 150\n",
      "ok\n",
      "1 200 12 0 14\n",
      "110 120 130 140 150\n",
      "ok\n",
      "1 200 12 0 14\n",
      "1 200 12 0 14\n",
      "ok\n",
      "ok1\n"
     ]
    }
   ],
   "source": [
    "from xml.etree.ElementTree import ElementTree,Element\n",
    "import numpy as np\n",
    "import pandas as pd\n",
    "from pandas.tseries.offsets import *\n",
    "import folium\n",
    "import webbrowser as web\n",
    "from ipywidgets import interact\n",
    "from folium.plugins import HeatMap\n",
    "from folium.plugins import HeatMapWithTime\n",
    "\n",
    "def read_xml(in_path):\n",
    "    tree = ElementTree()\n",
    "    tree.parse(in_path)\n",
    "    return tree\n",
    "\n",
    "def find_nodes(tree, path):\n",
    "    return tree.findall(path)\n",
    "\n",
    "def if_match(node, kv_map):\n",
    "    for key in kv_map:\n",
    "        if node.get(key) != kv_map.get(key):\n",
    "            return False\n",
    "    return True\n",
    "\n",
    "def get_node_by_keyvalue(nodelist, kv_map):\n",
    "    result_nodes = []\n",
    "    for node in nodelist:\n",
    "        if if_match(node, kv_map):\n",
    "            result_nodes.append(node)\n",
    "    return result_nodes\n",
    "\n",
    "def show_value_by_path(nodelist, tag, kv_map):\n",
    "    rlt = []\n",
    "    for parent_node in nodelist:\n",
    "        children = list(parent_node)\n",
    "        if children[0].text == kv_map:\n",
    "            for child in children:\n",
    "                print(child.tag+\"  \"+child.text)\n",
    "        \n",
    "if __name__ == \"__main__\":\n",
    "    \n",
    "    #读取xml\n",
    "    tree = read_xml(\"example.res\")\n",
    "    \n",
    "    #按空间筛选\n",
    "    nodelist = find_nodes(tree, \"section\")\n",
    "    result_nodes = get_node_by_keyvalue(nodelist, {\"id\": \"0\"})\n",
    "    \n",
    "    #按时间筛选\n",
    "    test_nodes = find_nodes(tree, \"section/result\")\n",
    "    final_nodes = get_node_by_keyvalue(test_nodes, {\"time\": \"1\"})\n",
    "    \n",
    "    #全部输出\n",
    "    for parent_node in nodelist:\n",
    "        children = list(parent_node)\n",
    "        for child in children:\n",
    "            print(child.text)\n",
    "    print(\"ok\")\n",
    "    \n",
    "    #按空间输出\n",
    "    for parent_node in result_nodes:\n",
    "        children = list(parent_node)\n",
    "        for child in children:\n",
    "            print(child.text)\n",
    "    print(\"ok\")\n",
    "    \n",
    "    #按时间输出\n",
    "    for child in final_nodes:\n",
    "        print(child.text)\n",
    "        density = list(map(int, child.text.split()))\n",
    "    print(\"ok\")\n",
    "    \n",
    "    p = [(31.8980388, 118.7607598), (31.8980485, 118.7632792), (31.8980553, 118.7650395), (31.8982193, 118.7658549), (31.8983996, 118.7667379)]\n",
    "    #p = [('2020-03-13',31.8980388, 118.7607598), ('2020-03-13',31.8980485, 118.7632792), ('2020-03-14',31.8980553, 118.7650395), ('2020-03-14',31.8982193, 118.7658549), ('2020-03-14',31.8983996, 118.7667379)]\n",
    "    #将数据制作成[lats,lons,density]的形式\n",
    "    #data1 = [[p[i][0], p[i][1], density[i]] for i in range(5)]\n",
    "    data1 = [[p[i][0], p[i][1]] for i in range(5)]\n",
    "    #date_list = ['20200313','20200314','20200315','20200316','20200317']\n",
    "    #t=pd.to_datetime(time)\n",
    "    #print(t)\n",
    "    #t=[1,2,3,4,5]\n",
    "    \n",
    "    map_osm = folium.Map(location=[31.8980388, 118.7607598], tiles='Stamen Toner', zoom_start=5, control_scale=True)\n",
    "    \n",
    "    #将热力图添加到前面建立的map里\n",
    "    HeatMap(data1).add_to(map_osm)\n",
    "    print(\"ok1\")\n",
    "    \n",
    "    \n",
    "    #HeatMapWithTime(data1, t).add_to(map_osm)\n",
    "    #print(\"ok2\")\n",
    "    \n",
    "    #为地图对象添加点击显示经纬度和标注（双击可取消标注）的子功能\n",
    "    #map_osm.add_child(folium.LatLngPopup())\n",
    "    #map_osm.add_child(folium.ClickForMarker())\n",
    "\n",
    "    map_osm.save(\"Heatmapx.html\")\n",
    "    web.open('Heatmapx.html')\n",
    "  "
   ]
  },
  {
   "cell_type": "code",
   "execution_count": 11,
   "metadata": {},
   "outputs": [
    {
     "name": "stdout",
     "output_type": "stream",
     "text": [
      "3.7.0 (v3.7.0:1bf9cc5093, Jun 27 2018, 04:06:47) [MSC v.1914 32 bit (Intel)]\n",
      "d:\\python\\python.exe\n"
     ]
    }
   ],
   "source": [
    "import sys\n",
    "\n",
    "print(sys.version)\n",
    "\n",
    "print(sys.executable)"
   ]
  },
  {
   "cell_type": "code",
   "execution_count": 2,
   "metadata": {},
   "outputs": [
    {
     "name": "stdout",
     "output_type": "stream",
     "text": [
      "[[[31.8980388, 118.7607598], [31.8980485, 118.7632792]], [[31.8980553, 118.7650395], [31.8982193, 118.7658549]], [[31.8980388, 118.7607598], [31.8983996, 118.7667379]]]\n"
     ]
    },
    {
     "data": {
      "text/html": [
       "<div style=\"width:100%;\"><div style=\"position:relative;width:100%;height:0;padding-bottom:60%;\"><iframe src=\"data:text/html;charset=utf-8;base64,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\" style=\"position:absolute;width:100%;height:100%;left:0;top:0;border:none !important;\" allowfullscreen webkitallowfullscreen mozallowfullscreen></iframe></div></div>"
      ],
      "text/plain": [
       "<folium.folium.Map at 0x15f9aff0>"
      ]
     },
     "metadata": {},
     "output_type": "display_data"
    }
   ],
   "source": [
    "import folium\n",
    "from ipywidgets import interact, interactive, fixed, interact_manual, FloatSlider\n",
    "from xml.etree.ElementTree import ElementTree,Element\n",
    "import numpy as np\n",
    "import pandas as pd\n",
    "from pandas.tseries.offsets import *\n",
    "import webbrowser as web\n",
    "from folium.plugins import HeatMap\n",
    "from folium.plugins import HeatMapWithTime\n",
    "\n",
    "def read_xml(in_path):\n",
    "    tree = ElementTree()\n",
    "    tree.parse(in_path)\n",
    "    return tree\n",
    "\n",
    "def find_nodes(tree, path):\n",
    "    return tree.findall(path)\n",
    "\n",
    "def if_match(node, kv_map):\n",
    "    for key in kv_map:\n",
    "        if node.get(key) != kv_map.get(key):\n",
    "            return False\n",
    "    return True\n",
    "\n",
    "def get_node_by_keyvalue(nodelist, kv_map):\n",
    "    result_nodes = []\n",
    "    for node in nodelist:\n",
    "        if if_match(node, kv_map):\n",
    "            result_nodes.append(node)\n",
    "    return result_nodes\n",
    "\n",
    "def show_value_by_path(nodelist, tag, kv_map):\n",
    "    rlt = []\n",
    "    for parent_node in nodelist:\n",
    "        children = list(parent_node)\n",
    "        if children[0].text == kv_map:\n",
    "            for child in children:\n",
    "                print(child.tag+\"  \"+child.text)\n",
    "\n",
    "def create_map(lat=31.8980388, lon=118.7607598, tiles=\"Stamen Toner\", zoom=10):\n",
    "    #p = [(31.8980388, 118.7607598), (31.8980485, 118.7632792), (31.8980553, 118.7650395), (31.8982193, 118.7658549), (31.8983996, 118.7667379)]\n",
    "    #data1 = [[[p[i][0], p[i][1], i]]for i in range(5)]\n",
    "    data1 = [[[31.8980388, 118.7607598], [31.8980485, 118.7632792]], [[31.8980553, 118.7650395], [31.8982193, 118.7658549]], [[31.8980388, 118.7607598], [31.8983996, 118.7667379]]]\n",
    "    print(data1)\n",
    "    \n",
    "    map_osm=folium.Map(location=(lat, lon), tiles=tiles, zoom_start=zoom)\n",
    "    hm = HeatMapWithTime(data1)\n",
    "    hm.add_to(map_osm)\n",
    "    map_osm.add_child(folium.LatLngPopup())\n",
    "    map_osm.add_child(folium.ClickForMarker())\n",
    "    map_osm.save(\"Heatmapx.html\")\n",
    "    return map_osm\n",
    "\n",
    "if __name__ == \"__main__\":\n",
    "    \n",
    "    tiles = [name.strip() for name in \"\"\"\n",
    "        OpenStreetMap\n",
    "        Mapbox Bright\n",
    "        Mapbox Control Room\n",
    "        Stamen Terrain\n",
    "        Stamen Toner\n",
    "        Stamen Watercolor\n",
    "        CartoDB positron\n",
    "        CartoDB dark_matter\"\"\".strip().split('\\n')]\n",
    "    \n",
    "    tree = read_xml(\"example.res\")\n",
    "    \n",
    "    #按空间筛选\n",
    "    nodelist = find_nodes(tree, \"section\")\n",
    "    result_nodes = get_node_by_keyvalue(nodelist, {\"id\": \"0\"})\n",
    "    \n",
    "    #按时间筛选\n",
    "    test_nodes = find_nodes(tree, \"section/result\")\n",
    "    final_nodes = get_node_by_keyvalue(test_nodes, {\"time\": \"1\"})\n",
    "    \n",
    "    #按时间输出\n",
    "    for child in final_nodes:\n",
    "        density = list(map(int, child.text.split()))\n",
    "        \n",
    "    #p = [(31.8980388, 118.7607598), (31.8980485, 118.7632792), (31.8980553, 118.7650395), (31.8982193, 118.7658549), (31.8983996, 118.7667379)]\n",
    "    #data1 = [[p[i][0], p[i][1], density[i]] for i in range(5)]\n",
    "\n",
    "    interact(create_map,lat=(-90., 90.), lon=(-180., 180.), tiles=tiles, zoom=(1, 18))"
   ]
  },
  {
   "cell_type": "code",
   "execution_count": null,
   "metadata": {},
   "outputs": [],
   "source": []
  }
 ],
 "metadata": {
  "kernelspec": {
   "display_name": "Python 3",
   "language": "python",
   "name": "python3"
  },
  "language_info": {
   "codemirror_mode": {
    "name": "ipython",
    "version": 3
   },
   "file_extension": ".py",
   "mimetype": "text/x-python",
   "name": "python",
   "nbconvert_exporter": "python",
   "pygments_lexer": "ipython3",
   "version": "3.7.0"
  }
 },
 "nbformat": 4,
 "nbformat_minor": 4
}
