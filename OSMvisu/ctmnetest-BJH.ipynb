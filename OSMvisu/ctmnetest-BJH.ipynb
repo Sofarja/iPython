{
 "cells": [
  {
   "cell_type": "markdown",
   "metadata": {},
   "source": [
    "### 导入运行程序，建立路网、交叉口信号灯，设置到达离去"
   ]
  },
  {
   "cell_type": "code",
   "execution_count": 1,
   "metadata": {},
   "outputs": [],
   "source": [
    "from ctmnet2.simulation import Simulator\n",
    "from ctmnet2.networkcreation import create_from_xml\n",
    "\n",
    "def neta(Area=\"\",Ver=\"\"):\n",
    "    U=[1,2,3,4]\n",
    "    D=[5,6,7,8]\n",
    "    sim = create_from_xml(\"NET-\"+Area+Ver+\".xml\")\n",
    "    sim.set_arrival(str(U[0]),1412*7)\n",
    "    sim.set_departure(str(D[0]),1412*4)\n",
    "    sim.set_arrival(str(U[1]),1412*7)\n",
    "    sim.set_departure(str(D[1]),1412*4)\n",
    "    sim.set_arrival(str(U[2]),1412*7)\n",
    "    sim.set_departure(str(D[2]),1412*4)\n",
    "    sim.set_arrival(str(U[3]),1412*7)\n",
    "    sim.set_departure(str(D[3]),1412*4)\n",
    "    return sim"
   ]
  },
  {
   "cell_type": "markdown",
   "metadata": {},
   "source": [
    "### 路灯检测数据输入"
   ]
  },
  {
   "cell_type": "code",
   "execution_count": 2,
   "metadata": {},
   "outputs": [],
   "source": [
    "import xml.etree.ElementTree as ET\n",
    "import re\n",
    "\n",
    "def deta(sim,Area=\"\"):\n",
    "    sec_tree=ET.parse(\"sec_det-\"+Area+\".xml\")\n",
    "    det_tree=ET.parse(\"detectors-\"+Area+\".xml\")\n",
    "    secs=sec_tree.getroot()\n",
    "    dets=det_tree.getroot()\n",
    "    for sec in secs.iter('section'):\n",
    "        sec_id=sec.attrib['id']\n",
    "        det_id=re.findall(r\"\\d+\",sec.find('detectors').text)\n",
    "        #print(sec_id,det_id)\n",
    "        n=0\n",
    "        for i in det_id:\n",
    "            for det in dets.iter('detector'):\n",
    "                if det.attrib['id']==i:\n",
    "                    vol=float(det.find('volume').text)\n",
    "                    sim.sections[sec_id].cells[int(n)].volume=vol\n",
    "                    n=n+1\n",
    "    return sim"
   ]
  },
  {
   "cell_type": "markdown",
   "metadata": {},
   "source": [
    "### 开始仿真"
   ]
  },
  {
   "cell_type": "code",
   "execution_count": 3,
   "metadata": {},
   "outputs": [],
   "source": [
    "def simula(sim,T=600,R='volume',S='cell'):\n",
    "    result=[]\n",
    "    r=[]\n",
    "    s=0\n",
    "    for i in range(T):\n",
    "        r=[]\n",
    "        s=0\n",
    "        sim.run_single_step()\n",
    "        if R=='volume':\n",
    "            V=sim.get_volume(S)\n",
    "        elif R=='density':\n",
    "            V=sim.get_density(S)\n",
    "        elif R=='velocity':\n",
    "            V=sim.get_velocity(S)\n",
    "        elif R=='occupancy':\n",
    "            V=sim.get_occupancy(S)\n",
    "        elif R=='delay':\n",
    "            V=sim.get_delay(S)\n",
    "        if S=='cell':\n",
    "            for j in range(1,9):\n",
    "                t=[]\n",
    "                for k in range(len(V[str(j)])):\n",
    "                    t.append(V[str(j)][k])\n",
    "                r=r+[round(i,1) for i in t]\n",
    "            result.append(r)\n",
    "        elif S=='section':\n",
    "            for j in range(1,9):\n",
    "                s=s+V[str(j)]\n",
    "            result.append(s)\n",
    "    return result"
   ]
  },
  {
   "cell_type": "markdown",
   "metadata": {},
   "source": [
    "### 矩阵转置并输出当前指标"
   ]
  },
  {
   "cell_type": "code",
   "execution_count": 4,
   "metadata": {},
   "outputs": [],
   "source": [
    "def maTrix(matrix):\n",
    "    T=[]\n",
    "    tr=0\n",
    "    for i in range(len(matrix[0])):\n",
    "        t=[]\n",
    "        for j in range(len(matrix)):\n",
    "            t.append(matrix[j][i])\n",
    "            tr+=matrix[j][i]\n",
    "        T.append(t)\n",
    "    print(tr)\n",
    "    return T"
   ]
  },
  {
   "cell_type": "markdown",
   "metadata": {},
   "source": [
    "### 提取路网中各路段元胞坐标"
   ]
  },
  {
   "cell_type": "code",
   "execution_count": 5,
   "metadata": {},
   "outputs": [],
   "source": [
    "import xml.etree.ElementTree as ET\n",
    "import re\n",
    "\n",
    "def coora(Area=\"\"):\n",
    "    tree = ET.parse(\"NET-\"+Area+\".xml\")\n",
    "    root = tree.getroot()\n",
    "    para = 'coordinates'\n",
    "    coordinates=[]\n",
    "    for sec in root.iter('section'):\n",
    "        sec_id = sec.attrib['id']\n",
    "        coors = re.findall(r\"(\\d+\\.?\\d*, \\d+\\.?\\d*)\",sec.find(para).text)\n",
    "        COORS = []\n",
    "        COOR = []\n",
    "        for coor in coors:\n",
    "            COOR = coor.split(',')\n",
    "            COOR[0] = float(COOR[0])\n",
    "            COOR[1] = float(COOR[1])\n",
    "            COORS.append(COOR)\n",
    "        coordinates.extend(COORS)\n",
    "    return coordinates"
   ]
  },
  {
   "cell_type": "markdown",
   "metadata": {},
   "source": [
    "### 仿真后生成HTML文件"
   ]
  },
  {
   "cell_type": "code",
   "execution_count": 6,
   "metadata": {},
   "outputs": [],
   "source": [
    "import webbrowser\n",
    "from IPython.display import IFrame\n",
    "\n",
    "def visula(Matrix,Coor,Area=\"\",R=\"\"):\n",
    "    with open(\"HMWT-\"+R+\"-\"+Area+\".html\",'r',encoding='utf-8') as file:\n",
    "        with open(\"HMWT-\"+R+\"-\"+Area+\"+.html\",'w',encoding='utf-8') as out:\n",
    "            load=file.read()\n",
    "            p1,pr=load.split(\"元胞坐标\")\n",
    "            out.write(p1+'\\n')\n",
    "            for coor in Coor:\n",
    "                out.write('{\"lat\":'+str(coor[0])+',\"lng\":'+str(coor[1])+'},\\n')\n",
    "            p2,pr=pr.split(\"元胞流量数据\")\n",
    "            out.write(p2+'\\n')\n",
    "            for t in Matrix:\n",
    "                out.write(str(t)+',\\n')\n",
    "            out.write(pr)\n",
    "\n",
    "    return IFrame(src='HMWT-'+R+\"-\"+Area+'+.html', width=600, height=600)"
   ]
  },
  {
   "cell_type": "code",
   "execution_count": 54,
   "metadata": {},
   "outputs": [],
   "source": [
    "def det_refresh_P(P=30):\n",
    "    \n",
    "    n=int(P/30-1)*30\n",
    "    with open(\"detectors_BJH_30.xml\",'w') as file:\n",
    "        file.write(\"<?xml version=\\\"1.0\\\" encoding=\\\"utf-8\\\"?>\"+'\\n')\n",
    "        file.write(\"<detectors>\"+'\\n')\n",
    "        #print(sim.sections)\n",
    "        i=0\n",
    "        j=0\n",
    "        for sec in sim.sections.values():\n",
    "            #j=0\n",
    "            for cell in sec.cells:\n",
    "                file.write('\\t'+\"<detector\"+\" id=\\\"\"+str(i)+\"\\\">\"+'\\n')\n",
    "                file.write('\\t'+'\\t'+\"<volume>\")\n",
    "                for k in range(30):\n",
    "                    if k+1!=30:\n",
    "                        file.write(str(int(Result[j][k+n]))+', ')\n",
    "                        #print(j,k,n)\n",
    "                    else:\n",
    "                        file.write(str(int(Result[j][k+n])))\n",
    "                file.write(\"</volume>\"+'\\n')\n",
    "                file.write('\\t'+'\\t'+\"<coor>\"+str(Coor[i%len(Coor)])+\"</coor>\"+'\\n')\n",
    "                file.write('\\t'+\"</detector>\"+'\\n')\n",
    "                i=i+1\n",
    "                j=j+1\n",
    "        file.write(\"</detectors>\"+'\\n')"
   ]
  },
  {
   "cell_type": "code",
   "execution_count": 57,
   "metadata": {},
   "outputs": [
    {
     "ename": "TypeError",
     "evalue": "object of type 'Simulator' has no len()",
     "output_type": "error",
     "traceback": [
      "\u001b[1;31m---------------------------------------------------------------------------\u001b[0m",
      "\u001b[1;31mTypeError\u001b[0m                                 Traceback (most recent call last)",
      "\u001b[1;32m<ipython-input-57-f4697c879d20>\u001b[0m in \u001b[0;36m<module>\u001b[1;34m\u001b[0m\n\u001b[1;32m----> 1\u001b[1;33m \u001b[0mprint\u001b[0m\u001b[1;33m(\u001b[0m\u001b[0mlen\u001b[0m\u001b[1;33m(\u001b[0m\u001b[0msim\u001b[0m\u001b[1;33m)\u001b[0m\u001b[1;33m)\u001b[0m\u001b[1;33m\u001b[0m\u001b[0m\n\u001b[0m",
      "\u001b[1;31mTypeError\u001b[0m: object of type 'Simulator' has no len()"
     ]
    }
   ],
   "source": [
    "print(len(sim))"
   ]
  },
  {
   "cell_type": "code",
   "execution_count": 53,
   "metadata": {},
   "outputs": [
    {
     "ename": "WebDriverException",
     "evalue": "Message: chrome not reachable\n  (Session info: chrome=90.0.4430.93)\n",
     "output_type": "error",
     "traceback": [
      "\u001b[1;31m---------------------------------------------------------------------------\u001b[0m",
      "\u001b[1;31mWebDriverException\u001b[0m                        Traceback (most recent call last)",
      "\u001b[1;32m<ipython-input-53-228ce8847c62>\u001b[0m in \u001b[0;36m<module>\u001b[1;34m\u001b[0m\n\u001b[0;32m     31\u001b[0m                     \u001b[0mout\u001b[0m\u001b[1;33m.\u001b[0m\u001b[0mwrite\u001b[0m\u001b[1;33m(\u001b[0m\u001b[1;34m'['\u001b[0m\u001b[1;33m+\u001b[0m\u001b[0mvol\u001b[0m\u001b[1;33m+\u001b[0m\u001b[1;34m']'\u001b[0m\u001b[1;33m+\u001b[0m\u001b[1;34m',\\n'\u001b[0m\u001b[1;33m)\u001b[0m\u001b[1;33m\u001b[0m\u001b[0m\n\u001b[0;32m     32\u001b[0m                 \u001b[0mout\u001b[0m\u001b[1;33m.\u001b[0m\u001b[0mwrite\u001b[0m\u001b[1;33m(\u001b[0m\u001b[0mpr\u001b[0m\u001b[1;33m)\u001b[0m\u001b[1;33m\u001b[0m\u001b[0m\n\u001b[1;32m---> 33\u001b[1;33m         \u001b[0mbrowser\u001b[0m\u001b[1;33m.\u001b[0m\u001b[0mrefresh\u001b[0m\u001b[1;33m(\u001b[0m\u001b[1;33m)\u001b[0m\u001b[1;33m\u001b[0m\u001b[0m\n\u001b[0m\u001b[0;32m     34\u001b[0m         \u001b[0mtime\u001b[0m\u001b[1;33m.\u001b[0m\u001b[0msleep\u001b[0m\u001b[1;33m(\u001b[0m\u001b[1;36m10\u001b[0m\u001b[1;33m)\u001b[0m\u001b[1;33m\u001b[0m\u001b[0m\n",
      "\u001b[1;32md:\\python\\lib\\site-packages\\selenium\\webdriver\\remote\\webdriver.py\u001b[0m in \u001b[0;36mrefresh\u001b[1;34m(self)\u001b[0m\n\u001b[0;32m    829\u001b[0m             \u001b[0mdriver\u001b[0m\u001b[1;33m.\u001b[0m\u001b[0mrefresh\u001b[0m\u001b[1;33m(\u001b[0m\u001b[1;33m)\u001b[0m\u001b[1;33m\u001b[0m\u001b[0m\n\u001b[0;32m    830\u001b[0m         \"\"\"\n\u001b[1;32m--> 831\u001b[1;33m         \u001b[0mself\u001b[0m\u001b[1;33m.\u001b[0m\u001b[0mexecute\u001b[0m\u001b[1;33m(\u001b[0m\u001b[0mCommand\u001b[0m\u001b[1;33m.\u001b[0m\u001b[0mREFRESH\u001b[0m\u001b[1;33m)\u001b[0m\u001b[1;33m\u001b[0m\u001b[0m\n\u001b[0m\u001b[0;32m    832\u001b[0m \u001b[1;33m\u001b[0m\u001b[0m\n\u001b[0;32m    833\u001b[0m     \u001b[1;31m# Options\u001b[0m\u001b[1;33m\u001b[0m\u001b[1;33m\u001b[0m\u001b[0m\n",
      "\u001b[1;32md:\\python\\lib\\site-packages\\selenium\\webdriver\\remote\\webdriver.py\u001b[0m in \u001b[0;36mexecute\u001b[1;34m(self, driver_command, params)\u001b[0m\n\u001b[0;32m    319\u001b[0m         \u001b[0mresponse\u001b[0m \u001b[1;33m=\u001b[0m \u001b[0mself\u001b[0m\u001b[1;33m.\u001b[0m\u001b[0mcommand_executor\u001b[0m\u001b[1;33m.\u001b[0m\u001b[0mexecute\u001b[0m\u001b[1;33m(\u001b[0m\u001b[0mdriver_command\u001b[0m\u001b[1;33m,\u001b[0m \u001b[0mparams\u001b[0m\u001b[1;33m)\u001b[0m\u001b[1;33m\u001b[0m\u001b[0m\n\u001b[0;32m    320\u001b[0m         \u001b[1;32mif\u001b[0m \u001b[0mresponse\u001b[0m\u001b[1;33m:\u001b[0m\u001b[1;33m\u001b[0m\u001b[0m\n\u001b[1;32m--> 321\u001b[1;33m             \u001b[0mself\u001b[0m\u001b[1;33m.\u001b[0m\u001b[0merror_handler\u001b[0m\u001b[1;33m.\u001b[0m\u001b[0mcheck_response\u001b[0m\u001b[1;33m(\u001b[0m\u001b[0mresponse\u001b[0m\u001b[1;33m)\u001b[0m\u001b[1;33m\u001b[0m\u001b[0m\n\u001b[0m\u001b[0;32m    322\u001b[0m             response['value'] = self._unwrap_value(\n\u001b[0;32m    323\u001b[0m                 response.get('value', None))\n",
      "\u001b[1;32md:\\python\\lib\\site-packages\\selenium\\webdriver\\remote\\errorhandler.py\u001b[0m in \u001b[0;36mcheck_response\u001b[1;34m(self, response)\u001b[0m\n\u001b[0;32m    240\u001b[0m                 \u001b[0malert_text\u001b[0m \u001b[1;33m=\u001b[0m \u001b[0mvalue\u001b[0m\u001b[1;33m[\u001b[0m\u001b[1;34m'alert'\u001b[0m\u001b[1;33m]\u001b[0m\u001b[1;33m.\u001b[0m\u001b[0mget\u001b[0m\u001b[1;33m(\u001b[0m\u001b[1;34m'text'\u001b[0m\u001b[1;33m)\u001b[0m\u001b[1;33m\u001b[0m\u001b[0m\n\u001b[0;32m    241\u001b[0m             \u001b[1;32mraise\u001b[0m \u001b[0mexception_class\u001b[0m\u001b[1;33m(\u001b[0m\u001b[0mmessage\u001b[0m\u001b[1;33m,\u001b[0m \u001b[0mscreen\u001b[0m\u001b[1;33m,\u001b[0m \u001b[0mstacktrace\u001b[0m\u001b[1;33m,\u001b[0m \u001b[0malert_text\u001b[0m\u001b[1;33m)\u001b[0m\u001b[1;33m\u001b[0m\u001b[0m\n\u001b[1;32m--> 242\u001b[1;33m         \u001b[1;32mraise\u001b[0m \u001b[0mexception_class\u001b[0m\u001b[1;33m(\u001b[0m\u001b[0mmessage\u001b[0m\u001b[1;33m,\u001b[0m \u001b[0mscreen\u001b[0m\u001b[1;33m,\u001b[0m \u001b[0mstacktrace\u001b[0m\u001b[1;33m)\u001b[0m\u001b[1;33m\u001b[0m\u001b[0m\n\u001b[0m\u001b[0;32m    243\u001b[0m \u001b[1;33m\u001b[0m\u001b[0m\n\u001b[0;32m    244\u001b[0m     \u001b[1;32mdef\u001b[0m \u001b[0m_value_or_default\u001b[0m\u001b[1;33m(\u001b[0m\u001b[0mself\u001b[0m\u001b[1;33m,\u001b[0m \u001b[0mobj\u001b[0m\u001b[1;33m,\u001b[0m \u001b[0mkey\u001b[0m\u001b[1;33m,\u001b[0m \u001b[0mdefault\u001b[0m\u001b[1;33m)\u001b[0m\u001b[1;33m:\u001b[0m\u001b[1;33m\u001b[0m\u001b[0m\n",
      "\u001b[1;31mWebDriverException\u001b[0m: Message: chrome not reachable\n  (Session info: chrome=90.0.4430.93)\n"
     ]
    }
   ],
   "source": [
    "import xml.etree.ElementTree as ET\n",
    "import re\n",
    "import webbrowser\n",
    "from selenium import webdriver\n",
    "import time\n",
    "\n",
    "browser=webdriver.Chrome(executable_path =\"D:\\Python\\chromedriver.exe\")\n",
    "browser.get(\"file:///C:/Users/87947/Desktop/iPython/OSMvisu/HMWT-BJH-detectors-30+.html\")\n",
    "coors=\"\"\n",
    "with open(\"detectors-BJH.xml\",'r') as data:\n",
    "    det_tree=ET.parse(\"detectors-BJH.xml\")\n",
    "    dets=det_tree.getroot()\n",
    "    for det in dets.iter('detector'):\n",
    "        coor=(re.findall(r\"(\\d+\\.?\\d*, \\d+\\.?\\d*)\",det.find('coor').text))[0].split(', ')\n",
    "        coors=coors+('{\"lat\":'+coor[0]+',\"lng\":'+coor[1]+'},\\n')\n",
    "for t in range(1,180):\n",
    "    if t%30==0:\n",
    "        det_refresh_P(t)\n",
    "        det_tree=ET.parse(\"detectors_BJH_30.xml\")\n",
    "        dets=det_tree.getroot()\n",
    "        with open(\"HMWT-BJH-detectors-30.html\",'r',encoding='utf-8') as file:\n",
    "            with open(\"HMWT-BJH-detectors-30+.html\",'w',encoding='utf-8') as out:\n",
    "                load=file.read()\n",
    "                p1,pr=load.split(\"元胞坐标\")\n",
    "                out.write(p1+'\\n')\n",
    "                out.write(coors+'\\n')\n",
    "                p2,pr=pr.split(\"元胞流量数据\")\n",
    "                out.write(p2+'\\n')\n",
    "                for det in dets.iter('detector'):\n",
    "                    vol=det.find('volume').text\n",
    "                    out.write('['+vol+']'+',\\n')\n",
    "                out.write(pr)\n",
    "        browser.refresh()\n",
    "        time.sleep(10)"
   ]
  },
  {
   "cell_type": "code",
   "execution_count": 7,
   "metadata": {},
   "outputs": [],
   "source": [
    "import numpy as np\n",
    "import matplotlib.pyplot as plt\n",
    "#定义待优化函数：只能处理行向量形式的单个输入，若有矩阵形式的多个输入应当进行迭代\n",
    "def CostFunction(x):\n",
    "    '''x1=int(round(x[0]))\n",
    "    x2=int(round(x[1]))\n",
    "    x3=int(round(x[2]))\n",
    "    x4=int(round(x[3]))'''\n",
    "    x1=int(x[0])\n",
    "    x2=int(x[1])\n",
    "    x3=int(x[2])\n",
    "    x4=int(x[3])\n",
    "    phastr=str(x1)+' '+str(x2)+' '+str(x3)+' '+str(x4)\n",
    "    global phaset\n",
    "    global nss\n",
    "    if phastr in phaset.keys():\n",
    "        nss+=1\n",
    "        return phaset[phastr]\n",
    "    with open(\"NET-BJH.xml\",'r',encoding='utf-8') as file:\n",
    "        with open(\"NET-BJH0.xml\",'w',encoding='utf-8') as out:\n",
    "            load=file.read()\n",
    "            p1,pr=load.split(\"[47, 35, 38, 28]\")\n",
    "            out.write(p1)\n",
    "            out.write('['+str(x1)+', '+str(x2)+', '+str(x3)+', '+str(x4)+']')\n",
    "            out.write(pr)\n",
    "    sim=neta(Area,'0')\n",
    "    sim=deta(sim,Area)\n",
    "    R='delay'\n",
    "    result=simula(sim,900,R,'section')\n",
    "    #vn=sim.get_vnum()\n",
    "    global ns\n",
    "    ns+=1\n",
    "    #目标函数\n",
    "    #result=sum(result)/len(result)\n",
    "    result=sum(result)\n",
    "    phaset[phastr]=result\n",
    "    return result"
   ]
  },
  {
   "cell_type": "code",
   "execution_count": 8,
   "metadata": {},
   "outputs": [],
   "source": [
    "def ABC():\n",
    "    #代价函数中参数数目和范围\n",
    "    nVar=4\n",
    "    VarMin=25\n",
    "    VarMax=50\n",
    "\n",
    "    #蜂群算法基本参数\n",
    "    iter_max=20 #最大迭代次数\n",
    "    nPop=30 #单次保存的蜜源最大数量\n",
    "    nOnLooker=30 #跟随峰数量\n",
    "    L=np.around(0.6*nVar*nPop) #蜜源抛弃上界\n",
    "    a=1 #蜜源搜索范围扩大系数\n",
    "\n",
    "    #创建各记录矩阵\n",
    "    PopPosition=np.zeros([nPop,nVar]) #蜜源位置矩阵\n",
    "    PopCost=np.zeros([nPop,1]) #蜜源代价矩阵\n",
    "    Probability=np.zeros([nPop,1]) #蜜源选择概率矩阵\n",
    "    BestSol=np.zeros([iter_max+1,nVar]) # 历史最优蜜源矩阵\n",
    "    BestCost=np.inf*np.ones([iter_max+1,1]) #历史最优蜜源位置矩阵\n",
    "    Mine=np.zeros([nPop,1]) #蜜源开采量矩阵\n",
    "\n",
    "    #初始化蜜源位置\n",
    "    PopPosition=(VarMax-VarMin)*np.random.rand(nPop,nVar)+VarMin\n",
    "    for i in range(nPop):\n",
    "        PopPosition[i]=[int(round(p)) for p in PopPosition[i]]\n",
    "        PopCost[i][0]=CostFunction(PopPosition[i])\n",
    "        if PopCost[i][0]<BestCost[0][0]:\n",
    "            BestCost[0][0]=PopCost[i][0]\n",
    "            BestSol[0]=PopPosition[i]\n",
    "\n",
    "    for iter in range(iter_max):\n",
    "        global ns\n",
    "        print(ns)\n",
    "\n",
    "        #雇佣蜂阶段\n",
    "\n",
    "        #寻找下一个蜜源\n",
    "        for i in range(nPop):\n",
    "            phi=a*np.random.rand(nVar)\n",
    "            NewPosition=VarMin+phi*(VarMax-VarMin)\n",
    "            NewPosition=[int(round(p)) for p in NewPosition]\n",
    "\n",
    "            #进行贪婪选择\n",
    "            NewCost=CostFunction(NewPosition)\n",
    "            if NewCost<PopCost[i][0]:\n",
    "                PopPosition[i]=NewPosition\n",
    "                PopCost[i][0]=NewCost\n",
    "            else:\n",
    "                Mine[i][0]=Mine[i][0]+1\n",
    "\n",
    "        #跟随蜂阶段\n",
    "\n",
    "        #计算选择概率矩阵\n",
    "        Mean=np.mean(PopCost)\n",
    "        for i in range(nPop):\n",
    "            Probability[i][0]=np.exp(-PopCost[i][0]/Mean)\n",
    "        Probability=Probability/np.sum(Probability)\n",
    "        CumProb=np.cumsum(Probability)\n",
    "\n",
    "        for k in range(nOnLooker):\n",
    "\n",
    "            #执行轮盘赌选择法\n",
    "            m=0\n",
    "            for i in range(nPop):\n",
    "                m=m+CumProb[i]\n",
    "                if m>=np.random.rand(1):\n",
    "                    break\n",
    "\n",
    "            #重复雇佣蜂操作\n",
    "            phi=a*np.random.rand(nVar)\n",
    "            NewPosition=VarMin+phi*(VarMax-VarMin)\n",
    "            NewPosition=[int(round(p)) for p in NewPosition]\n",
    "\n",
    "            #进行贪婪选择\n",
    "            NewCost=CostFunction(NewPosition)\n",
    "            if NewCost<PopCost[i][0]:\n",
    "                PopPosition[i]=NewPosition\n",
    "                PopCost[i][0]=NewCost\n",
    "            else:\n",
    "                Mine[i][0]=Mine[i][0]+1\n",
    "\n",
    "        #侦查蜂阶段\n",
    "        for i in range(nPop):\n",
    "            if Mine[i][0]>=L:\n",
    "                PopPosition[i]=(VarMax-VarMin)*np.random.rand(1,nVar)+VarMin\n",
    "                PopPosition[i]=[int(round(p)) for p in PopPosition[i]]\n",
    "                PopCost[i][0]=CostFunction(PopPosition[i])\n",
    "                Mine[i][0]=0\n",
    "\n",
    "        #保存历史最优解\n",
    "        for i in range(nPop):\n",
    "            if PopCost[i][0]<BestCost[iter+1][0]:\n",
    "                BestCost[iter+1][0]=PopCost[i][0]\n",
    "                BestSol[iter+1]=PopPosition[i]\n",
    "        \n",
    "    #输出结果\n",
    "    y=np.zeros(iter_max+1)\n",
    "    for i in range(iter_max+1):\n",
    "        print(i,BestCost[i],BestSol[i])\n",
    "        y[i]=BestCost[i][0]\n",
    "    print(min(y),BestSol[np.argmin(y)])\n",
    "    x=[i for i in range(iter_max+1)]\n",
    "    plt.plot(x,y)\n",
    "    plt.show()"
   ]
  },
  {
   "cell_type": "code",
   "execution_count": 8,
   "metadata": {},
   "outputs": [
    {
     "name": "stdout",
     "output_type": "stream",
     "text": [
      "140972.19999995054\n",
      "2964\n"
     ]
    },
    {
     "data": {
      "text/html": [
       "\n",
       "        <iframe\n",
       "            width=\"600\"\n",
       "            height=\"600\"\n",
       "            src=\"HMWT-volume-BJH+.html\"\n",
       "            frameborder=\"0\"\n",
       "            allowfullscreen\n",
       "        ></iframe>\n",
       "        "
      ],
      "text/plain": [
       "<IPython.lib.display.IFrame at 0x5b74d70>"
      ]
     },
     "execution_count": 8,
     "metadata": {},
     "output_type": "execute_result"
    }
   ],
   "source": [
    "Area=\"BJH\"\n",
    "R=\"volume\"\n",
    "sim=neta(Area)\n",
    "sim=deta(sim,Area)\n",
    "result=simula(sim,900,R)\n",
    "Result=maTrix(result)\n",
    "print(sim.get_vnum())\n",
    "Coor=coora(Area)\n",
    "visula(Result,Coor,Area,R)"
   ]
  },
  {
   "cell_type": "code",
   "execution_count": 10,
   "metadata": {},
   "outputs": [
    {
     "name": "stdout",
     "output_type": "stream",
     "text": [
      "30\n",
      "90\n",
      "150\n",
      "210\n",
      "270\n",
      "330\n",
      "390\n",
      "450\n",
      "510\n",
      "571\n",
      "631\n",
      "691\n",
      "751\n",
      "811\n",
      "872\n",
      "932\n",
      "992\n",
      "1052\n",
      "1112\n",
      "1174\n",
      "0 [83608.81637661] [35. 26. 49. 28.]\n",
      "1 [81575.03859474] [46. 27. 46. 30.]\n",
      "2 [81575.03859474] [46. 27. 46. 30.]\n",
      "3 [81575.03859474] [46. 27. 46. 30.]\n",
      "4 [81575.03859474] [46. 27. 46. 30.]\n",
      "5 [81575.03859474] [46. 27. 46. 30.]\n",
      "6 [78900.667176] [41. 27. 47. 25.]\n",
      "7 [78900.667176] [41. 27. 47. 25.]\n",
      "8 [78900.667176] [41. 27. 47. 25.]\n",
      "9 [78900.667176] [41. 27. 47. 25.]\n",
      "10 [78900.667176] [41. 27. 47. 25.]\n",
      "11 [78900.667176] [41. 27. 47. 25.]\n",
      "12 [78900.667176] [41. 27. 47. 25.]\n",
      "13 [78900.667176] [41. 27. 47. 25.]\n",
      "14 [78900.667176] [41. 27. 47. 25.]\n",
      "15 [78900.667176] [41. 27. 47. 25.]\n",
      "16 [75165.87670617] [44. 26. 48. 27.]\n",
      "17 [75165.87670617] [44. 26. 48. 27.]\n",
      "18 [75165.87670617] [44. 26. 48. 27.]\n",
      "19 [75165.87670617] [44. 26. 48. 27.]\n",
      "20 [75165.87670617] [44. 26. 48. 27.]\n",
      "75165.87670616529 [44. 26. 48. 27.]\n"
     ]
    },
    {
     "data": {
      "image/png": "[encoded data removed]",
      "text/plain": [
       "<Figure size 432x288 with 1 Axes>"
      ]
     },
     "metadata": {
      "needs_background": "light"
     },
     "output_type": "display_data"
    },
    {
     "name": "stdout",
     "output_type": "stream",
     "text": [
      "1234 2\n",
      "Wall time: 2min 52s\n"
     ]
    }
   ],
   "source": [
    "%%time\n",
    "phaset={}\n",
    "ns=0\n",
    "nss=0\n",
    "ABC()\n",
    "print(ns,nss)"
   ]
  },
  {
   "cell_type": "code",
   "execution_count": 11,
   "metadata": {},
   "outputs": [
    {
     "data": {
      "text/plain": [
       "1234"
      ]
     },
     "execution_count": 11,
     "metadata": {},
     "output_type": "execute_result"
    }
   ],
   "source": [
    "from collections import Counter\n",
    "a=phaset.keys()\n",
    "b=Counter(a)\n",
    "len(b)"
   ]
  },
  {
   "cell_type": "code",
   "execution_count": null,
   "metadata": {},
   "outputs": [],
   "source": []
  }
 ],
 "metadata": {
  "kernelspec": {
   "display_name": "Python 3",
   "language": "python",
   "name": "python3"
  },
  "language_info": {
   "codemirror_mode": {
    "name": "ipython",
    "version": 3
   },
   "file_extension": ".py",
   "mimetype": "text/x-python",
   "name": "python",
   "nbconvert_exporter": "python",
   "pygments_lexer": "ipython3",
   "version": "3.7.0"
  }
 },
 "nbformat": 4,
 "nbformat_minor": 4
}
