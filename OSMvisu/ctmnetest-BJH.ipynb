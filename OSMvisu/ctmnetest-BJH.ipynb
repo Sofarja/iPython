{
 "cells": [
  {
   "cell_type": "markdown",
   "metadata": {},
   "source": [
    "### 导入运行程序，建立路网、交叉口信号灯，设置到达离去"
   ]
  },
  {
   "cell_type": "code",
   "execution_count": 1,
   "metadata": {},
   "outputs": [],
   "source": [
    "from ctmnet2.simulation import Simulator\n",
    "from ctmnet2.networkcreation import create_from_xml\n",
    "\n",
    "def neta(Area=\"\",Ver=\"\"):\n",
    "    U=[1,2,3,4]\n",
    "    D=[5,6,7,8]\n",
    "    sim = create_from_xml(\"NET-\"+Area+Ver+\".xml\")\n",
    "    sim.set_arrival(str(U[0]),1412*4)\n",
    "    sim.set_departure(str(D[0]),1412*4)\n",
    "    sim.set_arrival(str(U[1]),1412*3)\n",
    "    sim.set_departure(str(D[1]),1412*3)\n",
    "    sim.set_arrival(str(U[2]),1412*3)\n",
    "    sim.set_departure(str(D[2]),1412*3)\n",
    "    sim.set_arrival(str(U[3]),1412*3)\n",
    "    sim.set_departure(str(D[3]),1412*3)\n",
    "    return sim"
   ]
  },
  {
   "cell_type": "markdown",
   "metadata": {},
   "source": [
    "### 路灯检测数据输入"
   ]
  },
  {
   "cell_type": "code",
   "execution_count": 2,
   "metadata": {},
   "outputs": [],
   "source": [
    "import xml.etree.ElementTree as ET\n",
    "import re\n",
    "\n",
    "def deta(sim,Area=\"\"):\n",
    "    sec_tree=ET.parse(\"sec_det-\"+Area+\".xml\")\n",
    "    det_tree=ET.parse(\"detectors-\"+Area+\".xml\")\n",
    "    secs=sec_tree.getroot()\n",
    "    dets=det_tree.getroot()\n",
    "    for sec in secs.iter('section'):\n",
    "        sec_id=sec.attrib['id']\n",
    "        det_id=re.findall(r\"\\d+\",sec.find('detectors').text)\n",
    "        #print(sec_id,det_id)\n",
    "        n=0\n",
    "        for i in det_id:\n",
    "            for det in dets.iter('detector'):\n",
    "                if det.attrib['id']==i:\n",
    "                    vol=float(det.find('volume').text)\n",
    "                    sim.sections[sec_id].cells[int(n)].volume=vol\n",
    "                    n=n+1\n",
    "    return sim"
   ]
  },
  {
   "cell_type": "markdown",
   "metadata": {},
   "source": [
    "### 开始仿真"
   ]
  },
  {
   "cell_type": "code",
   "execution_count": 3,
   "metadata": {},
   "outputs": [],
   "source": [
    "def simula(sim,T=600,R='volume',S='cell'):\n",
    "    result=[]\n",
    "    r=[]\n",
    "    s=0\n",
    "    for i in range(T):\n",
    "        r=[]\n",
    "        s=0\n",
    "        sim.run_single_step()\n",
    "        if R=='volume':\n",
    "            V=sim.get_volume(S)\n",
    "        elif R=='density':\n",
    "            V=sim.get_density(S)\n",
    "        elif R=='velocity':\n",
    "            V=sim.get_velocity(S)\n",
    "        elif R=='occupancy':\n",
    "            V=sim.get_occupancy(S)\n",
    "        elif R=='delay':\n",
    "            V=sim.get_delay(S)\n",
    "        if S=='cell':\n",
    "            for j in range(1,9):\n",
    "                t=[]\n",
    "                for k in range(len(V[str(j)])):\n",
    "                    t.append(V[str(j)][k])\n",
    "                r=r+[round(i,1) for i in t]\n",
    "            result.append(r)\n",
    "        elif S=='section':\n",
    "            for j in range(1,9):\n",
    "                s=s+V[str(j)]\n",
    "            result.append(s)\n",
    "    return result"
   ]
  },
  {
   "cell_type": "markdown",
   "metadata": {},
   "source": [
    "### 矩阵转置并输出当前指标"
   ]
  },
  {
   "cell_type": "code",
   "execution_count": 4,
   "metadata": {},
   "outputs": [],
   "source": [
    "def maTrix(matrix):\n",
    "    T=[]\n",
    "    tr=0\n",
    "    for i in range(len(matrix[0])):\n",
    "        t=[]\n",
    "        for j in range(len(matrix)):\n",
    "            t.append(matrix[j][i])\n",
    "            tr+=matrix[j][i]\n",
    "        T.append(t)\n",
    "    print(tr)\n",
    "    return T"
   ]
  },
  {
   "cell_type": "markdown",
   "metadata": {},
   "source": [
    "### 提取路网中各路段元胞坐标"
   ]
  },
  {
   "cell_type": "code",
   "execution_count": 5,
   "metadata": {},
   "outputs": [],
   "source": [
    "import xml.etree.ElementTree as ET\n",
    "import re\n",
    "\n",
    "def coora(Area=\"\"):\n",
    "    tree = ET.parse(\"NET-\"+Area+\".xml\")\n",
    "    root = tree.getroot()\n",
    "    para = 'coordinates'\n",
    "    coordinates=[]\n",
    "    for sec in root.iter('section'):\n",
    "        sec_id = sec.attrib['id']\n",
    "        coors = re.findall(r\"(\\d+\\.?\\d*, \\d+\\.?\\d*)\",sec.find(para).text)\n",
    "        COORS = []\n",
    "        COOR = []\n",
    "        for coor in coors:\n",
    "            COOR = coor.split(',')\n",
    "            COOR[0] = float(COOR[0])\n",
    "            COOR[1] = float(COOR[1])\n",
    "            COORS.append(COOR)\n",
    "        coordinates.extend(COORS)\n",
    "    return coordinates"
   ]
  },
  {
   "cell_type": "markdown",
   "metadata": {},
   "source": [
    "### 仿真后生成HTML文件"
   ]
  },
  {
   "cell_type": "code",
   "execution_count": 6,
   "metadata": {},
   "outputs": [],
   "source": [
    "import webbrowser\n",
    "from IPython.display import IFrame\n",
    "\n",
    "def visula(Matrix,Coor,Area=\"\",R=\"\"):\n",
    "    with open(\"HMWT-\"+R+\"-\"+Area+\".html\",'r',encoding='utf-8') as file:\n",
    "        with open(\"HMWT-\"+R+\"-\"+Area+\"+.html\",'w',encoding='utf-8') as out:\n",
    "            load=file.read()\n",
    "            p1,pr=load.split(\"元胞坐标\")\n",
    "            out.write(p1+'\\n')\n",
    "            for coor in Coor:\n",
    "                out.write('{\"lat\":'+str(coor[0])+',\"lng\":'+str(coor[1])+'},\\n')\n",
    "            p2,pr=pr.split(\"元胞流量数据\")\n",
    "            out.write(p2+'\\n')\n",
    "            for t in Matrix:\n",
    "                out.write(str(t)+',\\n')\n",
    "            out.write(pr)\n",
    "\n",
    "    return IFrame(src='HMWT-'+R+\"-\"+Area+'+.html', width=600, height=600)"
   ]
  },
  {
   "cell_type": "code",
   "execution_count": 7,
   "metadata": {},
   "outputs": [],
   "source": [
    "import numpy as np\n",
    "import matplotlib.pyplot as plt\n",
    "#定义待优化函数：只能处理行向量形式的单个输入，若有矩阵形式的多个输入应当进行迭代\n",
    "def CostFunction(x):\n",
    "    '''x1=int(round(x[0]))\n",
    "    x2=int(round(x[1]))\n",
    "    x3=int(round(x[2]))\n",
    "    x4=int(round(x[3]))'''\n",
    "    x1=int(x[0])\n",
    "    x2=int(x[1])\n",
    "    x3=int(x[2])\n",
    "    x4=int(x[3])\n",
    "    phastr=str(x1)+' '+str(x2)+' '+str(x3)+' '+str(x4)\n",
    "    global phaset\n",
    "    global nss\n",
    "    if phastr in phaset.keys():\n",
    "        nss+=1\n",
    "        return phaset[phastr]\n",
    "    with open(\"NET-BJH.xml\",'r',encoding='utf-8') as file:\n",
    "        with open(\"NET-BJH0.xml\",'w',encoding='utf-8') as out:\n",
    "            load=file.read()\n",
    "            p1,pr=load.split(\"[47, 35, 38, 28]\")\n",
    "            out.write(p1)\n",
    "            out.write('['+str(x1)+', '+str(x2)+', '+str(x3)+', '+str(x4)+']')\n",
    "            out.write(pr)\n",
    "    sim=neta(Area,'0')\n",
    "    sim=deta(sim,Area)\n",
    "    R='delay'\n",
    "    result=simula(sim,900,R,'section')\n",
    "    global ns\n",
    "    ns+=1\n",
    "    #目标函数\n",
    "    #result=sum(result)/len(result)\n",
    "    result=sum(result)\n",
    "    phaset[phastr]=result\n",
    "    return result"
   ]
  },
  {
   "cell_type": "code",
   "execution_count": 8,
   "metadata": {},
   "outputs": [],
   "source": [
    "def ABC():\n",
    "    #代价函数中参数数目和范围\n",
    "    nVar=4\n",
    "    VarMin=25\n",
    "    VarMax=50\n",
    "\n",
    "    #蜂群算法基本参数\n",
    "    iter_max=20 #最大迭代次数\n",
    "    nPop=20 #单次保存的蜜源最大数量\n",
    "    nOnLooker=20 #跟随峰数量\n",
    "    L=np.around(0.6*nVar*nPop) #蜜源抛弃上界\n",
    "    a=1 #蜜源搜索范围扩大系数\n",
    "\n",
    "    #创建各记录矩阵\n",
    "    PopPosition=np.zeros([nPop,nVar]) #蜜源位置矩阵\n",
    "    PopCost=np.zeros([nPop,1]) #蜜源代价矩阵\n",
    "    Probability=np.zeros([nPop,1]) #蜜源选择概率矩阵\n",
    "    BestSol=np.zeros([iter_max+1,nVar]) # 历史最优蜜源矩阵\n",
    "    BestCost=np.inf*np.ones([iter_max+1,1]) #历史最优蜜源位置矩阵\n",
    "    Mine=np.zeros([nPop,1]) #蜜源开采量矩阵\n",
    "\n",
    "    #初始化蜜源位置\n",
    "    PopPosition=(VarMax-VarMin)*np.random.rand(nPop,nVar)+VarMin\n",
    "    for i in range(nPop):\n",
    "        PopPosition[i]=[int(round(p)) for p in PopPosition[i]]\n",
    "        PopCost[i][0]=CostFunction(PopPosition[i])\n",
    "        if PopCost[i][0]<BestCost[0][0]:\n",
    "            BestCost[0][0]=PopCost[i][0]\n",
    "            BestSol[0]=PopPosition[i]\n",
    "\n",
    "    for iter in range(iter_max):\n",
    "        global ns\n",
    "        print(ns)\n",
    "\n",
    "        #雇佣蜂阶段\n",
    "\n",
    "        #寻找下一个蜜源\n",
    "        for i in range(nPop):\n",
    "            phi=a*np.random.rand(nVar)\n",
    "            NewPosition=VarMin+phi*(VarMax-VarMin)\n",
    "            NewPosition=[int(round(p)) for p in NewPosition]\n",
    "\n",
    "            #进行贪婪选择\n",
    "            NewCost=CostFunction(NewPosition)\n",
    "            if NewCost<PopCost[i][0]:\n",
    "                PopPosition[i]=NewPosition\n",
    "                PopCost[i][0]=NewCost\n",
    "            else:\n",
    "                Mine[i][0]=Mine[i][0]+1\n",
    "\n",
    "        #跟随蜂阶段\n",
    "\n",
    "        #计算选择概率矩阵\n",
    "        Mean=np.mean(PopCost)\n",
    "        for i in range(nPop):\n",
    "            Probability[i][0]=np.exp(-PopCost[i][0]/Mean)\n",
    "        Probability=Probability/np.sum(Probability)\n",
    "        CumProb=np.cumsum(Probability)\n",
    "\n",
    "        for k in range(nOnLooker):\n",
    "\n",
    "            #执行轮盘赌选择法\n",
    "            m=0\n",
    "            for i in range(nPop):\n",
    "                m=m+CumProb[i]\n",
    "                if m>=np.random.rand(1):\n",
    "                    break\n",
    "\n",
    "            #重复雇佣蜂操作\n",
    "            phi=a*np.random.rand(nVar)\n",
    "            NewPosition=VarMin+phi*(VarMax-VarMin)\n",
    "            NewPosition=[int(round(p)) for p in NewPosition]\n",
    "\n",
    "            #进行贪婪选择\n",
    "            NewCost=CostFunction(NewPosition)\n",
    "            if NewCost<PopCost[i][0]:\n",
    "                PopPosition[i]=NewPosition\n",
    "                PopCost[i][0]=NewCost\n",
    "            else:\n",
    "                Mine[i][0]=Mine[i][0]+1\n",
    "\n",
    "        #侦查蜂阶段\n",
    "        for i in range(nPop):\n",
    "            if Mine[i][0]>=L:\n",
    "                PopPosition[i]=(VarMax-VarMin)*np.random.rand(1,nVar)+VarMin\n",
    "                PopPosition[i]=[int(round(p)) for p in PopPosition[i]]\n",
    "                PopCost[i][0]=CostFunction(PopPosition[i])\n",
    "                Mine[i][0]=0\n",
    "\n",
    "        #保存历史最优解\n",
    "        for i in range(nPop):\n",
    "            if PopCost[i][0]<BestCost[iter+1][0]:\n",
    "                BestCost[iter+1][0]=PopCost[i][0]\n",
    "                BestSol[iter+1]=PopPosition[i]\n",
    "        \n",
    "    #输出结果\n",
    "    y=np.zeros(iter_max+1)\n",
    "    for i in range(iter_max+1):\n",
    "        print(i,BestCost[i],BestSol[i])\n",
    "        y[i]=BestCost[i][0]\n",
    "    print(min(y),BestSol[np.argmin(y)])\n",
    "    x=[i for i in range(iter_max+1)]\n",
    "    plt.plot(x,y)\n",
    "    plt.show()"
   ]
  },
  {
   "cell_type": "code",
   "execution_count": 9,
   "metadata": {},
   "outputs": [
    {
     "name": "stdout",
     "output_type": "stream",
     "text": [
      "9713.40000000003\n"
     ]
    },
    {
     "data": {
      "text/html": [
       "\n",
       "        <iframe\n",
       "            width=\"600\"\n",
       "            height=\"600\"\n",
       "            src=\"HMWT-delay-BJH+.html\"\n",
       "            frameborder=\"0\"\n",
       "            allowfullscreen\n",
       "        ></iframe>\n",
       "        "
      ],
      "text/plain": [
       "<IPython.lib.display.IFrame at 0x597cff0>"
      ]
     },
     "execution_count": 9,
     "metadata": {},
     "output_type": "execute_result"
    }
   ],
   "source": [
    "Area=\"BJH\"\n",
    "R=\"delay\"\n",
    "sim=neta(Area)\n",
    "sim=deta(sim,Area)\n",
    "result=simula(sim,900,R)\n",
    "Result=maTrix(result)\n",
    "Coor=coora(Area)\n",
    "visula(Result,Coor,Area,R)"
   ]
  },
  {
   "cell_type": "code",
   "execution_count": 10,
   "metadata": {},
   "outputs": [
    {
     "name": "stdout",
     "output_type": "stream",
     "text": [
      "20\n",
      "60\n",
      "100\n",
      "140\n",
      "180\n",
      "220\n",
      "260\n",
      "300\n",
      "341\n",
      "381\n",
      "422\n",
      "464\n",
      "504\n",
      "544\n",
      "584\n",
      "624\n",
      "665\n",
      "705\n",
      "745\n",
      "785\n",
      "0 [9433.13813479] [48. 38. 42. 41.]\n",
      "1 [8190.51118147] [48. 36. 50. 42.]\n",
      "2 [8190.51118147] [48. 36. 50. 42.]\n",
      "3 [8190.51118147] [48. 36. 50. 42.]\n",
      "4 [8190.51118147] [48. 36. 50. 42.]\n",
      "5 [8190.51118147] [48. 36. 50. 42.]\n",
      "6 [8190.51118147] [48. 36. 50. 42.]\n",
      "7 [8190.51118147] [48. 36. 50. 42.]\n",
      "8 [8072.04007856] [50. 45. 48. 32.]\n",
      "9 [8072.04007856] [50. 45. 48. 32.]\n",
      "10 [8072.04007856] [50. 45. 48. 32.]\n",
      "11 [8072.04007856] [50. 45. 48. 32.]\n",
      "12 [8072.04007856] [50. 45. 48. 32.]\n",
      "13 [8072.04007856] [50. 45. 48. 32.]\n",
      "14 [8072.04007856] [50. 45. 48. 32.]\n",
      "15 [8072.04007856] [50. 45. 48. 32.]\n",
      "16 [8072.04007856] [50. 45. 48. 32.]\n",
      "17 [8072.04007856] [50. 45. 48. 32.]\n",
      "18 [8072.04007856] [50. 45. 48. 32.]\n",
      "19 [8072.04007856] [50. 45. 48. 32.]\n",
      "20 [8072.04007856] [50. 45. 48. 32.]\n",
      "8072.040078561646 [50. 45. 48. 32.]\n"
     ]
    },
    {
     "data": {
      "image/png": "[encoded data removed]",
      "text/plain": [
       "<Figure size 432x288 with 1 Axes>"
      ]
     },
     "metadata": {
      "needs_background": "light"
     },
     "output_type": "display_data"
    },
    {
     "name": "stdout",
     "output_type": "stream",
     "text": [
      "826 0\n",
      "Wall time: 2min 1s\n"
     ]
    }
   ],
   "source": [
    "%%time\n",
    "phaset={}\n",
    "ns=0\n",
    "nss=0\n",
    "ABC()\n",
    "print(ns,nss)"
   ]
  },
  {
   "cell_type": "code",
   "execution_count": 11,
   "metadata": {},
   "outputs": [
    {
     "data": {
      "text/plain": [
       "826"
      ]
     },
     "execution_count": 11,
     "metadata": {},
     "output_type": "execute_result"
    }
   ],
   "source": [
    "from collections import Counter\n",
    "a=phaset.keys()\n",
    "b=Counter(a)\n",
    "len(b)"
   ]
  },
  {
   "cell_type": "code",
   "execution_count": null,
   "metadata": {},
   "outputs": [],
   "source": []
  }
 ],
 "metadata": {
  "kernelspec": {
   "display_name": "Python 3",
   "language": "python",
   "name": "python3"
  },
  "language_info": {
   "codemirror_mode": {
    "name": "ipython",
    "version": 3
   },
   "file_extension": ".py",
   "mimetype": "text/x-python",
   "name": "python",
   "nbconvert_exporter": "python",
   "pygments_lexer": "ipython3",
   "version": "3.7.0"
  }
 },
 "nbformat": 4,
 "nbformat_minor": 4
}
