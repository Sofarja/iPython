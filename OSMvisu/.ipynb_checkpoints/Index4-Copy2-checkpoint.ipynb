{
 "cells": [
  {
   "cell_type": "code",
   "execution_count": 29,
   "metadata": {},
   "outputs": [
    {
     "name": "stdout",
     "output_type": "stream",
     "text": [
      "Requirement already up-to-date: folium in d:\\python\\lib\\site-packages (0.10.1)\n",
      "Requirement already satisfied, skipping upgrade: branca>=0.3.0 in d:\\python\\lib\\site-packages (from folium) (0.3.1)\n",
      "Requirement already satisfied, skipping upgrade: numpy in d:\\python\\lib\\site-packages (from folium) (1.18.1)\n",
      "Requirement already satisfied, skipping upgrade: requests in d:\\python\\lib\\site-packages (from folium) (2.22.0)\n",
      "Requirement already satisfied, skipping upgrade: jinja2>=2.9 in d:\\python\\lib\\site-packages (from folium) (2.10.3)\n",
      "Requirement already satisfied, skipping upgrade: six in d:\\python\\lib\\site-packages (from branca>=0.3.0->folium) (1.14.0)\n",
      "Requirement already satisfied, skipping upgrade: certifi>=2017.4.17 in d:\\python\\lib\\site-packages (from requests->folium) (2019.11.28)\n",
      "Requirement already satisfied, skipping upgrade: idna<2.9,>=2.5 in d:\\python\\lib\\site-packages (from requests->folium) (2.8)\n",
      "Requirement already satisfied, skipping upgrade: urllib3!=1.25.0,!=1.25.1,<1.26,>=1.21.1 in d:\\python\\lib\\site-packages (from requests->folium) (1.25.8)\n",
      "Requirement already satisfied, skipping upgrade: chardet<3.1.0,>=3.0.2 in d:\\python\\lib\\site-packages (from requests->folium) (3.0.4)\n",
      "Requirement already satisfied, skipping upgrade: MarkupSafe>=0.23 in d:\\python\\lib\\site-packages (from jinja2>=2.9->folium) (1.1.1)\n",
      "Note: you may need to restart the kernel to use updated packages.\n"
     ]
    }
   ],
   "source": [
    "pip install -U folium"
   ]
  },
  {
   "cell_type": "code",
   "execution_count": 3,
   "metadata": {},
   "outputs": [
    {
     "name": "stdout",
     "output_type": "stream",
     "text": [
      "ok\n"
     ]
    }
   ],
   "source": [
    "from folium import plugins\n",
    "from folium.plugins import HeatMap\n",
    "import folium\n",
    "import os\n",
    "m = folium.Map([31.8978677, 118.7601263], zoom_start=10)\n",
    "P=[(31.9144045, 118.844825), (31.9145975, 118.8447214), (31.913614, 118.8424507), (31.9135673, 118.8423102), (31.9137435, 118.8422515), (31.9137221, 118.8421872), (31.9137909, 118.8423298), (31.9124163, 118.8386119), (31.9125212, 118.8385742), (31.9121891, 118.8367086), (31.911965, 118.8350022), (31.9120624, 118.8349727), (31.9120616, 118.8349589), (31.9117771, 118.8313818), (31.9118526, 118.8313749), (31.9115372, 118.827813), (31.9116532, 118.8278092), (31.9115074, 118.8247118), (31.9113112, 118.8245725), (31.9114802, 118.8245342), (31.9111344, 118.8243689), (31.9112437, 118.8220944), (31.9109705, 118.8212361), (31.9100233, 118.8184251), (31.9098138, 118.8181263), (31.9090215, 118.8157643), (31.9084877, 118.8146257), (31.9076736, 118.812889), (31.907261, 118.8120433), (31.906881, 118.8112643), (31.9066525, 118.8108171), (31.904923, 118.8072671), (31.904504, 118.8058724), (31.9044129, 118.8045796)]\n",
    "\n",
    "for point in P:\n",
    "    folium.CircleMarker(\n",
    "        radius=10,\n",
    "        location=point,\n",
    "        color='#3388ff',\n",
    "        fill=True,\n",
    "        fill_color='#3388ff'\n",
    "    ).add_to(m)\n",
    "\n",
    "m.save( 'Heatmap3+.html')\n",
    "print(\"ok\")"
   ]
  },
  {
   "cell_type": "code",
   "execution_count": 2,
   "metadata": {},
   "outputs": [],
   "source": [
    "import os\n",
    "import folium\n",
    "\n",
    "data=[[ 39.90403 , 116.407526 , 23014.59 ] , [ 39.084158 , 117.200983 , 16538.19 ] , [ 38.042309 , 114.514862 , 5440.6 ] , [ 37.87059 , 112.548879 , 2735.34 ] , [ 40.842585 , 111.74918 , 3090.52 ] , [ 41.805698 , 123.431474 , 7272.31 ] , [ 38.914003 , 121.614682 , 7731.64 ] , [ 43.817071 , 125.323544 , 5530.03 ] , [ 45.803775 , 126.534967 , 5751.21 ] , [ 31.230416 , 121.473701 , 25123.45 ] , [ 32.060255 , 118.796877 , 9720.77 ] , [ 30.274084 , 120.15507 , 10050.21 ] , [ 29.874556 , 121.550357 , 8003.61 ] , [ 31.820586 , 117.227239 , 5660.27 ] , [ 26.074507 , 119.296494 , 5618.08 ] , [ 24.479833 , 118.089425 , 3466.03 ] , [ 28.682892 , 115.858197 , 4000.01 ] , [ 36.651216 , 117.119999 , 6100.23 ] , [ 36.067082 , 120.382639 , 9300.07 ] , [ 34.746599 , 113.625368 , 7311.52 ] , [ 30.593098 , 114.305392 , 10905.6 ] , [ 28.228209 , 112.938814 , 8510.13 ] , [ 23.129162 , 113.264434 , 18100.41 ] , [ 22.543099 , 114.057868 , 17502.86 ] , [ 22.817002 , 108.366543 , 3410.09 ] , [ 20.044001 , 110.198293 , 1161.96 ] , [ 29.563009 , 106.551556 , 15717.27 ] , [ 30.572269 , 104.066541 , 10801.16 ] , [ 26.647661 , 106.630153 , 2891.16 ] , [ 24.880095 , 102.832891 , 3968.01 ] , [ 29.645554 , 91.140856 , 376.73 ] , [ 34.341568 , 108.940174 , 5801.2 ] , [ 36.061089 , 103.834303 , 2095.99 ] , [ 36.617144 , 101.778228 , 1131.62 ] , [ 38.487193 , 106.230909 , 1493.86 ] , [ 43.825592 , 87.616848 , 2631.64 ] ] #data = (np.random.normal(size=(100, 3)) * # np.array([[1, 1, 1]]) + # np.array([[48, 5, 1]])).tolist()\n",
    "\n",
    "from folium.plugins import HeatMap\n",
    "\n",
    "m = folium.Map([ 33., 113.], tiles='stamentoner', zoom_start=5)\n",
    "\n",
    "HeatMap(data).add_to(m)\n",
    "\n",
    "m.save('Heatmap.html')"
   ]
  },
  {
   "cell_type": "code",
   "execution_count": 3,
   "metadata": {},
   "outputs": [
    {
     "name": "stdout",
     "output_type": "stream",
     "text": [
      "ok\n"
     ]
    }
   ],
   "source": [
    "import numpy as np\n",
    "import pandas as pd\n",
    "import folium\n",
    "import webbrowser\n",
    "from folium.plugins import HeatMap\n",
    "\n",
    "df = pd.read_csv(\"PM25-20180101.csv\")\n",
    "# 获取数据个数\n",
    "num = df.shape[0]\n",
    "# 获取纬度\n",
    "lat = np.array(df[\"lat\"][0:num])\n",
    "# 获取经度\n",
    "lon = np.array(df[\"lon\"][0:num])\n",
    "# 获取PM2.5，转化为numpy浮点型\n",
    "pm25 = np.array(df[\"PM25\"][0:num],dtype=float)\n",
    "# 将数据制作成[lats, lons, weights]的形式\n",
    "data1 = [[lat[i], lon[i], pm25[i]] for i in range(num)]\n",
    "# 绘制Map，中心经纬度[32, 120],开始缩放程度是5倍\n",
    "map_osm = folium.Map(location=[32,120], zoom_start=5)\n",
    "# 将热力图添加到前面建立的map里\n",
    "HeatMap(data1).add_to(map_osm)\n",
    "print(\"ok\")\n",
    "\n",
    "map_osm.save(\"Heatmapx.html\")"
   ]
  },
  {
   "cell_type": "code",
   "execution_count": 91,
   "metadata": {},
   "outputs": [
    {
     "data": {
      "text/html": [
       "<div style=\"width:100%;\"><div style=\"position:relative;width:100%;height:0;padding-bottom:60%;\"><iframe src=\"data:text/html;charset=utf-8;base64,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\" style=\"position:absolute;width:100%;height:100%;left:0;top:0;border:none !important;\" allowfullscreen webkitallowfullscreen mozallowfullscreen></iframe></div></div>"
      ],
      "text/plain": [
       "<folium.folium.Map at 0x66e1c70>"
      ]
     },
     "execution_count": 91,
     "metadata": {},
     "output_type": "execute_result"
    }
   ],
   "source": [
    "import folium\n",
    "import numpy as np\n",
    "from folium.plugins import HeatMap\n",
    "\n",
    "data = (np.random.normal(size=(100, 3)) *\n",
    "        np.array([[1, 1, 1]]) +\n",
    "        np.array([[48, 5, 1]])).tolist()\n",
    "\n",
    "m = folium.Map([48., 5.], tiles='stamentoner', zoom_start=6)\n",
    "\n",
    "HeatMap(data).add_to(m)\n",
    "\n",
    "m"
   ]
  },
  {
   "cell_type": "code",
   "execution_count": 33,
   "metadata": {},
   "outputs": [
    {
     "name": "stdout",
     "output_type": "stream",
     "text": [
      "1 200 12 0 14\n",
      "110 120 130 140 150\n",
      "1 200 12 0 14\n",
      "110 120 130 140 150\n",
      "ok\n",
      "1 200 12 0 14\n",
      "110 120 130 140 150\n",
      "ok\n",
      "1 200 12 0 14\n",
      "1 200 12 0 14\n",
      "ok\n",
      "ok1\n"
     ]
    }
   ],
   "source": [
    "from xml.etree.ElementTree import ElementTree,Element\n",
    "import numpy as np\n",
    "import pandas as pd\n",
    "from pandas.tseries.offsets import *\n",
    "import folium\n",
    "import webbrowser as web\n",
    "from ipywidgets import interact\n",
    "from folium.plugins import HeatMap\n",
    "from folium.plugins import HeatMapWithTime\n",
    "\n",
    "def read_xml(in_path):\n",
    "    tree = ElementTree()\n",
    "    tree.parse(in_path)\n",
    "    return tree\n",
    "\n",
    "def find_nodes(tree, path):\n",
    "    return tree.findall(path)\n",
    "\n",
    "def if_match(node, kv_map):\n",
    "    for key in kv_map:\n",
    "        if node.get(key) != kv_map.get(key):\n",
    "            return False\n",
    "    return True\n",
    "\n",
    "def get_node_by_keyvalue(nodelist, kv_map):\n",
    "    result_nodes = []\n",
    "    for node in nodelist:\n",
    "        if if_match(node, kv_map):\n",
    "            result_nodes.append(node)\n",
    "    return result_nodes\n",
    "\n",
    "def show_value_by_path(nodelist, tag, kv_map):\n",
    "    rlt = []\n",
    "    for parent_node in nodelist:\n",
    "        children = list(parent_node)\n",
    "        if children[0].text == kv_map:\n",
    "            for child in children:\n",
    "                print(child.tag+\"  \"+child.text)\n",
    "        \n",
    "if __name__ == \"__main__\":\n",
    "    \n",
    "    #读取xml\n",
    "    tree = read_xml(\"example.res\")\n",
    "    \n",
    "    #按空间筛选\n",
    "    nodelist = find_nodes(tree, \"section\")\n",
    "    result_nodes = get_node_by_keyvalue(nodelist, {\"id\": \"0\"})\n",
    "    \n",
    "    #按时间筛选\n",
    "    test_nodes = find_nodes(tree, \"section/result\")\n",
    "    final_nodes = get_node_by_keyvalue(test_nodes, {\"time\": \"1\"})\n",
    "    \n",
    "    #全部输出\n",
    "    for parent_node in nodelist:\n",
    "        children = list(parent_node)\n",
    "        for child in children:\n",
    "            print(child.text)\n",
    "    print(\"ok\")\n",
    "    \n",
    "    #按空间输出\n",
    "    for parent_node in result_nodes:\n",
    "        children = list(parent_node)\n",
    "        for child in children:\n",
    "            print(child.text)\n",
    "    print(\"ok\")\n",
    "    \n",
    "    #按时间输出\n",
    "    for child in final_nodes:\n",
    "        print(child.text)\n",
    "        density = list(map(int, child.text.split()))\n",
    "    print(\"ok\")\n",
    "    \n",
    "    p = [(31.8980388, 118.7607598), (31.8980485, 118.7632792), (31.8980553, 118.7650395), (31.8982193, 118.7658549), (31.8983996, 118.7667379)]\n",
    "    #p = [('2020-03-13',31.8980388, 118.7607598), ('2020-03-13',31.8980485, 118.7632792), ('2020-03-14',31.8980553, 118.7650395), ('2020-03-14',31.8982193, 118.7658549), ('2020-03-14',31.8983996, 118.7667379)]\n",
    "    #将数据制作成[lats,lons,density]的形式\n",
    "    #data1 = [[p[i][0], p[i][1], density[i]] for i in range(5)]\n",
    "    data1 = [[p[i][0], p[i][1]] for i in range(5)]\n",
    "    #date_list = ['20200313','20200314','20200315','20200316','20200317']\n",
    "    #t=pd.to_datetime(time)\n",
    "    #print(t)\n",
    "    #t=[1,2,3,4,5]\n",
    "    \n",
    "    map_osm = folium.Map(location=[31.8980388, 118.7607598], tiles='Stamen Toner', zoom_start=5, control_scale=True)\n",
    "    \n",
    "    #将热力图添加到前面建立的map里\n",
    "    HeatMap(data1).add_to(map_osm)\n",
    "    print(\"ok1\")\n",
    "    \n",
    "    \n",
    "    #HeatMapWithTime(data1, t).add_to(map_osm)\n",
    "    #print(\"ok2\")\n",
    "    \n",
    "    #为地图对象添加点击显示经纬度和标注（双击可取消标注）的子功能\n",
    "    #map_osm.add_child(folium.LatLngPopup())\n",
    "    #map_osm.add_child(folium.ClickForMarker())\n",
    "\n",
    "    map_osm.save(\"Heatmapx.html\")\n",
    "    web.open('Heatmapx.html')\n",
    "  "
   ]
  },
  {
   "cell_type": "code",
   "execution_count": 11,
   "metadata": {},
   "outputs": [
    {
     "name": "stdout",
     "output_type": "stream",
     "text": [
      "3.7.0 (v3.7.0:1bf9cc5093, Jun 27 2018, 04:06:47) [MSC v.1914 32 bit (Intel)]\n",
      "d:\\python\\python.exe\n"
     ]
    }
   ],
   "source": [
    "import sys\n",
    "\n",
    "print(sys.version)\n",
    "\n",
    "print(sys.executable)"
   ]
  },
  {
   "cell_type": "code",
   "execution_count": 1,
   "metadata": {},
   "outputs": [
    {
     "name": "stdout",
     "output_type": "stream",
     "text": [
      "[[[31.8980388, 118.7607598, 0.4], [31.8980485, 118.7632792, 0.5]], [[31.8980553, 118.7650395, 0.4], [31.8982193, 118.7658549, 0.9]], [[31.8980388, 118.7607598, 0.4], [31.8983996, 118.7667379, 0.8]]]\n"
     ]
    },
    {
     "data": {
      "text/html": [
       "<div style=\"width:100%;\"><div style=\"position:relative;width:100%;height:0;padding-bottom:60%;\"><iframe src=\"data:text/html;charset=utf-8;base64,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\" style=\"position:absolute;width:100%;height:100%;left:0;top:0;border:none !important;\" allowfullscreen webkitallowfullscreen mozallowfullscreen></iframe></div></div>"
      ],
      "text/plain": [
       "<folium.folium.Map at 0x13d28db0>"
      ]
     },
     "metadata": {},
     "output_type": "display_data"
    }
   ],
   "source": [
    "import folium\n",
    "from ipywidgets import interact, interactive, fixed, interact_manual, FloatSlider\n",
    "from xml.etree.ElementTree import ElementTree,Element\n",
    "import numpy as np\n",
    "import pandas as pd\n",
    "from pandas.tseries.offsets import *\n",
    "import webbrowser as web\n",
    "from folium.plugins import HeatMap\n",
    "from folium.plugins import HeatMapWithTime\n",
    "\n",
    "def read_xml(in_path):\n",
    "    tree = ElementTree()\n",
    "    tree.parse(in_path)\n",
    "    return tree\n",
    "\n",
    "def find_nodes(tree, path):\n",
    "    return tree.findall(path)\n",
    "\n",
    "def if_match(node, kv_map):\n",
    "    for key in kv_map:\n",
    "        if node.get(key) != kv_map.get(key):\n",
    "            return False\n",
    "    return True\n",
    "\n",
    "def get_node_by_keyvalue(nodelist, kv_map):\n",
    "    result_nodes = []\n",
    "    for node in nodelist:\n",
    "        if if_match(node, kv_map):\n",
    "            result_nodes.append(node)\n",
    "    return result_nodes\n",
    "\n",
    "def show_value_by_path(nodelist, tag, kv_map):\n",
    "    rlt = []\n",
    "    for parent_node in nodelist:\n",
    "        children = list(parent_node)\n",
    "        if children[0].text == kv_map:\n",
    "            for child in children:\n",
    "                print(child.tag+\"  \"+child.text)\n",
    "\n",
    "def create_map(lat=31.8980388, lon=118.7607598, tiles=\"Stamen Toner\", zoom=10):\n",
    "    #p = [(31.8980388, 118.7607598), (31.8980485, 118.7632792), (31.8980553, 118.7650395), (31.8982193, 118.7658549), (31.8983996, 118.7667379)]\n",
    "    #data1 = [[[p[i][0], p[i][1], i]]for i in range(5)]\n",
    "    data1 = [[[31.8980388, 118.7607598,0.40], [31.8980485, 118.7632792,0.50]],[[31.8980553, 118.7650395,0.40], [31.8982193, 118.7658549,0.90]], [[31.8980388, 118.7607598,0.40], [31.8983996, 118.7667379,0.80]]]\n",
    "    print(data1)\n",
    "    \n",
    "    map_osm=folium.Map(location=(lat, lon), tiles=tiles, zoom_start=zoom)\n",
    "    hm = HeatMapWithTime(data1,gradient={0.2: 'blue', 0.4: 'lime', 0.6: 'yellow', 0.8: 'orange', 0.9: 'red'})\n",
    "    hm.add_to(map_osm)\n",
    "    map_osm.add_child(folium.LatLngPopup())\n",
    "    map_osm.add_child(folium.ClickForMarker())\n",
    "    map_osm.save(\"Heatmapx.html\")\n",
    "    return map_osm\n",
    "\n",
    "if __name__ == \"__main__\":\n",
    "    \n",
    "    tiles = [name.strip() for name in \"\"\"\n",
    "        OpenStreetMap\n",
    "        Mapbox Bright\n",
    "        Mapbox Control Room\n",
    "        Stamen Terrain\n",
    "        Stamen Toner\n",
    "        Stamen Watercolor\n",
    "        CartoDB positron\n",
    "        CartoDB dark_matter\"\"\".strip().split('\\n')]\n",
    "    \n",
    "    tree = read_xml(\"example.res\")\n",
    "    \n",
    "    #按空间筛选\n",
    "    nodelist = find_nodes(tree, \"section\")\n",
    "    result_nodes = get_node_by_keyvalue(nodelist, {\"id\": \"0\"})\n",
    "    \n",
    "    #按时间筛选\n",
    "    test_nodes = find_nodes(tree, \"section/result\")\n",
    "    final_nodes = get_node_by_keyvalue(test_nodes, {\"time\": \"1\"})\n",
    "    \n",
    "    #按时间输出\n",
    "    for child in final_nodes:\n",
    "        density = list(map(int, child.text.split()))\n",
    "        \n",
    "    #p = [(31.8980388, 118.7607598), (31.8980485, 118.7632792), (31.8980553, 118.7650395), (31.8982193, 118.7658549), (31.8983996, 118.7667379)]\n",
    "    #data1 = [[p[i][0], p[i][1], density[i]] for i in range(5)]\n",
    "\n",
    "    interact(create_map,lat=(-90., 90.), lon=(-180., 180.), tiles=tiles, zoom=(13))"
   ]
  },
  {
   "cell_type": "code",
   "execution_count": 9,
   "metadata": {},
   "outputs": [
    {
     "data": {
      "text/html": [
       "<div style=\"width:100%;\"><div style=\"position:relative;width:100%;height:0;padding-bottom:60%;\"><iframe src=\"data:text/html;charset=utf-8;base64,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\" style=\"position:absolute;width:100%;height:100%;left:0;top:0;border:none !important;\" allowfullscreen webkitallowfullscreen mozallowfullscreen></iframe></div></div>"
      ],
      "text/plain": [
       "<folium.folium.Map at 0x562b0f0>"
      ]
     },
     "execution_count": 9,
     "metadata": {},
     "output_type": "execute_result"
    }
   ],
   "source": [
    "import json\n",
    "import vincent\n",
    "import numpy as np\n",
    "import folium\n",
    "from folium import features\n",
    "import os\n",
    "\n",
    "N = 100\n",
    "\n",
    "multi_iter2 = {\n",
    "    'x': np.random.uniform(size=(N,)),\n",
    "    'y': np.random.uniform(size=(N,)),\n",
    "}\n",
    "\n",
    "scatter = vincent.Scatter(multi_iter2, iter_idx='x', height=100, width=200)\n",
    "data = json.loads(scatter.to_json())\n",
    "\n",
    "m = folium.Map([0, 0], zoom_start=1)\n",
    "mk = features.Marker([0, 0])\n",
    "p = folium.Popup('Hello')\n",
    "v = features.Vega(data, width='100%', height='100%')\n",
    "\n",
    "mk.add_child(p)\n",
    "p.add_child(v)\n",
    "m.add_child(mk)\n",
    "\n",
    "m.save(os.path.join('Features_2.html'))\n",
    "\n",
    "m"
   ]
  },
  {
   "cell_type": "code",
   "execution_count": 19,
   "metadata": {},
   "outputs": [
    {
     "data": {
      "text/html": [
       "<div style=\"width:100%;\"><div style=\"position:relative;width:100%;height:0;padding-bottom:60%;\"><iframe src=\"data:text/html;charset=utf-8;base64,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\" style=\"position:absolute;width:100%;height:100%;left:0;top:0;border:none !important;\" allowfullscreen webkitallowfullscreen mozallowfullscreen></iframe></div></div>"
      ],
      "text/plain": [
       "<folium.folium.Map at 0x14929970>"
      ]
     },
     "execution_count": 19,
     "metadata": {},
     "output_type": "execute_result"
    }
   ],
   "source": [
    "import json\n",
    "import numpy as np\n",
    "import vincent\n",
    "\n",
    "scatter_points = {\n",
    "    'x': np.random.uniform(size=(100,)),\n",
    "    'y': np.random.uniform(size=(100,)),\n",
    "}\n",
    "\n",
    "# Let's create the vincent chart.\n",
    "scatter_chart = vincent.Scatter(scatter_points,\n",
    "                                iter_idx='x',\n",
    "                                width=200,\n",
    "                                height=100)\n",
    "\n",
    "# Let's convert it to JSON.\n",
    "scatter_json = scatter_chart.to_json()\n",
    "\n",
    "# Let's convert it to dict.\n",
    "scatter_dict = json.loads(scatter_json)\n",
    "\n",
    "m = folium.Map([43, -100], zoom_start=4)\n",
    "\n",
    "popup = folium.Popup()\n",
    "folium.Vega(scatter_chart, height=110, width=220).add_to(popup)\n",
    "folium.Marker([30, -120], popup=popup).add_to(m)\n",
    "\n",
    "m.save(os.path.join('vega_popups.html'))\n",
    "\n",
    "m"
   ]
  }
 ],
 "metadata": {
  "kernelspec": {
   "display_name": "Python 3",
   "language": "python",
   "name": "python3"
  },
  "language_info": {
   "codemirror_mode": {
    "name": "ipython",
    "version": 3
   },
   "file_extension": ".py",
   "mimetype": "text/x-python",
   "name": "python",
   "nbconvert_exporter": "python",
   "pygments_lexer": "ipython3",
   "version": "3.7.0"
  }
 },
 "nbformat": 4,
 "nbformat_minor": 4
}
