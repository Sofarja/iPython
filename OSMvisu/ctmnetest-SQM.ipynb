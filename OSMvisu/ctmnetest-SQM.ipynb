{
 "cells": [
  {
   "cell_type": "markdown",
   "metadata": {},
   "source": [
    "### 导入运行程序，建立路网、交叉口信号灯，设置到达离去"
   ]
  },
  {
   "cell_type": "code",
   "execution_count": null,
   "metadata": {},
   "outputs": [],
   "source": [
    "from ctmnet2.simulation import Simulator\n",
    "from ctmnet2.networkcreation import create_from_xml\n",
    "\n",
    "def neta(Area=\"\",Ver=\"\"):\n",
    "    U=[1,6]\n",
    "    D=[3,4]\n",
    "    sim = create_from_xml(\"NET-\"+Area+Ver+\".xml\")\n",
    "    sim.set_arrival(str(U[0]),1600*5)\n",
    "    sim.set_departure(str(D[0]),1412*3)\n",
    "    sim.set_arrival(str(U[1]),2000*3)\n",
    "    sim.set_departure(str(D[1]),1412*5)\n",
    "    return sim"
   ]
  },
  {
   "cell_type": "markdown",
   "metadata": {},
   "source": [
    "### 路灯检测数据输入"
   ]
  },
  {
   "cell_type": "code",
   "execution_count": null,
   "metadata": {},
   "outputs": [],
   "source": [
    "import xml.etree.ElementTree as ET\n",
    "import re\n",
    "\n",
    "def deta(sim,Area=\"\"):\n",
    "    sec_tree=ET.parse(\"sec_det-\"+Area+\".xml\")\n",
    "    det_tree=ET.parse(\"detectors-\"+Area+\".xml\")\n",
    "    secs=sec_tree.getroot()\n",
    "    dets=det_tree.getroot()\n",
    "    for sec in secs.iter('section'):\n",
    "        sec_id=sec.attrib['id']\n",
    "        det_id=re.findall(r\"\\d+\",sec.find('detectors').text)\n",
    "        #print(sec_id,det_id)\n",
    "        n=0\n",
    "        for i in det_id:\n",
    "            for det in dets.iter('detector'):\n",
    "                if det.attrib['id']==i:\n",
    "                    vol=float(det.find('volume').text)\n",
    "                    sim.sections[sec_id].cells[int(n)].volume=vol\n",
    "                    n=n+1\n",
    "    return sim"
   ]
  },
  {
   "cell_type": "markdown",
   "metadata": {},
   "source": [
    "### 开始仿真"
   ]
  },
  {
   "cell_type": "code",
   "execution_count": null,
   "metadata": {},
   "outputs": [],
   "source": [
    "def simula(sim,T=600,R='volume',S='cell'):\n",
    "    result=[]\n",
    "    r=[]\n",
    "    s=0\n",
    "    for i in range(T):\n",
    "        r=[]\n",
    "        s=0\n",
    "        sim.run_single_step()\n",
    "        if R=='volume':\n",
    "            V=sim.get_volume(S)\n",
    "        elif R=='density':\n",
    "            V=sim.get_density(S)\n",
    "        elif R=='velocity':\n",
    "            V=sim.get_velocity(S)\n",
    "        elif R=='occupancy':\n",
    "            V=sim.get_occupancy(S)\n",
    "        if S=='cell':\n",
    "            for j in range(1,7):\n",
    "                t=[]\n",
    "                for k in range(len(V[str(j)])):\n",
    "                    t.append(V[str(j)][k])\n",
    "                r=r+[round(i,1) for i in t]\n",
    "            result.append(r)\n",
    "        elif S=='section':\n",
    "            for j in range(1,7):\n",
    "                s=s+V[str(j)]\n",
    "            result.append(s/6)\n",
    "    return result"
   ]
  },
  {
   "cell_type": "markdown",
   "metadata": {},
   "source": [
    "### 矩阵转置"
   ]
  },
  {
   "cell_type": "code",
   "execution_count": null,
   "metadata": {},
   "outputs": [],
   "source": [
    "def maTrix(matrix):\n",
    "    T=[]\n",
    "    for i in range(len(matrix[0])):\n",
    "        t=[]\n",
    "        for j in range(len(matrix)):\n",
    "            t.append(matrix[j][i])\n",
    "        T.append(t)\n",
    "    return T"
   ]
  },
  {
   "cell_type": "markdown",
   "metadata": {},
   "source": [
    "### 提取路网中各路段元胞坐标"
   ]
  },
  {
   "cell_type": "code",
   "execution_count": null,
   "metadata": {},
   "outputs": [],
   "source": [
    "import xml.etree.ElementTree as ET\n",
    "import re\n",
    "\n",
    "def coora(Area=\"\"):\n",
    "    tree = ET.parse(\"NET-\"+Area+\".xml\")\n",
    "    root = tree.getroot()\n",
    "    para = 'coordinates'\n",
    "    coordinates=[]\n",
    "    for sec in root.iter('section'):\n",
    "        sec_id = sec.attrib['id']\n",
    "        coors = re.findall(r\"(\\d+\\.?\\d*, \\d+\\.?\\d*)\",sec.find(para).text)\n",
    "        COORS = []\n",
    "        COOR = []\n",
    "        for coor in coors:\n",
    "            COOR = coor.split(',')\n",
    "            COOR[0] = float(COOR[0])\n",
    "            COOR[1] = float(COOR[1])\n",
    "            COORS.append(COOR)\n",
    "        coordinates.extend(COORS)\n",
    "    return coordinates"
   ]
  },
  {
   "cell_type": "markdown",
   "metadata": {},
   "source": [
    "### 仿真后生成HTML文件"
   ]
  },
  {
   "cell_type": "code",
   "execution_count": 6,
   "metadata": {},
   "outputs": [],
   "source": [
    "import webbrowser\n",
    "from IPython.display import IFrame\n",
    "\n",
    "def visula(Matrix,Coor,Area=\"\",R=\"\"):\n",
    "    with open(\"HMWT-\"+R+\"-\"+Area+\".html\",'r',encoding='utf-8') as file:\n",
    "        with open(\"HMWT-\"+R+\"-\"+Area+\"+.html\",'w',encoding='utf-8') as out:\n",
    "            load=file.read()\n",
    "            p1,pr=load.split(\"元胞坐标\")\n",
    "            out.write(p1+'\\n')\n",
    "            for coor in Coor:\n",
    "                out.write('{\"lat\":'+str(coor[0])+',\"lng\":'+str(coor[1])+'},\\n')\n",
    "            p2,pr=pr.split(\"元胞流量数据\")\n",
    "            out.write(p2+'\\n')\n",
    "            for t in Matrix:\n",
    "                out.write(str(t)+',\\n')\n",
    "            out.write(pr)\n",
    "\n",
    "    return IFrame(src='HMWT-'+R+\"-\"+Area+'+.html', width=600, height=600)"
   ]
  },
  {
   "cell_type": "code",
   "execution_count": 7,
   "metadata": {},
   "outputs": [
    {
     "data": {
      "text/html": [
       "\n",
       "        <iframe\n",
       "            width=\"600\"\n",
       "            height=\"600\"\n",
       "            src=\"HMWT-velocity-SQM+.html\"\n",
       "            frameborder=\"0\"\n",
       "            allowfullscreen\n",
       "        ></iframe>\n",
       "        "
      ],
      "text/plain": [
       "<IPython.lib.display.IFrame at 0x6051330>"
      ]
     },
     "execution_count": 7,
     "metadata": {},
     "output_type": "execute_result"
    }
   ],
   "source": [
    "Area=\"SQM\"\n",
    "R=\"velocity\"\n",
    "sim=neta(Area)\n",
    "sim=deta(sim,Area)\n",
    "result=simula(sim,300,R)\n",
    "Result=maTrix(result)\n",
    "Coor=coora(Area)\n",
    "visula(Result,Coor,Area,R)"
   ]
  },
  {
   "cell_type": "code",
   "execution_count": null,
   "metadata": {},
   "outputs": [],
   "source": []
  }
 ],
 "metadata": {
  "kernelspec": {
   "display_name": "Python 3",
   "language": "python",
   "name": "python3"
  },
  "language_info": {
   "codemirror_mode": {
    "name": "ipython",
    "version": 3
   },
   "file_extension": ".py",
   "mimetype": "text/x-python",
   "name": "python",
   "nbconvert_exporter": "python",
   "pygments_lexer": "ipython3",
   "version": "3.7.0"
  }
 },
 "nbformat": 4,
 "nbformat_minor": 4
}
