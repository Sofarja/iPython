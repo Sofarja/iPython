{
 "cells": [
  {
   "cell_type": "code",
   "execution_count": 1,
   "metadata": {},
   "outputs": [
    {
     "name": "stdout",
     "output_type": "stream",
     "text": [
      "Requirement already satisfied: folium in /srv/conda/lib/python3.6/site-packages (0.10.1)\n",
      "Requirement already satisfied: jinja2>=2.9 in /srv/conda/lib/python3.6/site-packages (from folium) (2.10)\n",
      "Requirement already satisfied: numpy in /srv/conda/lib/python3.6/site-packages (from folium) (1.16.3)\n",
      "Requirement already satisfied: branca>=0.3.0 in /srv/conda/lib/python3.6/site-packages (from folium) (0.4.0)\n",
      "Requirement already satisfied: requests in /srv/conda/lib/python3.6/site-packages (from folium) (2.21.0)\n",
      "Requirement already satisfied: MarkupSafe>=0.23 in /srv/conda/lib/python3.6/site-packages (from jinja2>=2.9->folium) (1.1.1)\n",
      "Requirement already satisfied: six in /srv/conda/lib/python3.6/site-packages (from branca>=0.3.0->folium) (1.12.0)\n",
      "Requirement already satisfied: certifi>=2017.4.17 in /srv/conda/lib/python3.6/site-packages (from requests->folium) (2019.3.9)\n",
      "Requirement already satisfied: urllib3<1.25,>=1.21.1 in /srv/conda/lib/python3.6/site-packages (from requests->folium) (1.24.1)\n",
      "Requirement already satisfied: idna<2.9,>=2.5 in /srv/conda/lib/python3.6/site-packages (from requests->folium) (2.8)\n",
      "Requirement already satisfied: chardet<3.1.0,>=3.0.2 in /srv/conda/lib/python3.6/site-packages (from requests->folium) (3.0.4)\n",
      "Note: you may need to restart the kernel to use updated packages.\n"
     ]
    }
   ],
   "source": [
    "pip install folium"
   ]
  },
  {
   "cell_type": "code",
   "execution_count": 1,
   "metadata": {},
   "outputs": [
    {
     "name": "stdout",
     "output_type": "stream",
     "text": [
      "name  诚信大道\n",
      "lanes_length  276.91\n",
      "lanes_number  1\n",
      "cell_length  0.05\n",
      "free_speed  60\n",
      "wave_speed  8\n",
      "jam_density  200\n",
      "coordinates  (31.8979351, 118.7603678), (31.897955684992397, 118.76089629335854), (31.89797626998479, 118.7614247867171), (31.897996854977187, 118.76195328007564), (31.898017439969582, 118.7624817734342), (31.898038024961977, 118.76301026679275), (31.8980485, 118.7632792)\n",
      "name  诚信大道\n",
      "lanes_length  331.39\n",
      "lanes_number  1\n",
      "cell_length  0.05\n",
      "free_speed  60\n",
      "wave_speed  8\n",
      "jam_density  200\n",
      "coordinates  (31.8980485, 118.7632792), (31.89810182522033, 118.76380450885658), (31.898155150440658, 118.76432981771318), (31.898208475660986, 118.76485512656976), (31.89826180088131, 118.76538043542635), (31.89831512610164, 118.76590574428293), (31.898368451321968, 118.76643105313951), (31.8983996, 118.7667379)\n",
      "name  诚信大道\n",
      "lanes_length  337.06\n",
      "lanes_number  1\n",
      "cell_length  0.05\n",
      "free_speed  60\n",
      "wave_speed  8\n",
      "jam_density  200\n",
      "coordinates  (31.8983996, 118.7667379), (31.89863870515225, 118.76718576188601), (31.8988778103045, 118.76763362377204), (31.899116915456755, 118.76808148565806), (31.899356020609005, 118.76852934754409), (31.899595125761255, 118.7689772094301), (31.899834230913505, 118.76942507131614), (31.90001, 118.7697543)\n",
      "name  诚信大道\n",
      "lanes_length  873.85\n",
      "lanes_number  1\n",
      "cell_length  0.05\n",
      "free_speed  60\n",
      "wave_speed  8\n",
      "jam_density  200\n",
      "coordinates  (31.90001, 118.7697543), (31.900275667426865, 118.7701809032218), (31.900541334853727, 118.7706075064436), (31.90080700228059, 118.7710341096654), (31.90107266970745, 118.77146071288719), (31.901338337134312, 118.77188731610899), (31.901604004561175, 118.7723139193308), (31.901869671988038, 118.7727405225526), (31.9021353394149, 118.77316712577439), (31.902401006841764, 118.77359372899619), (31.902666674268627, 118.77402033221799), (31.90293234169549, 118.77444693543978), (31.90319800912235, 118.77487353866158), (31.90346367654921, 118.77530014188338), (31.903729343976075, 118.77572674510517), (31.903995011402937, 118.77615334832697), (31.9042606788298, 118.77657995154877), (31.904526346256663, 118.77700655477057), (31.9046508, 118.7772064)\n",
      "name  诚信大道\n",
      "lanes_length  219.35\n",
      "lanes_number  1\n",
      "cell_length  0.05\n",
      "free_speed  60\n",
      "wave_speed  8\n",
      "jam_density  200\n",
      "coordinates  (31.9046508, 118.7772064), (31.90487874626905, 118.7776622925381), (31.905106692538098, 118.7781181850762), (31.905334638807147, 118.77857407761431), (31.9055625850762, 118.77902997015241), (31.9056508, 118.7792064)\n"
     ]
    }
   ],
   "source": [
    "from xml.etree.ElementTree import ElementTree,Element\n",
    "\n",
    "def read_xml(in_path):\n",
    "    tree = ElementTree()\n",
    "    tree.parse(in_path)\n",
    "    return tree\n",
    "\n",
    "def find_nodes(tree, path):\n",
    "    return tree.findall(path)\n",
    "\n",
    "def show_value_by_path(nodelist, tag, kv_map):\n",
    "    for parent_node in nodelist:\n",
    "        children = list(parent_node)\n",
    "        if children[0].text == kv_map:\n",
    "            for child in children:\n",
    "                print(child.tag+\"  \"+child.text)\n",
    "        \n",
    "if __name__ == \"__main__\":\n",
    "    tree = read_xml(\"net1++.xml\")\n",
    "    nodes = find_nodes(tree, \"sections/section\")\n",
    "    show_value_by_path(nodes, \"name\", \"诚信大道\")"
   ]
  },
  {
   "cell_type": "code",
   "execution_count": 3,
   "metadata": {},
   "outputs": [
    {
     "name": "stdout",
     "output_type": "stream",
     "text": [
      "ok\n"
     ]
    }
   ],
   "source": [
    "from folium import plugins\n",
    "from folium.plugins import HeatMap\n",
    "import folium\n",
    "import os\n",
    "m = folium.Map([31.8978677, 118.7601263], zoom_start=10)\n",
    "P=[(31.8978677, 118.7601263), (31.8979351, 118.7603678), (31.8980388, 118.7607598), (31.8980485, 118.7632792), (31.8980553, 118.7650395), (31.8982193, 118.7658549), (31.8983996, 118.7667379), (31.8990942, 118.7681806), (31.90001, 118.7697543), (31.9021911, 118.7735021), (31.9046508, 118.7772064), (31.9054929, 118.7789074), (31.9056565, 118.7792379), (31.9058789, 118.7803331), (31.9060573, 118.781212), (31.9061148, 118.7826023), (31.9061196, 118.7827178), (31.9061158, 118.782968), (31.9061189, 118.7833473), (31.9061224, 118.7857622), (31.9060937, 118.7875635), (31.9060573, 118.7887222), (31.9059321, 118.7896437), (31.9059115, 118.7897951), (31.9057294, 118.7907392), (31.9047682, 118.7943313), (31.9044494, 118.7953796), (31.9043947, 118.7963881), (31.9042854, 118.7976326), (31.9043181, 118.7993954), (31.9043494, 118.8010812), (31.9044129, 118.8045796), (31.9151197, 118.8467481), (31.9162707, 118.8504957), (31.917631, 118.8539967), (31.9194935, 118.8572512), (31.9215653, 118.8596119), (31.9248164, 118.862338), (31.925587, 118.8628932), (31.91445, 118.844825), (31.9136128, 118.8423102), (31.9124618, 118.8386119), (31.9120105, 118.8350022), (31.9118226, 118.8313818), (31.9115827, 118.827813), (31.9113567, 118.8245725), (31.904504, 118.8058724), (31.904923, 118.8072671), (31.9066525, 118.8108171), (31.906881, 118.8112643), (31.907261, 118.8120433), (31.9076736, 118.812889), (31.9084877, 118.8146257), (31.9090215, 118.8157643), (31.9098138, 118.8181263), (31.9100233, 118.8184251), (31.9109705, 118.8212361), (31.9112437, 118.8220944), (31.9111344, 118.8243689), (31.925903, 118.8630732), (31.9255809, 118.8626593), (31.9249038, 118.8621143), (31.9217214, 118.8596072), (31.9195994, 118.8572311), (31.9195738, 118.8572007), (31.917816, 118.8538768), (31.9178146, 118.8538736), (31.9163985, 118.8504068), (31.9163895, 118.8503778), (31.9152443, 118.8466749), (31.9145975, 118.8447214), (31.9137435, 118.8422515), (31.9125212, 118.8385742), (31.9121891, 118.8367086), (31.9120624, 118.8349727), (31.9120616, 118.8349589), (31.9118526, 118.8313749), (31.9116532, 118.8278092), (31.9115074, 118.8247118), (31.9114802, 118.8245342)]\n",
    "\n",
    "for point in P:\n",
    "    folium.CircleMarker(\n",
    "        radius=10,\n",
    "        location=point,\n",
    "        color='#3388ff',\n",
    "        fill=True,\n",
    "        fill_color='#3388ff'\n",
    "    ).add_to(m)\n",
    "\n",
    "m.save( 'Heatmap3.html')\n",
    "print(\"ok\")"
   ]
  },
  {
   "cell_type": "code",
   "execution_count": 10,
   "metadata": {},
   "outputs": [
    {
     "data": {
      "text/plain": [
       "'/home/jovyan/binder'"
      ]
     },
     "execution_count": 10,
     "metadata": {},
     "output_type": "execute_result"
    }
   ],
   "source": [
    "%pwd"
   ]
  }
 ],
 "metadata": {
  "kernelspec": {
   "display_name": "Python 3",
   "language": "python",
   "name": "python3"
  },
  "language_info": {
   "codemirror_mode": {
    "name": "ipython",
    "version": 3
   },
   "file_extension": ".py",
   "mimetype": "text/x-python",
   "name": "python",
   "nbconvert_exporter": "python",
   "pygments_lexer": "ipython3",
   "version": "3.7.0"
  }
 },
 "nbformat": 4,
 "nbformat_minor": 4
}
