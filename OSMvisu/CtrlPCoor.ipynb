{
 "cells": [
  {
   "cell_type": "code",
   "execution_count": 1,
   "metadata": {},
   "outputs": [],
   "source": [
    "import numpy as np\n",
    "import math"
   ]
  },
  {
   "cell_type": "code",
   "execution_count": 2,
   "metadata": {},
   "outputs": [],
   "source": [
    "def cal_distance(x1,x2):# 根据经纬度计算距离\n",
    "    lat1=x1[0]\n",
    "    lng1=x1[1]\n",
    "    lat2=x2[0]\n",
    "    lng2=x2[1]\n",
    "    radlat1 = math.radians(lat1)\n",
    "    radlat2 = math.radians(lat2)\n",
    "    a = radlat1 - radlat2\n",
    "    b = math.radians(lng1) - math.radians(lng2)\n",
    "    s = 2 * math.asin(math.sqrt(math.pow(math.sin(a / 2), 2) + math.cos(radlat1) * \\\n",
    "            math.cos(radlat2) * math.pow(math.sin(b / 2), 2)))\n",
    "    earth_radius = 6378.137\n",
    "    s = s * earth_radius\n",
    "    if s < 0:\n",
    "        return -s*1000\n",
    "    else:\n",
    "        return s*1000"
   ]
  },
  {
   "cell_type": "code",
   "execution_count": 3,
   "metadata": {},
   "outputs": [],
   "source": [
    "# 计算每个元胞的经纬度\n",
    "def split(points,inter_d):\n",
    "    for i in range(len(points) - 1):\n",
    "        length0 = cal_distance(points[i], points[i+1])\n",
    "        total_length = length0 + s_lengths[i]\n",
    "        split_n = int(total_length/inter_d)\n",
    "        if split_n == 1:\n",
    "            lens = inter_d - s_lengths[i]\n",
    "            split_points.append((points[i][0] + (points[i + 1][0] - points[i][0]) * lens / length0,\n",
    "                                 points[i][1] + (points[i + 1][1] - points[i][1]) * lens / length0))\n",
    "            s_lengths.append(total_length - inter_d)\n",
    "        if split_n > 1:\n",
    "            for j in range(1, split_n + 1 ):\n",
    "                lens = (j * inter_d - s_lengths[i])\n",
    "                split_points.append((points[i][0] + (points[i+1][0] - points[i][0]) * lens / length0,\n",
    "                                     points[i][1] + (points[i+1][1] - points[i][1]) * lens / length0))\n",
    "            s_lengths.append(total_length - split_n * inter_d)\n",
    "        if split_n < 1:\n",
    "            s_lengths.append(total_length)\n",
    "    return split_points"
   ]
  },
  {
   "cell_type": "code",
   "execution_count": 14,
   "metadata": {},
   "outputs": [
    {
     "name": "stdout",
     "output_type": "stream",
     "text": [
      "333.9584723803664\n",
      "6.679169447607328\n",
      "[(31.9153725, 118.7760145), (31.91492334235794, 118.7760145), (31.914474184715882, 118.7760145), (31.914025027073823, 118.7760145), (31.913575869431764, 118.7760145), (31.913126711789705, 118.7760145), (31.912677554147646, 118.7760145), (31.9123725, 118.7760145)]\n",
      "8\n",
      "333.9584723803664\n"
     ]
    }
   ],
   "source": [
    "points = [(31.9153725, 118.7760145),(31.9123725, 118.7760145)]\n",
    "\n",
    "all_length = 0\n",
    "for i in range(len(points) - 1):\n",
    "    all_length = all_length + cal_distance(points[i], points[i+1])\n",
    "num = all_length / 50\n",
    "\n",
    "print(all_length)\n",
    "print(num)\n",
    "\n",
    "split_points = [points[0]]\n",
    "s_lengths = [0]\n",
    "\n",
    "endpoints = split(points,50)\n",
    "endpoints.append(points[-1])\n",
    "all_length1 = 0\n",
    "for i in range(len(endpoints) - 1):\n",
    "    all_length1 = all_length1 + cal_distance(endpoints[i], endpoints[i+1])\n",
    "\n",
    "print(endpoints)\n",
    "print(len(endpoints))\n",
    "print(all_length1)"
   ]
  }
 ],
 "metadata": {
  "kernelspec": {
   "display_name": "Python 3",
   "language": "python",
   "name": "python3"
  },
  "language_info": {
   "codemirror_mode": {
    "name": "ipython",
    "version": 3
   },
   "file_extension": ".py",
   "mimetype": "text/x-python",
   "name": "python",
   "nbconvert_exporter": "python",
   "pygments_lexer": "ipython3",
   "version": "3.7.0"
  }
 },
 "nbformat": 4,
 "nbformat_minor": 4
}
