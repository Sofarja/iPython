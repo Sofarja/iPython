{
 "cells": [
  {
   "cell_type": "code",
   "execution_count": 1,
   "metadata": {},
   "outputs": [],
   "source": [
    "from ctmnet2.simulation import Simulator"
   ]
  },
  {
   "cell_type": "markdown",
   "metadata": {},
   "source": [
    "## 设置输入输出的路段"
   ]
  },
  {
   "cell_type": "code",
   "execution_count": 2,
   "metadata": {},
   "outputs": [],
   "source": [
    "U=[1,2,3,4]\n",
    "D=[5,6,7,8]"
   ]
  },
  {
   "cell_type": "markdown",
   "metadata": {},
   "source": [
    "## 建立路网、建立默认的信号灯、设置到达离去"
   ]
  },
  {
   "cell_type": "code",
   "execution_count": 56,
   "metadata": {},
   "outputs": [],
   "source": [
    "from ctmnet2.networkcreation import create_from_xml\n",
    "\n",
    "sim = create_from_xml(\"NET-BJH.xml\")\n",
    "\n",
    "for sec_id in sim.sections.keys():\n",
    "    sim.create('SignalController',sec_id,{'cycle': 60})\n",
    "    sim.create('Phase',sec_id,{'green_start': 20,'green_end': 59})\n",
    "    sim.add_lamp(sec_id,sec_id,sec_id)\n",
    "for u in U:\n",
    "    sim.set_arrival(str(u),1900)\n",
    "for d in D:\n",
    "    sim.set_departure(str(d),1700)"
   ]
  },
  {
   "cell_type": "markdown",
   "metadata": {},
   "source": [
    "## 开始仿真并输出结果"
   ]
  },
  {
   "cell_type": "code",
   "execution_count": 57,
   "metadata": {},
   "outputs": [
    {
     "name": "stdout",
     "output_type": "stream",
     "text": [
      "Wall time: 430 ms\n"
     ]
    }
   ],
   "source": [
    "%%time\n",
    "\n",
    "import numpy as np\n",
    "\n",
    "result = []\n",
    "r = []\n",
    "for i in range(1800):\n",
    "    r = []\n",
    "    sim.run_single_step()\n",
    "    V = sim.get_volume('cell')\n",
    "    '''if i>1500:\n",
    "        for d in D:\n",
    "            sim.set_departure(str(d),900)\n",
    "    if i>1650:\n",
    "        for d in D:\n",
    "            sim.set_departure(str(d),1750*2)'''\n",
    "    if i>1500 and i<1800:\n",
    "        for j in range(1,5):\n",
    "            T=[]\n",
    "            for k in range(len(V[str(j)])):\n",
    "                T.append(V[str(j)][k]+V[str(j+4)][len(V[str(j)])-k-1])\n",
    "                #print(j,k)\n",
    "            r=r+[round(t,1) for t in T]\n",
    "            #print('ok')\n",
    "        result.append(r)"
   ]
  },
  {
   "cell_type": "markdown",
   "metadata": {},
   "source": [
    "查看每一个路段上的元胞数量"
   ]
  },
  {
   "cell_type": "code",
   "execution_count": 58,
   "metadata": {},
   "outputs": [
    {
     "name": "stdout",
     "output_type": "stream",
     "text": [
      "1 7 7\n",
      "2 6 13\n",
      "3 7 20\n",
      "4 7 27\n",
      "5 7 34\n",
      "6 6 40\n",
      "7 7 47\n",
      "8 7 54\n"
     ]
    }
   ],
   "source": [
    "import numpy as np\n",
    "\n",
    "sim.run_single_step()\n",
    "V = sim.get_volume('cell')\n",
    "n = 0\n",
    "for j in range(1,9):\n",
    "    n = n+len(V[str(j)])\n",
    "    print(j,len(V[str(j)]),n)\n",
    "    #t=np.array(V[str(j)])+np.array(V[str(j+30)])\n",
    "    #print(t)"
   ]
  },
  {
   "cell_type": "markdown",
   "metadata": {},
   "source": [
    "转置并查看元胞总数和时长"
   ]
  },
  {
   "cell_type": "code",
   "execution_count": 59,
   "metadata": {},
   "outputs": [
    {
     "name": "stdout",
     "output_type": "stream",
     "text": [
      "27 299\n"
     ]
    }
   ],
   "source": [
    "T = []\n",
    "for i in range(len(result[0])):  # 行数\n",
    "    t = []\n",
    "    for j in range(len(result)):\n",
    "        t.append(result[j][i])\n",
    "    T.append(t)\n",
    "#print(T)\n",
    "print(len(T),len(T[0]))"
   ]
  },
  {
   "cell_type": "markdown",
   "metadata": {},
   "source": [
    "仿真结果写入文本"
   ]
  },
  {
   "cell_type": "code",
   "execution_count": 60,
   "metadata": {},
   "outputs": [],
   "source": [
    "with open('4Netdata-BJH.txt','a') as file_handle:\n",
    "    for t in T:\n",
    "        file_handle.write(str(t)+',\\n')"
   ]
  },
  {
   "cell_type": "markdown",
   "metadata": {},
   "source": [
    "计算路网中各路段元胞间坐标的平均值"
   ]
  },
  {
   "cell_type": "code",
   "execution_count": 35,
   "metadata": {},
   "outputs": [
    {
     "name": "stdout",
     "output_type": "stream",
     "text": [
      "1\n",
      "[[31.9296045, 118.821481]]\n",
      "2\n",
      "[[31.92682, 118.821803]]\n",
      "3\n",
      "[[31.928199499999998, 118.81975349999999]]\n",
      "4\n",
      "[[31.9280605, 118.8231735]]\n",
      "5\n",
      "[[31.9296045, 118.821481]]\n",
      "6\n",
      "[[31.92682, 118.821803]]\n",
      "7\n",
      "[[31.928199499999998, 118.81975349999999]]\n",
      "8\n",
      "[[31.9280605, 118.8231735]]\n"
     ]
    }
   ],
   "source": [
    "import xml.etree.ElementTree as ET\n",
    "import re\n",
    "\n",
    "tree = ET.parse(\"NET-BJH.xml\")\n",
    "root = tree.getroot()\n",
    "para = 'coordinates'\n",
    "coordinates=[]\n",
    "for sec in root.iter('section'):\n",
    "    sec_id = sec.attrib['id']\n",
    "    print(sec_id)\n",
    "    coors = re.findall(r\"(\\d+\\.?\\d*,\\d+\\.?\\d*)\",sec.find(para).text)\n",
    "    COORS = []\n",
    "    COOR = []\n",
    "    COORDINATE = [0,0]\n",
    "    COORDINATES = []\n",
    "    for coor in coors:\n",
    "        COOR = coor.split(',')\n",
    "        COOR[0]=float(COOR[0])\n",
    "        COOR[1]=float(COOR[1])\n",
    "        COORS.append(COOR)\n",
    "    #print(len(COORS))\n",
    "    #print(COORS[6])\n",
    "    for i in range(len(COORS)-1):\n",
    "        COORDINATE[0] = (COORS[i][0]+COORS[i+1][0])/2\n",
    "        COORDINATE[1] = (COORS[i][1]+COORS[i+1][1])/2\n",
    "        COORDINATES.append(COORDINATE.copy())\n",
    "    print(COORDINATES)\n",
    "    coordinates.extend(COORDINATES)\n",
    "    #print(sec_id,len(COORDINATES))"
   ]
  },
  {
   "cell_type": "code",
   "execution_count": 34,
   "metadata": {},
   "outputs": [
    {
     "name": "stdout",
     "output_type": "stream",
     "text": [
      "[[31.9296045, 118.821481], [31.92682, 118.821803], [31.928199499999998, 118.81975349999999], [31.9280605, 118.8231735], [31.9296045, 118.821481], [31.92682, 118.821803], [31.928199499999998, 118.81975349999999], [31.9280605, 118.8231735]]\n"
     ]
    }
   ],
   "source": [
    "#print(len(coordinates))\n",
    "print(coordinates)"
   ]
  },
  {
   "cell_type": "code",
   "execution_count": 118,
   "metadata": {},
   "outputs": [],
   "source": [
    "with open('Coordata-BJH.txt','a') as file_handle:\n",
    "    for coor in coordinates:\n",
    "        file_handle.write('{\"lat\":'+str(coor[0])+',\"lng\":'+str(coor[1])+'},\\n')"
   ]
  },
  {
   "cell_type": "markdown",
   "metadata": {},
   "source": [
    "## 区域内道路总长"
   ]
  },
  {
   "cell_type": "code",
   "execution_count": 37,
   "metadata": {},
   "outputs": [
    {
     "name": "stdout",
     "output_type": "stream",
     "text": [
      "2379.58\n"
     ]
    }
   ],
   "source": [
    "import xml.etree.ElementTree as ET\n",
    "import re\n",
    "\n",
    "tree = ET.parse(\"NET-BJH.xml\")\n",
    "root = tree.getroot()\n",
    "para = 'lanes_length'\n",
    "S = 0\n",
    "for sec in root.iter('section'):\n",
    "    S += float(sec.find(para).text)\n",
    "print(round(S,2))"
   ]
  }
 ],
 "metadata": {
  "kernelspec": {
   "display_name": "Python 3",
   "language": "python",
   "name": "python3"
  },
  "language_info": {
   "codemirror_mode": {
    "name": "ipython",
    "version": 3
   },
   "file_extension": ".py",
   "mimetype": "text/x-python",
   "name": "python",
   "nbconvert_exporter": "python",
   "pygments_lexer": "ipython3",
   "version": "3.7.0"
  }
 },
 "nbformat": 4,
 "nbformat_minor": 4
}
