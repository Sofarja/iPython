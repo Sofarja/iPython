{
 "cells": [
  {
   "cell_type": "code",
   "execution_count": null,
   "metadata": {},
   "outputs": [],
   "source": [
    "import xml.etree.ElementTree as ET\n",
    "import re\n",
    "\n",
    "tree = ET.parse(\"net1++.xml\")\n",
    "root = tree.getroot()\n",
    "para = 'coordinates'\n",
    "coordinates=[]\n",
    "for sec in root.iter('section'):\n",
    "    sec_id = sec.attrib['id']\n",
    "    if int(sec_id)<30:\n",
    "        coors = re.findall(r\"(\\d+\\.?\\d*, \\d+\\.?\\d*)\",sec.find(para).text)\n",
    "        COORS = []\n",
    "        COOR = []\n",
    "        COORDINATE = [0,0]\n",
    "        COORDINATES = []\n",
    "        for coor in coors:\n",
    "            COOR = coor.split(',')\n",
    "            COOR[0]=float(COOR[0])\n",
    "            COOR[1]=float(COOR[1])\n",
    "            COORS.append(COOR)\n",
    "        #print(len(COORS))\n",
    "        #print(COORS[6])\n",
    "        for i in range(len(COORS)-1):\n",
    "            COORDINATE[0] = (COORS[i][0]+COORS[i+1][0])/2\n",
    "            COORDINATE[1] = (COORS[i][1]+COORS[i+1][1])/2\n",
    "            COORDINATES.append(COORDINATE.copy())\n",
    "        #print(COORDINATES)\n",
    "        coordinates.extend(COORDINATES)\n",
    "        #print(sec_id,len(COORDINATES))"
   ]
  },
  {
   "cell_type": "code",
   "execution_count": 19,
   "metadata": {},
   "outputs": [],
   "source": [
    "with open(\"netry.xml\",'w') as file:\n",
    "    file.write(\"<?xml version=\"1.0\" encoding=\"utf-8\"?>\"+'\\n')\n",
    "    file.write(\"<net>\"+'\\n')\n",
    "    \n",
    "    file.write(\"</net>\"+'\\n')"
   ]
  },
  {
   "cell_type": "code",
   "execution_count": null,
   "metadata": {},
   "outputs": [],
   "source": []
  }
 ],
 "metadata": {
  "kernelspec": {
   "display_name": "Python 3",
   "language": "python",
   "name": "python3"
  },
  "language_info": {
   "codemirror_mode": {
    "name": "ipython",
    "version": 3
   },
   "file_extension": ".py",
   "mimetype": "text/x-python",
   "name": "python",
   "nbconvert_exporter": "python",
   "pygments_lexer": "ipython3",
   "version": "3.7.0"
  }
 },
 "nbformat": 4,
 "nbformat_minor": 4
}
