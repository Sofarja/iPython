{
 "cells": [
  {
   "cell_type": "code",
   "execution_count": 1,
   "metadata": {},
   "outputs": [
    {
     "name": "stdout",
     "output_type": "stream",
     "text": [
      "Collecting folium\n",
      "  Downloading folium-0.10.1-py2.py3-none-any.whl (91 kB)\n",
      "\u001b[K     |████████████████████████████████| 91 kB 3.0 MB/s eta 0:00:011\n",
      "\u001b[?25hCollecting branca>=0.3.0\n",
      "  Downloading branca-0.3.1-py3-none-any.whl (25 kB)\n",
      "Requirement already satisfied: jinja2>=2.9 in /srv/conda/envs/notebook/lib/python3.6/site-packages (from folium) (2.11.0)\n",
      "Requirement already satisfied: requests in /srv/conda/envs/notebook/lib/python3.6/site-packages (from folium) (2.22.0)\n",
      "Requirement already satisfied: numpy in /srv/conda/envs/notebook/lib/python3.6/site-packages (from folium) (1.18.1)\n",
      "Requirement already satisfied: six in /srv/conda/envs/notebook/lib/python3.6/site-packages (from branca>=0.3.0->folium) (1.14.0)\n",
      "Requirement already satisfied: MarkupSafe>=0.23 in /srv/conda/envs/notebook/lib/python3.6/site-packages (from jinja2>=2.9->folium) (1.1.1)\n",
      "Requirement already satisfied: chardet<3.1.0,>=3.0.2 in /srv/conda/envs/notebook/lib/python3.6/site-packages (from requests->folium) (3.0.4)\n",
      "Requirement already satisfied: idna<2.9,>=2.5 in /srv/conda/envs/notebook/lib/python3.6/site-packages (from requests->folium) (2.8)\n",
      "Requirement already satisfied: certifi>=2017.4.17 in /srv/conda/envs/notebook/lib/python3.6/site-packages (from requests->folium) (2019.11.28)\n",
      "Requirement already satisfied: urllib3!=1.25.0,!=1.25.1,<1.26,>=1.21.1 in /srv/conda/envs/notebook/lib/python3.6/site-packages (from requests->folium) (1.25.7)\n",
      "Installing collected packages: branca, folium\n",
      "Successfully installed branca-0.3.1 folium-0.10.1\n",
      "Note: you may need to restart the kernel to use updated packages.\n"
     ]
    }
   ],
   "source": [
    "pip install folium"
   ]
  },
  {
   "cell_type": "code",
   "execution_count": 2,
   "metadata": {},
   "outputs": [
    {
     "name": "stdout",
     "output_type": "stream",
     "text": [
      "ok\n"
     ]
    }
   ],
   "source": [
    "from folium import plugins\n",
    "import folium\n",
    "import os\n",
    "m = folium.Map([31.8978677, 118.7601263], zoom_start=10, tiles='Stamen Toner')  #中心区域的确定\n",
    "location =[(31.9144045, 118.844825), (31.9145975, 118.8447214), (31.913614, 118.8424507), (31.9135673, 118.8423102), (31.9137435, 118.8422515), (31.9137221, 118.8421872), (31.9137909, 118.8423298), (31.9124163, 118.8386119), (31.9125212, 118.8385742), (31.9121891, 118.8367086), (31.911965, 118.8350022), (31.9120624, 118.8349727), (31.9120616, 118.8349589), (31.9117771, 118.8313818), (31.9118526, 118.8313749), (31.9115372, 118.827813), (31.9116532, 118.8278092), (31.9115074, 118.8247118), (31.9113112, 118.8245725), (31.9114802, 118.8245342), (31.9111344, 118.8243689), (31.9112437, 118.8220944), (31.9109705, 118.8212361), (31.9100233, 118.8184251), (31.9098138, 118.8181263), (31.9090215, 118.8157643), (31.9084877, 118.8146257), (31.9076736, 118.812889), (31.907261, 118.8120433), (31.906881, 118.8112643), (31.9066525, 118.8108171), (31.904923, 118.8072671), (31.904504, 118.8058724), (31.9044129, 118.8045796)]   #输入坐标点（注意）folium包要求坐标形式以纬度在前，经度在后\n",
    "route = folium.PolyLine(    #polyline方法为将坐标用线段形式连接起来\n",
    "    location,    #将坐标点连接起来\n",
    "    weight=10,  #线的大小\n",
    "    color='red',  #线的颜色\n",
    "    opacity=0.5    #线的透明度\n",
    ").add_to(m)    #将这条线添加到刚才的区域m内\n",
    "m.save( 'Heatmap3.html')  #将结果以HTML形式保存到桌面上\n",
    "print(\"ok\")"
   ]
  },
  {
   "cell_type": "code",
   "execution_count": 3,
   "metadata": {},
   "outputs": [
    {
     "data": {
      "text/plain": [
       "'/home/jovyan/binder'"
      ]
     },
     "execution_count": 3,
     "metadata": {},
     "output_type": "execute_result"
    }
   ],
   "source": [
    "%pwd"
   ]
  },
  {
   "cell_type": "code",
   "execution_count": null,
   "metadata": {},
   "outputs": [],
   "source": []
  }
 ],
 "metadata": {
  "kernelspec": {
   "display_name": "Python 3",
   "language": "python",
   "name": "python3"
  },
  "language_info": {
   "codemirror_mode": {
    "name": "ipython",
    "version": 3
   },
   "file_extension": ".py",
   "mimetype": "text/x-python",
   "name": "python",
   "nbconvert_exporter": "python",
   "pygments_lexer": "ipython3",
   "version": "3.7.0"
  }
 },
 "nbformat": 4,
 "nbformat_minor": 4
}
