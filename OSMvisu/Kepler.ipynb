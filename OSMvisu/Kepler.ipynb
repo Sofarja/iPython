{
 "cells": [
  {
   "cell_type": "code",
   "execution_count": 1,
   "metadata": {},
   "outputs": [
    {
     "name": "stdout",
     "output_type": "stream",
     "text": [
      "Collecting keplergl\n",
      "  Using cached keplergl-0.1.2.tar.gz (5.4 MB)\n",
      "Requirement already satisfied: ipywidgets<8,>=7.0.0 in d:\\python\\lib\\site-packages (from keplergl) (7.5.1)\n",
      "Collecting traittypes>=0.2.1\n",
      "  Using cached traittypes-0.2.1-py2.py3-none-any.whl (8.6 kB)\n",
      "Collecting geopandas>=0.5.0\n",
      "  Using cached geopandas-0.7.0-py2.py3-none-any.whl (928 kB)\n",
      "Requirement already satisfied: pandas>=0.23.0 in d:\\python\\lib\\site-packages (from keplergl) (1.0.1)\n",
      "Collecting Shapely>=1.6.4.post2\n",
      "  Using cached Shapely-1.7.0-cp37-cp37m-win32.whl (893 kB)\n",
      "Requirement already satisfied: widgetsnbextension~=3.5.0 in d:\\python\\lib\\site-packages (from ipywidgets<8,>=7.0.0->keplergl) (3.5.1)\n",
      "Requirement already satisfied: nbformat>=4.2.0 in d:\\python\\lib\\site-packages (from ipywidgets<8,>=7.0.0->keplergl) (5.0.4)\n",
      "Requirement already satisfied: ipython>=4.0.0; python_version >= \"3.3\" in d:\\python\\lib\\site-packages (from ipywidgets<8,>=7.0.0->keplergl) (7.12.0)\n",
      "Requirement already satisfied: ipykernel>=4.5.1 in d:\\python\\lib\\site-packages (from ipywidgets<8,>=7.0.0->keplergl) (5.1.4)\n",
      "Requirement already satisfied: traitlets>=4.3.1 in d:\\python\\lib\\site-packages (from ipywidgets<8,>=7.0.0->keplergl) (4.3.3)\n",
      "Collecting fiona\n",
      "  Using cached Fiona-1.8.13.post1.tar.gz (1.2 MB)\n",
      "Note: you may need to restart the kernel to use updated packages.\n"
     ]
    },
    {
     "name": "stderr",
     "output_type": "stream",
     "text": [
      "    ERROR: Command errored out with exit status 1:\n",
      "     command: 'd:\\python\\python.exe' -c 'import sys, setuptools, tokenize; sys.argv[0] = '\"'\"'C:\\\\Users\\\\87947\\\\AppData\\\\Local\\\\Temp\\\\pip-install-hfpvrz_v\\\\fiona\\\\setup.py'\"'\"'; __file__='\"'\"'C:\\\\Users\\\\87947\\\\AppData\\\\Local\\\\Temp\\\\pip-install-hfpvrz_v\\\\fiona\\\\setup.py'\"'\"';f=getattr(tokenize, '\"'\"'open'\"'\"', open)(__file__);code=f.read().replace('\"'\"'\\r\\n'\"'\"', '\"'\"'\\n'\"'\"');f.close();exec(compile(code, __file__, '\"'\"'exec'\"'\"'))' egg_info --egg-base 'C:\\Users\\87947\\AppData\\Local\\Temp\\pip-install-hfpvrz_v\\fiona\\pip-egg-info'\n",
      "         cwd: C:\\Users\\87947\\AppData\\Local\\Temp\\pip-install-hfpvrz_v\\fiona\\\n",
      "    Complete output (1 lines):\n",
      "    A GDAL API version must be specified. Provide a path to gdal-config using a GDAL_CONFIG environment variable or use a GDAL_VERSION environment variable.\n",
      "    ----------------------------------------\n",
      "ERROR: Command errored out with exit status 1: python setup.py egg_info Check the logs for full command output.\n"
     ]
    }
   ],
   "source": [
    "pip install keplergl"
   ]
  },
  {
   "cell_type": "code",
   "execution_count": null,
   "metadata": {},
   "outputs": [],
   "source": [
    "pip install C:\\Users\\87947\\Desktop\\GDAL-3.0.4-cp38-cp38-win_amd64.whl"
   ]
  },
  {
   "cell_type": "code",
   "execution_count": null,
   "metadata": {},
   "outputs": [],
   "source": []
  }
 ],
 "metadata": {
  "kernelspec": {
   "display_name": "Python 3",
   "language": "python",
   "name": "python3"
  },
  "language_info": {
   "codemirror_mode": {
    "name": "ipython",
    "version": 3
   },
   "file_extension": ".py",
   "mimetype": "text/x-python",
   "name": "python",
   "nbconvert_exporter": "python",
   "pygments_lexer": "ipython3",
   "version": "3.7.0"
  }
 },
 "nbformat": 4,
 "nbformat_minor": 4
}
