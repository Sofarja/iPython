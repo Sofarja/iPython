{
 "cells": [
  {
   "cell_type": "code",
   "execution_count": null,
   "metadata": {},
   "outputs": [],
   "source": [
    "def fbnq_r(n):\n",
    "    if n==1 or n==2:\n",
    "        return 1\n",
    "    else:\n",
    "        return fbnq_r(n-2)+fbnq_r(n-1)\n",
    "\n",
    "def fbnq(n):\n",
    "    if n==1 or n==2:\n",
    "        return 1\n",
    "    else:\n",
    "        l=0\n",
    "        m=1\n",
    "        r=1\n",
    "        for i in range(n-2):\n",
    "            l=m\n",
    "            m=r\n",
    "            r=l+m\n",
    "        return r\n",
    "\n",
    "n=int(input())\n",
    "print(fbnq_r(n))\n",
    "print(fbnq(n))"
   ]
  },
  {
   "cell_type": "code",
   "execution_count": null,
   "metadata": {},
   "outputs": [],
   "source": [
    "def fact_r(n):\n",
    "    if n==0 or n==1:\n",
    "        return 1\n",
    "    else:\n",
    "        return n*fact_r(n-1)\n",
    "\n",
    "def fact(n):\n",
    "    if n==0:\n",
    "        return 1\n",
    "    else:\n",
    "        s=1\n",
    "        for i in range(1,n+1):\n",
    "            s=s*i\n",
    "    return s\n",
    "\n",
    "n=int(input())\n",
    "print(fact_r(n))\n",
    "print(fact(n))"
   ]
  },
  {
   "cell_type": "code",
   "execution_count": null,
   "metadata": {},
   "outputs": [],
   "source": [
    "def lcm(num1,num2):\n",
    "    for i in range(max(num1,num2),num1*num2+1):\n",
    "        if i%num1==0 and i%num2==0:\n",
    "            return i\n",
    "\n",
    "def hcf(num1,num2):\n",
    "    for i in range(min(num1,num2),0,-1):\n",
    "        if num1%i==0 and num2%i==0:\n",
    "            return i\n",
    "\n",
    "num1=int(input())\n",
    "num2=int(input())\n",
    "print(lcm(num1,num2))\n",
    "print(hcf(num1,num2))"
   ]
  }
 ],
 "metadata": {
  "kernelspec": {
   "display_name": "Python 3",
   "language": "python",
   "name": "python3"
  },
  "language_info": {
   "codemirror_mode": {
    "name": "ipython",
    "version": 3
   },
   "file_extension": ".py",
   "mimetype": "text/x-python",
   "name": "python",
   "nbconvert_exporter": "python",
   "pygments_lexer": "ipython3",
   "version": "3.7.0"
  }
 },
 "nbformat": 4,
 "nbformat_minor": 4
}
