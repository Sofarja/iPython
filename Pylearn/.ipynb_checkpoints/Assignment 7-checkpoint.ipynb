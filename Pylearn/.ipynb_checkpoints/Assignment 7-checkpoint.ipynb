{
 "cells": [
  {
   "cell_type": "code",
   "execution_count": 1,
   "metadata": {},
   "outputs": [
    {
     "name": "stdout",
     "output_type": "stream",
     "text": [
      "6/25 177\n"
     ]
    }
   ],
   "source": [
    "import pandas as pd\n",
    "import numpy as np\n",
    "import datetime\n",
    "import random\n",
    "\n",
    "m=random.randint(1,12)\n",
    "\n",
    "if m in {1,3,5,7,8,10,12}:\n",
    "    d=random.randint(1,31)\n",
    "elif m==2:\n",
    "    d=random.randint(1,29)\n",
    "else:\n",
    "    d=random.randint(1,30)\n",
    "\n",
    "T=pd.to_datetime('2020-'+str(m).zfill(2)+'-'+str(d).zfill(2))\n",
    "t=pd.to_datetime('2020-01-01')\n",
    "\n",
    "print(str(m)+'/'+str(d),(T-t).days+1)"
   ]
  },
  {
   "cell_type": "code",
   "execution_count": 2,
   "metadata": {},
   "outputs": [
    {
     "name": "stdout",
     "output_type": "stream",
     "text": [
      "2020/04/14 00:05:28 星期二\n"
     ]
    }
   ],
   "source": [
    "import datetime\n",
    "W=['一','二','三','四','五','六','日']\n",
    "t=datetime.datetime.now()\n",
    "w=t.isoweekday()\n",
    "t=t.strftime('%Y/%m/%d %H:%M:%S')\n",
    "print(t+' 星期'+W[int(w)-1])"
   ]
  },
  {
   "cell_type": "markdown",
   "metadata": {},
   "source": [
    "$$sin15^\\circ+\\frac{e^x-5x}{\\sqrt{x^2+1}}-ln(3x)$$"
   ]
  },
  {
   "cell_type": "code",
   "execution_count": 3,
   "metadata": {},
   "outputs": [
    {
     "name": "stdin",
     "output_type": "stream",
     "text": [
      " 2\n"
     ]
    },
    {
     "name": "stdout",
     "output_type": "stream",
     "text": [
      "-2.7006\n"
     ]
    }
   ],
   "source": [
    "import math as m\n",
    "x=abs(float(input()))\n",
    "print(round(m.sin(m.radians(15))+(m.e**x-5*x)/m.sqrt(x**2+1)-m.log(3*x),4))"
   ]
  },
  {
   "cell_type": "code",
   "execution_count": 4,
   "metadata": {},
   "outputs": [
    {
     "name": "stdin",
     "output_type": "stream",
     "text": [
      " 3\n"
     ]
    },
    {
     "name": "stdout",
     "output_type": "stream",
     "text": [
      "X+++X\n",
      "+X+X+\n",
      "++X++\n",
      "+X+X+\n",
      "X+++X\n"
     ]
    }
   ],
   "source": [
    "n=int(float(input()))\n",
    "if n==1:print(\"X\")\n",
    "else:\n",
    "    for i in range(n-1,0,-1):\n",
    "        print(((\"+\"*(2*i-1)).center(2*i+1,'X')).center(2*n-1,'+'))\n",
    "    for i in range(n):\n",
    "        print(((\"+\"*(2*i-1)).center(2*i+1,'X')).center(2*n-1,'+'))"
   ]
  },
  {
   "cell_type": "code",
   "execution_count": 5,
   "metadata": {},
   "outputs": [
    {
     "name": "stdin",
     "output_type": "stream",
     "text": [
      "3<=n<=100 12\n",
      "1<=m<=n 3\n"
     ]
    },
    {
     "name": "stdout",
     "output_type": "stream",
     "text": [
      "[0, 1, 2, 3, 4, 5, 6, 7, 8, 9, 10, 11]\n",
      "[0, 1, 3, 4, 5, 6, 7, 8, 9, 10, 11]\n",
      "[0, 1, 3, 4, 6, 7, 8, 9, 10, 11]\n",
      "[0, 1, 3, 4, 6, 7, 9, 10, 11]\n",
      "[0, 1, 3, 4, 6, 7, 9, 10]\n",
      "[0, 1, 4, 6, 7, 9, 10]\n",
      "[0, 1, 4, 6, 9, 10]\n",
      "[1, 4, 6, 9, 10]\n",
      "[1, 4, 9, 10]\n",
      "[4, 9, 10]\n",
      "[4, 9]\n",
      "[9]\n",
      "[]\n",
      "[2, 5, 8, 11, 3, 7, 0, 6, 1, 10, 4, 9]\n"
     ]
    }
   ],
   "source": [
    "import numpy as np\n",
    "n=int(input(\"3<=n<=100\"))\n",
    "m=int(input(\"1<=m<=n\"))\n",
    "t=m\n",
    "N=[i for i in range(n)]\n",
    "M=[]\n",
    "print(N)\n",
    "while np.size(N)!=0:\n",
    "    M.append(N[m-1])\n",
    "    N.pop(m-1)\n",
    "    m=m+t-1\n",
    "    while m>np.size(N) and np.size(N)!=0:m=m-np.size(N)\n",
    "    print(N)\n",
    "print(M)"
   ]
  }
 ],
 "metadata": {
  "kernelspec": {
   "display_name": "Python 3",
   "language": "python",
   "name": "python3"
  },
  "language_info": {
   "codemirror_mode": {
    "name": "ipython",
    "version": 3
   },
   "file_extension": ".py",
   "mimetype": "text/x-python",
   "name": "python",
   "nbconvert_exporter": "python",
   "pygments_lexer": "ipython3",
   "version": "3.7.0"
  }
 },
 "nbformat": 4,
 "nbformat_minor": 4
}
