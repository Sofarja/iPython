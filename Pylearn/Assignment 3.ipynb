{
 "cells": [
  {
   "cell_type": "code",
   "execution_count": 1,
   "metadata": {},
   "outputs": [
    {
     "name": "stdout",
     "output_type": "stream",
     "text": [
      "Please input a string within 100 character length: qwerty\n",
      "The first N of the string will be cut and paste to the tail of the string: 3\n",
      "rtyqwe\n"
     ]
    }
   ],
   "source": [
    "S=input(\"Please input a string within 100 character length: \")\n",
    "if len(S)>100: print(\"ERROR\")\n",
    "else :\n",
    "    N=int(input(\"The first N of the string will be cut and paste to the tail of the string: \"))\n",
    "    if N>=len(S) or len(S)>100 or N<=0: print(\"ERROR\")\n",
    "    else: \n",
    "        for i in range(N):\n",
    "            S=S+S[0]\n",
    "            S=S.lstrip(S[0])\n",
    "        print(S)"
   ]
  },
  {
   "cell_type": "code",
   "execution_count": 2,
   "metadata": {},
   "outputs": [
    {
     "name": "stdout",
     "output_type": "stream",
     "text": [
      "Please enter one leg of a right triangle: 4\n",
      "Please enter another leg of the right triangle: 5\n",
      "The h on the hypotenuse is: 3.12\n"
     ]
    }
   ],
   "source": [
    "a=int(input(\"Please enter one leg of a right triangle: \"))\n",
    "b=int(input(\"Please enter another leg of the right triangle: \"))\n",
    "print(\"The h on the hypotenuse is: \"+str(round(a*b/(((a**2)+(b**2))**0.5),2)))"
   ]
  },
  {
   "cell_type": "code",
   "execution_count": 3,
   "metadata": {},
   "outputs": [
    {
     "name": "stdout",
     "output_type": "stream",
     "text": [
      "hello world\n",
      "5\n"
     ]
    }
   ],
   "source": [
    "print(len((input().split())[-1]))"
   ]
  },
  {
   "cell_type": "code",
   "execution_count": 4,
   "metadata": {},
   "outputs": [
    {
     "name": "stdout",
     "output_type": "stream",
     "text": [
      "Please enter a string: a1234bcdefAaAa\n",
      "Please enter the char: a\n",
      "5\n"
     ]
    }
   ],
   "source": [
    "print((input(\"Please enter a string: \").upper()).count(input(\"Please enter the char: \").upper()))"
   ]
  },
  {
   "cell_type": "code",
   "execution_count": 5,
   "metadata": {},
   "outputs": [
    {
     "name": "stdout",
     "output_type": "stream",
     "text": [
      "Please enter a radius: 3\n"
     ]
    },
    {
     "data": {
      "text/plain": [
       "'18.8495 28.2743'"
      ]
     },
     "execution_count": 5,
     "metadata": {},
     "output_type": "execute_result"
    }
   ],
   "source": [
    "pi=3.14159\n",
    "r=int(input(\"Please enter a radius: \"))\n",
    "\"{} {}\".format(round(2*pi*r,4), round(pi*r**2,4))"
   ]
  }
 ],
 "metadata": {
  "kernelspec": {
   "display_name": "Python 3",
   "language": "python",
   "name": "python3"
  },
  "language_info": {
   "codemirror_mode": {
    "name": "ipython",
    "version": 3
   },
   "file_extension": ".py",
   "mimetype": "text/x-python",
   "name": "python",
   "nbconvert_exporter": "python",
   "pygments_lexer": "ipython3",
   "version": "3.7.0"
  }
 },
 "nbformat": 4,
 "nbformat_minor": 4
}
