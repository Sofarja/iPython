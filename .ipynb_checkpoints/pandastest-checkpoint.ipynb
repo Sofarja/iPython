{
 "cells": [
  {
   "cell_type": "code",
   "execution_count": 2,
   "metadata": {},
   "outputs": [
    {
     "name": "stdout",
     "output_type": "stream",
     "text": [
      "1    10\n",
      "2    11\n",
      "3    12\n",
      "4    13\n",
      "5    14\n",
      "dtype: int64\n",
      "[10 11 12 13 14]\n",
      "Int64Index([1, 2, 3, 4, 5], dtype='int64')\n"
     ]
    }
   ],
   "source": [
    "import pandas as pd\n",
    "data=pd.Series([10,11,12,13,14],index=[1,2,3,4,5])\n",
    "print(data)\n",
    "print(data.values)\n",
    "print(data.index)"
   ]
  },
  {
   "cell_type": "code",
   "execution_count": 15,
   "metadata": {},
   "outputs": [
    {
     "name": "stdout",
     "output_type": "stream",
     "text": [
      "2      two\n",
      "1      one\n",
      "3    three\n",
      "dtype: object\n",
      "2    two\n",
      "dtype: object\n"
     ]
    }
   ],
   "source": [
    "d={4:\"four\",5:\"five\",1:\"one\",3:\"three\",2:\"two\"}\n",
    "d_s=pd.Series(d,index=[2,1,3])\n",
    "print(d_s)\n",
    "print(d_s[:1])"
   ]
  },
  {
   "cell_type": "code",
   "execution_count": 3,
   "metadata": {},
   "outputs": [
    {
     "name": "stdout",
     "output_type": "stream",
     "text": [
      "one      1\n",
      "two      2\n",
      "three    3\n",
      "four     4\n",
      "five     5\n",
      "dtype: int64\n",
      "one    1\n",
      "two    2\n",
      "dtype: int64\n"
     ]
    }
   ],
   "source": [
    "d={\"four\":4,\"five\":5,\"one\":1,\"three\":3,\"two\":2}\n",
    "d_s=pd.Series(d,index=[\"one\",\"two\",\"three\",\"four\",\"five\"])\n",
    "print(d_s)\n",
    "print(d_s[:\"two\"])"
   ]
  },
  {
   "cell_type": "code",
   "execution_count": 6,
   "metadata": {},
   "outputs": [
    {
     "name": "stdout",
     "output_type": "stream",
     "text": [
      "[1 3 5 7 9]\n"
     ]
    }
   ],
   "source": [
    "import numpy as np\n",
    "number=np.arange(1,10)\n",
    "print(number[0:9:2])"
   ]
  },
  {
   "cell_type": "markdown",
   "metadata": {},
   "source": [
    "列表[]\n",
    "元组()\n",
    "字典{}"
   ]
  },
  {
   "cell_type": "code",
   "execution_count": 1,
   "metadata": {},
   "outputs": [
    {
     "data": {
      "text/plain": [
       "'23 Hello'"
      ]
     },
     "execution_count": 1,
     "metadata": {},
     "output_type": "execute_result"
    }
   ],
   "source": [
    "'%d %s' %(23, 'Hello')"
   ]
  },
  {
   "cell_type": "code",
   "execution_count": 3,
   "metadata": {},
   "outputs": [
    {
     "data": {
      "text/plain": [
       "'(0012):K:Hello'"
      ]
     },
     "execution_count": 3,
     "metadata": {},
     "output_type": "execute_result"
    }
   ],
   "source": [
    "'(%04d):K:%s' %(12,'Hello')"
   ]
  }
 ],
 "metadata": {
  "kernelspec": {
   "display_name": "Python 3",
   "language": "python",
   "name": "python3"
  },
  "language_info": {
   "codemirror_mode": {
    "name": "ipython",
    "version": 3
   },
   "file_extension": ".py",
   "mimetype": "text/x-python",
   "name": "python",
   "nbconvert_exporter": "python",
   "pygments_lexer": "ipython3",
   "version": "3.7.0"
  }
 },
 "nbformat": 4,
 "nbformat_minor": 4
}
