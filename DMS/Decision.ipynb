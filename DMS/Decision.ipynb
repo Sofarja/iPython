{
 "cells": [
  {
   "cell_type": "markdown",
   "metadata": {},
   "source": [
    "# 交通分析Ⅰ第四次大作业"
   ]
  },
  {
   "cell_type": "markdown",
   "metadata": {},
   "source": [
    "### 题目"
   ]
  },
  {
   "cell_type": "markdown",
   "metadata": {},
   "source": [
    "&emsp;&emsp;某公司目前拥有 15 万元的资产，公司主管需要决定是否推出新的产品，希望三名销售员A，B，C 辅助他做出决策。销售员 A 是乐观主义者；B 是悲观主义者；C 善中庸之道，采用等可能的决策方法。公司主管采用期望最大值法进行决策。 <br/>\n",
    "&emsp;&emsp;推出新产品前可以先花费 3 万元，在当地做市场测试，然后根据市场测试的结果选择是否在全国推出新产品。或者不进行市场测试，直接决定是否推出新产品。如果推出新产品在全国市场取得成功，则可以获利 30 万元，反之，将会损失10 万元。 <br/>\n",
    "&emsp;&emsp;目前缺乏市场调研，只知道按照历史规律，市场测试有 60％的可能产生有利的结果（称为当地成功），有 40％的可能产生不利的结果（称为当地失败）。<br/>\n",
    "&emsp;&emsp;公司主管需要安排销售员 A、B、C 分别在以下三个决策结点做出决策：<br/>\n",
    "- (1)当地市场测试成功\n",
    "- (2)当地市场测试失败\n",
    "- (3)不进行当地市场测试\n",
    "\n",
    "<br/>&emsp;&emsp;请根据以上描述，回答下列问题：<br/>\n",
    "- 1.给出所有分配方式（即将三位销售员分配到上述三个决策结点）下的决策意见，并对比分析哪种分配方式可以使预期收益最大？要求编程计算所有分配方式下的预期收益，列表给出决策结果，并在作业中附上任意一种分配方式下的源代码。（注：在每个决策结点按照公司主管及三个销售员各自的决策方法编写函数决策）\n",
    "- 2.应该如何给三位销售员分配工作，才能做出“进行市场测试并推出新产品”的决策？\n"
   ]
  },
  {
   "cell_type": "markdown",
   "metadata": {},
   "source": [
    "### 树状示意图"
   ]
  },
  {
   "cell_type": "markdown",
   "metadata": {},
   "source": [
    "![title](tree.png)"
   ]
  },
  {
   "cell_type": "markdown",
   "metadata": {},
   "source": [
    "### 参数定义及取值"
   ]
  },
  {
   "cell_type": "code",
   "execution_count": 6,
   "metadata": {},
   "outputs": [],
   "source": [
    "F=[[30,-10],[0,0]] #状态与方案收益表\n",
    "A=0 #A决策预期收益\n",
    "B=0 #B决策预期收益\n",
    "C=0 #C决策预期收益\n",
    "D=[1,1,1] #决策记录\n",
    "T=-3 #测试的花费\n",
    "PS=0.6 #当地成功概率\n",
    "PF=0.4 #当地失败概率\n",
    "flag=0 #B处于第三决策位的标志\n",
    "DC=[] #决策列表"
   ]
  },
  {
   "cell_type": "markdown",
   "metadata": {},
   "source": [
    "### 编码解答"
   ]
  },
  {
   "cell_type": "code",
   "execution_count": 7,
   "metadata": {},
   "outputs": [],
   "source": [
    "def approach(X): #销售员收益分别最大\n",
    "    k=X[0]\n",
    "    for x in X:\n",
    "        if x>k:\n",
    "            k=x\n",
    "    return k"
   ]
  },
  {
   "cell_type": "code",
   "execution_count": 8,
   "metadata": {},
   "outputs": [],
   "source": [
    "def salesperson(A,B,C): #销售员决策建议及对应预期收益\n",
    "    #乐观\n",
    "    a=[]\n",
    "    for P in F:\n",
    "        G=0\n",
    "        for θ in P:\n",
    "            if θ>G:\n",
    "                G=θ\n",
    "        a.append(G)\n",
    "    A=approach(a)\n",
    "    if a.index(A)==1:\n",
    "        D[0]=2\n",
    "\n",
    "    #悲观\n",
    "    b=[]\n",
    "    for P in F:\n",
    "        L=0\n",
    "        for θ in P:\n",
    "            if θ<L:\n",
    "                L=θ\n",
    "        b.append(L)\n",
    "    B=approach(b)\n",
    "    if b.index(B)==1:\n",
    "        D[1]=2\n",
    "\n",
    "    #中庸\n",
    "    c=[]\n",
    "    for P in F:\n",
    "        M=0\n",
    "        R=0\n",
    "        for θ in P:\n",
    "            M=M+θ\n",
    "            R=θ\n",
    "        M=M/(P.index(R)+1)\n",
    "        c.append(M)\n",
    "    C=approach(c)\n",
    "    if c.index(C)==1:\n",
    "        D[2]=2\n",
    "    \n",
    "    return A,B,C"
   ]
  },
  {
   "cell_type": "code",
   "execution_count": 9,
   "metadata": {},
   "outputs": [
    {
     "name": "stdout",
     "output_type": "stream",
     "text": [
      "30 0 10.0 [1, 2, 1]\n"
     ]
    }
   ],
   "source": [
    "(A,B,C)=salesperson(A,B,C)\n",
    "print(A,B,C,D)"
   ]
  },
  {
   "cell_type": "markdown",
   "metadata": {},
   "source": [
    "### 方案状态收益表"
   ]
  },
  {
   "cell_type": "markdown",
   "metadata": {},
   "source": [
    "![title](income.png)"
   ]
  },
  {
   "cell_type": "code",
   "execution_count": 10,
   "metadata": {},
   "outputs": [],
   "source": [
    "def test(): #进行市场测试\n",
    "    I=P[0]*PS+P[1]*PF+T\n",
    "    return I"
   ]
  },
  {
   "cell_type": "code",
   "execution_count": 11,
   "metadata": {},
   "outputs": [],
   "source": [
    "def Ntest(): #直接决定\n",
    "    I=P[2]\n",
    "    return I"
   ]
  },
  {
   "cell_type": "code",
   "execution_count": 37,
   "metadata": {},
   "outputs": [],
   "source": [
    "def ComPr(): #主管 比较收益并输出\n",
    "    R=[]\n",
    "    if test()>Ntest():\n",
    "        #print(p,\"test\",test(),end=\" \")\n",
    "        if flag==1:\n",
    "            #print(\"T\")\n",
    "            R=[p[:],\"test\",test(),\"T\"]\n",
    "        else:\n",
    "            #print(\"NG\")\n",
    "            R=[p[:],\"test\",test(),\"NG\"]\n",
    "    elif test()<Ntest():\n",
    "        #print(p,\"Ntest\",Ntest(),end=\" \")\n",
    "        if flag==1:\n",
    "            #print(\"F\")\n",
    "            R=[p[:],\"Ntest\",Ntest(),\"F\"]\n",
    "        else:\n",
    "            #print(\"T\")\n",
    "            R=[p[:],\"Ntest\",Ntest(),\"T\"]\n",
    "    else:\n",
    "        #print(p,\"Both\",test(),end=\" \")\n",
    "        #print(\"NG\")\n",
    "        R=[p[:],\"Both\",test(),\"NG\"]\n",
    "    DC.append(R)"
   ]
  },
  {
   "cell_type": "code",
   "execution_count": 31,
   "metadata": {},
   "outputs": [],
   "source": [
    "def checkId(target, a): #索引\n",
    "    b = []\n",
    "    for index, nums in enumerate(a):\n",
    "        if nums == target:\n",
    "            b.append(index)\n",
    "    return(b)"
   ]
  },
  {
   "cell_type": "code",
   "execution_count": 39,
   "metadata": {},
   "outputs": [
    {
     "name": "stdout",
     "output_type": "stream",
     "text": [
      "预期收益最大的方案：\n",
      "[['B', 'C', 'A'], 'Ntest', 30, 'T']\n",
      "[['C', 'B', 'A'], 'Ntest', 30, 'T']\n",
      "进行市场测试并推出新产品的方案：\n",
      "[['A', 'C', 'B'], 'test', 19.0, 'T']\n",
      "[['C', 'A', 'B'], 'test', 15.0, 'T']\n",
      "所有方案：\n"
     ]
    },
    {
     "data": {
      "text/plain": [
       "[[['A', 'B', 'C'], 'test', 15.0, 'NG'],\n",
       " [['A', 'C', 'B'], 'test', 19.0, 'T'],\n",
       " [['B', 'A', 'C'], 'Ntest', 10.0, 'T'],\n",
       " [['C', 'A', 'B'], 'test', 15.0, 'T'],\n",
       " [['B', 'C', 'A'], 'Ntest', 30, 'T'],\n",
       " [['C', 'B', 'A'], 'Ntest', 30, 'T']]"
      ]
     },
     "execution_count": 39,
     "metadata": {},
     "output_type": "execute_result"
    }
   ],
   "source": [
    "#主管 ABC分配方式\n",
    "\n",
    "o=[\"A\",\"B\",\"C\"]\n",
    "O=[A,B,C]\n",
    "\n",
    "p=[\"A\",\"B\",\"C\"]\n",
    "P=[A,B,C]\n",
    "\n",
    "DC=[]\n",
    "\n",
    "for i in range(3):\n",
    "    p[i]=o[0]\n",
    "    P[i]=O[0]\n",
    "    for j in range(3):\n",
    "        if i!=j:\n",
    "            p[j]=o[1]\n",
    "            P[j]=O[1]\n",
    "            for k in range(3):\n",
    "                if k!=i and k!=j:\n",
    "                    p[k]=o[2]\n",
    "                    P[k]=O[2]\n",
    "                    #print(p)\n",
    "                    if P[2]==B:\n",
    "                        flag=1\n",
    "                    else:\n",
    "                        flag=0\n",
    "                    ComPr()\n",
    "\n",
    "d=[x[2] for x in DC]\n",
    "index=checkId(max(d),d)\n",
    "print(\"预期收益最大的方案：\")\n",
    "for i in index:\n",
    "    print(DC[i])\n",
    "\n",
    "d=[x[1] for x in DC]\n",
    "index=checkId(\"test\",d)\n",
    "indext=[]\n",
    "for i in index:\n",
    "    if DC[i][3]==\"T\":\n",
    "        indext.append(i)\n",
    "print(\"进行市场测试并推出新产品的方案：\")\n",
    "for i in indext:\n",
    "    print(DC[i])\n",
    "\n",
    "print(\"所有方案：\")\n",
    "DC"
   ]
  },
  {
   "cell_type": "markdown",
   "metadata": {},
   "source": [
    "### 结论"
   ]
  },
  {
   "cell_type": "markdown",
   "metadata": {},
   "source": [
    "&emsp;&emsp;所有分配方式和决策意见如以上输出：第一列中括号内为分配方式，第二列为是否进行市场测试，第三列为预期收益，第四列为决策意见，包括：T（推出）F（不推出）NG（测试后确定）。"
   ]
  },
  {
   "cell_type": "markdown",
   "metadata": {},
   "source": [
    "&emsp;&emsp;可看出预期收益最大为“['B', 'C', 'A'] Ntest 30 T”和“['C', 'B', 'A'] Ntest 30 T”，即按照“B,C,A”或“C,B,A”的分配方式，不进行市场测试，并选择推出，将产生30w的预期收益。"
   ]
  },
  {
   "cell_type": "markdown",
   "metadata": {},
   "source": [
    "&emsp;&emsp;同时可看出，要做到“进行市场测试并推出新产品”的决策，应选择“A,C,B”或“C,A,B”的分配方式。"
   ]
  },
  {
   "cell_type": "markdown",
   "metadata": {},
   "source": [
    "<br/><br/>\n",
    "\n",
    "> Sofarja@outlook.com\n",
    ">\n",
    "> ---\n",
    ">\n",
    "> 21018116\n",
    ">\n",
    "> 郭艺铧\n",
    ">\n",
    "> 交通工程"
   ]
  }
 ],
 "metadata": {
  "kernelspec": {
   "display_name": "Python 3",
   "language": "python",
   "name": "python3"
  },
  "language_info": {
   "codemirror_mode": {
    "name": "ipython",
    "version": 3
   },
   "file_extension": ".py",
   "mimetype": "text/x-python",
   "name": "python",
   "nbconvert_exporter": "python",
   "pygments_lexer": "ipython3",
   "version": "3.7.0"
  }
 },
 "nbformat": 4,
 "nbformat_minor": 4
}
