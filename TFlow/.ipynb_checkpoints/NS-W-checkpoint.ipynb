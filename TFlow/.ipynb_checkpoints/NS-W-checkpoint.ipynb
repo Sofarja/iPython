{
 "cells": [
  {
   "cell_type": "markdown",
   "metadata": {},
   "source": [
    "# NS仿真"
   ]
  },
  {
   "cell_type": "code",
   "execution_count": 1,
   "metadata": {},
   "outputs": [],
   "source": [
    "import math\n",
    "import random\n",
    "import matplotlib.pyplot as plt\n",
    "import matplotlib.animation as ani\n",
    "\n",
    "dt=1#步长\n",
    "Cn=0#换道次数\n",
    "Ch=[]#换道信息记录\n",
    "s=30#均布距离\n",
    "l=6#标准车长，同时也是元胞长度，卡车长度为其两倍\n",
    "v_max=5#标准车辆最大速度\n",
    "vh_max=3#卡车最大速度\n",
    "pm=1/10#慢化概率\n",
    "ph=0.2#卡车概率"
   ]
  },
  {
   "cell_type": "code",
   "execution_count": 2,
   "metadata": {},
   "outputs": [],
   "source": [
    "class Cell:#元胞定义\n",
    "    def __init__(self,ID=0,LID=1,CL=6,T=10,S=float(\"inf\"),V=0,X=0,flag=0,stop=0,p=0.1):\n",
    "        self.ID=ID#元胞ID\n",
    "        self.l=CL#元胞长度\n",
    "        self.LID=[LID for t in range(T)]#元胞所在车道ID\n",
    "        self.FID=-1#跟驰前车ID\n",
    "        self.BID=-1#被跟驰后车ID\n",
    "        self.FCID=-1#换道后 前车ID\n",
    "        self.BCID=-1#换道后 后车ID\n",
    "        self.FFlag=0#跟驰检测\n",
    "        self.CFlag=-1#换道检测\n",
    "        self.s=[S for t in range(T)]#车头间距数据储存\n",
    "        self.cs=[S for t in range(T)]#换道车头间距数据储存\n",
    "        self.cbs=[S for t in range(T)]#换道后车车头间距数据储存\n",
    "        self.v=[V for t in range(T)]#速度数据储存\n",
    "        self.x=[X for t in range(T)]#位移数据储存\n",
    "        self.flag=flag#是否在路段内\n",
    "        self.stop=stop#是否停止\n",
    "        self.p=p#驾驶激进程度"
   ]
  },
  {
   "cell_type": "code",
   "execution_count": 3,
   "metadata": {},
   "outputs": [],
   "source": [
    "class Lane:#车道定义\n",
    "    def __init__(self,ID=0,LL=1000,Circle=0,T=3600,Iq=1000/3600,flag=1):\n",
    "        self.flag=flag#末端能否通行\n",
    "        self.ID=ID#车道ID\n",
    "        self.L=LL#车道长度\n",
    "        self.Iq=Iq#输入流量\n",
    "        if Circle==1:#周期边界\n",
    "            self.CID=0#车道下次到达的车辆的ID\n",
    "            self.Cells=[Cell(n,ID,CL=RDMH()*l,T=T,V=0,X=n*s) for n in range(int(LL/s))]\n",
    "        else:#开放边界\n",
    "            pass"
   ]
  },
  {
   "cell_type": "code",
   "execution_count": 4,
   "metadata": {},
   "outputs": [],
   "source": [
    "class Space:#元胞空间定义\n",
    "    def __init__(self,SL=1000,ln=1,Circle=0,T=3600,Iq=1000/3600,DT=0):\n",
    "        self.L=SL#元胞空间总长\n",
    "        if Circle==1:#设置边界条件\n",
    "            self.Lanes=[Lane(l,SL,Circle,T=T,Iq=Iq) for l in range(ln)]\n",
    "        else:#开放边界\n",
    "            pass\n",
    "        if DT!=0:#设置路段检测器\n",
    "            self.DT=[Detector(n*SL/DT) for n in range(DT)]"
   ]
  },
  {
   "cell_type": "code",
   "execution_count": 5,
   "metadata": {},
   "outputs": [],
   "source": [
    "class Detector:#检测器定义\n",
    "    def __init__(self,X=0):\n",
    "        self.x=X#检测器位置\n",
    "        self.v=0#平均速度\n",
    "        self.q=0#平均流量"
   ]
  },
  {
   "cell_type": "code",
   "execution_count": 6,
   "metadata": {},
   "outputs": [],
   "source": [
    "def RDM(v=0):#随机慢化概率\n",
    "    u=random.uniform(0,1)\n",
    "    if u<pm:\n",
    "        return 1\n",
    "    else:\n",
    "        return 0"
   ]
  },
  {
   "cell_type": "code",
   "execution_count": 7,
   "metadata": {},
   "outputs": [],
   "source": [
    "def RDMH():#卡车概率\n",
    "    h=random.uniform(0,1)\n",
    "    if h<ph:\n",
    "        return 2\n",
    "    else:\n",
    "        return 1"
   ]
  },
  {
   "cell_type": "code",
   "execution_count": 8,
   "metadata": {},
   "outputs": [],
   "source": [
    "def RDMC(p=0.1):#换道概率\n",
    "    c=random.uniform(0,1)\n",
    "    if c<p:\n",
    "        return 1\n",
    "    else:\n",
    "        return 0"
   ]
  },
  {
   "cell_type": "code",
   "execution_count": 9,
   "metadata": {},
   "outputs": [],
   "source": [
    "def NS(C1,t,LN,Circle=0,Detectors=None):#NS模型原本\n",
    "    #加速\n",
    "    if C1.l==l:\n",
    "        C1.v[t+1]=min(C1.v[t]+1,v_max)\n",
    "    else:\n",
    "        C1.v[t+1]=min(C1.v[t]+1,vh_max)\n",
    "    #减速\n",
    "    C1.v[t+1]=min(C1.v[t+1],C1.s[t]-C1.l/l)\n",
    "    #随机慢化\n",
    "    if RDM(C1.v[t]):\n",
    "        C1.v[t+1]=max(C1.v[t+1]-1,0)\n",
    "    #位置更新\n",
    "    C1.x[t+1]=C1.x[t]+C1.v[t+1]*l\n",
    "    if Circle==1:\n",
    "        if C1.x[t+1]>=LN.L:\n",
    "            C1.x[t+1]=C1.x[t+1]-LN.L"
   ]
  },
  {
   "cell_type": "code",
   "execution_count": 10,
   "metadata": {},
   "outputs": [],
   "source": [
    "def NSC(V0=0,V3=0,G1=s,G2=s,G3=s,p=0.1):\n",
    "    if RDMC(p):\n",
    "        if G1<G2 and V0>G1 and V3<G3:\n",
    "            return 1\n",
    "        else:\n",
    "            return 0\n",
    "    else:\n",
    "        return 0"
   ]
  },
  {
   "cell_type": "code",
   "execution_count": 11,
   "metadata": {},
   "outputs": [],
   "source": [
    "def Simulation(L=1000,ln=1,Circle=0,T=3600,Iq=1000/3600,DT=0):#仿真+可视化\n",
    "    global Cn\n",
    "    global Ch\n",
    "    #初始化\n",
    "    T=int(T/dt)\n",
    "    SPC=Space(L,ln,Circle,T,DT)\n",
    "    #路段内的车\n",
    "    Cells=[]\n",
    "    for LN in SPC.Lanes:\n",
    "        Cells.extend(LN.Cells)\n",
    "    #仿真\n",
    "    for t in range(T-1):\n",
    "        #跟驰判断与匹配\n",
    "        for C in Cells:\n",
    "            if C.stop==0:\n",
    "                C.FFlag=0\n",
    "                for F in Cells:\n",
    "                    if F.LID[t]==C.LID[t] and F.x[t]>C.x[t]:\n",
    "                        C.FFlag=1\n",
    "                        if F.x[t]-C.x[t]<C.s[t]:\n",
    "                            C.FID=Cells.index(F)\n",
    "                            C.s[t]=F.x[t]-C.x[t]\n",
    "                if C.FFlag==0:\n",
    "                    for F in Cells:\n",
    "                        if F.LID[t]==C.LID[t] and F.x[t]+L>C.x[t]:\n",
    "                            C.FFlag=1\n",
    "                            if F.x[t]+L-C.x[t]<C.s[t]:\n",
    "                                C.FID=Cells.index(F)\n",
    "                                C.s[t]=F.x[t]+L-C.x[t]\n",
    "                if C.FFlag==0:\n",
    "                    C.FID=-1\n",
    "        \n",
    "        #跟驰\n",
    "        for C in Cells:\n",
    "            if C.stop==0:\n",
    "                if C.FFlag==1:\n",
    "                    NS(C,t,SPC.Lanes[C.LID[t]],Circle)\n",
    "                    if C.x[t+1]<0:\n",
    "                        print(C.v[t],C.x[t])\n",
    "                else:\n",
    "                    print(\" FID error\")\n",
    "        \n",
    "        #后车查询\n",
    "        for C in Cells:\n",
    "            for B in Cells:\n",
    "                if B.FID==Cells.index(C):\n",
    "                    C.BID=Cells.index(B)\n",
    "                    break\n",
    "            C.BID=-1\n",
    "        \n",
    "        #相邻车道前车判断与匹配\n",
    "        for C in Cells:\n",
    "            if C.stop==0:\n",
    "                C.FCID=-1\n",
    "                for F in Cells:\n",
    "                    if ((F.LID[t]==1 and C.LID[t]==0) or (F.LID[t]==0 and C.LID[t]==1)) and 0<F.x[t]-C.x[t]<C.cs[t]:\n",
    "                        C.FCID=Cells.index(F)\n",
    "                        C.cs[t]=F.x[t]-C.x[t]\n",
    "                if C.FCID==-1:\n",
    "                    for F in Cells:\n",
    "                        if ((F.LID[t]==1 and C.LID[t]==0) or (F.LID[t]==0 and C.LID[t]==1)) and 0<F.x[t]+L-C.x[t]<C.cs[t]:\n",
    "                            C.FCID=Cells.index(F)\n",
    "                            C.cs[t]=F.x[t]+L-C.x[t]\n",
    "                if C.FCID==-1:\n",
    "                    print(\"FCID ERROR\")\n",
    "        \n",
    "        #相邻车道后车判断与匹配\n",
    "        for C in Cells:\n",
    "            if C.stop==0:\n",
    "                C.BCID=-1\n",
    "                for B in Cells:\n",
    "                    if ((B.LID[t]==1 and C.LID[t]==0) or (B.LID[t]==0 and C.LID[t]==1)) and 0<C.x[t]-B.x[t]<C.cbs[t]:\n",
    "                        C.BCID=Cells.index(B)\n",
    "                        C.cbs[t]=C.x[t]-B.x[t]\n",
    "                if C.BCID==-1:\n",
    "                    for B in Cells:\n",
    "                        if ((B.LID[t]==1 and C.LID[t]==0) or (B.LID[t]==0 and C.LID[t]==1)) and 0<C.x[t]+L-B.x[t]<C.cbs[t]:\n",
    "                            C.BCID=Cells.index(B)\n",
    "                            C.cbs[t]=C.x[t]+L-B.x[t]\n",
    "        \n",
    "        #换道判断\n",
    "        for C in Cells:\n",
    "            if NSC(C.v[t],Cells[C.BCID].v[t],C.s[t]-Cells[C.FID].l,C.cs[t]-Cells[C.FCID].l,C.cbs[t]-Cells[C.BCID].l,C.p):\n",
    "                if C.LID[t]==0:\n",
    "                    C.CFlag=1\n",
    "                else:\n",
    "                    C.CFlag=0\n",
    "            else:\n",
    "                C.CFlag=-1\n",
    "        \n",
    "        #换道\n",
    "        for C in Cells:\n",
    "            if C.stop==0:\n",
    "                while C.FID!=-1 and C.CFlag!=-1:#检测前50m内有无换道，有则推迟换道（推迟到下一个步长，保证换道判断同步性的同时，减少一队车辆同时换道的情况）\n",
    "                    if Cells[C.FID].x[t]-C.x[t]>0:\n",
    "                        if Cells[C.FID].x[t]-C.x[t]>50:\n",
    "                            break\n",
    "                    else:\n",
    "                        if Cells[C.FID].x[t]+L-C.x[t]>50:\n",
    "                            break\n",
    "                    if Cells[C.FID].CFlag!=-1:\n",
    "                        C.CFlag=-1\n",
    "                        break\n",
    "                    C.FID=Cells[C.FID].FID\n",
    "                if C.CFlag!=-1:\n",
    "                    if t>0/dt:#无预热\n",
    "                        Cn+=1\n",
    "                        Ch.append((C.x[t],C.LID[t]))\n",
    "                    for tt in range(t,T-1):#换道成功后，修改该车所在车道\n",
    "                        C.LID[tt]=C.CFlag\n",
    "        \n",
    "    print(\"ok\")\n",
    "    return Cells"
   ]
  },
  {
   "cell_type": "code",
   "execution_count": 12,
   "metadata": {},
   "outputs": [],
   "source": [
    "def Visual(Results,ll,ln,T):#可视化\n",
    "    x=[100*int(i/ln) for i in range(int(ln*ll/100+ln))]\n",
    "    y=[i%ln for i in range(int(ln*ll/100+ln))]\n",
    "    #print(y)\n",
    "    s=[0 for i in range(int(ln*ll/100+ln))]\n",
    "    for ch in Ch:\n",
    "        if 0<=ch[0]<=ll:\n",
    "            s[ln*int(ch[0]/100)+ch[1]]+=1\n",
    "    plt.rcParams[\"font.family\"] = 'Arial Unicode MS'\n",
    "    plt.figure(figsize=(15,1))\n",
    "    plt.xlim([0,ll])\n",
    "    plt.scatter(x,y,s)\n",
    "    fig=plt.figure(figsize=(15,1))\n",
    "    plt.title(\"车道-位移\")\n",
    "    #plt.xlim([0,ll])\n",
    "    #plt.ylim([0,1])\n",
    "    ims=[]\n",
    "    for t in range(int(T/dt)-1):\n",
    "        if 0<t<720 and t%1==0:\n",
    "            X=[C.x[t] for C in Results]\n",
    "            Y=[C.LID[t] for C in Results]\n",
    "            im=plt.scatter(X,Y,c='k').findobj()\n",
    "            ims.append(im)\n",
    "    animation = ani.ArtistAnimation(fig, ims, interval=100, repeat_delay=1000)\n",
    "    animation.save(\"test+.gif\",writer='pillow')"
   ]
  },
  {
   "cell_type": "code",
   "execution_count": 13,
   "metadata": {},
   "outputs": [
    {
     "name": "stdout",
     "output_type": "stream",
     "text": [
      "ok\n"
     ]
    }
   ],
   "source": [
    "L=6*1000\n",
    "ln=2\n",
    "Circle=1\n",
    "T=1*60*60\n",
    "Iq=1000/3600\n",
    "DT=0\n",
    "Results=Simulation(L,ln,Circle,T,Iq)"
   ]
  },
  {
   "cell_type": "code",
   "execution_count": 14,
   "metadata": {},
   "outputs": [
    {
     "name": "stdout",
     "output_type": "stream",
     "text": [
      "11920.0 3.311111111111111\n"
     ]
    }
   ],
   "source": [
    "print(Cn/dt,Cn/T)"
   ]
  },
  {
   "cell_type": "code",
   "execution_count": 15,
   "metadata": {},
   "outputs": [
    {
     "data": {
      "image/png": "[encoded data removed]",
      "text/plain": [
       "<Figure size 1080x72 with 1 Axes>"
      ]
     },
     "metadata": {
      "needs_background": "light"
     },
     "output_type": "display_data"
    },
    {
     "data": {
      "image/png": "[encoded data removed]",
      "text/plain": [
       "<Figure size 1080x72 with 1 Axes>"
      ]
     },
     "metadata": {
      "needs_background": "light"
     },
     "output_type": "display_data"
    }
   ],
   "source": [
    "Visual(Results,L,ln,T)"
   ]
  },
  {
   "cell_type": "markdown",
   "metadata": {},
   "source": [
    "> Sofarja@outlook.com\n",
    ">\n",
    "> ---\n",
    ">\n",
    "> 21018116\n",
    ">\n",
    "> 郭艺铧\n",
    ">\n",
    "> 交通工程"
   ]
  }
 ],
 "metadata": {
  "kernelspec": {
   "display_name": "Python 3",
   "language": "python",
   "name": "python3"
  },
  "language_info": {
   "codemirror_mode": {
    "name": "ipython",
    "version": 3
   },
   "file_extension": ".py",
   "mimetype": "text/x-python",
   "name": "python",
   "nbconvert_exporter": "python",
   "pygments_lexer": "ipython3",
   "version": "3.7.0"
  }
 },
 "nbformat": 4,
 "nbformat_minor": 4
}
