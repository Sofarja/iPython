{
 "cells": [
  {
   "cell_type": "markdown",
   "metadata": {},
   "source": [
    "# MOBIL模型仿真"
   ]
  },
  {
   "cell_type": "code",
   "execution_count": 15,
   "metadata": {},
   "outputs": [],
   "source": [
    "import math\n",
    "import matplotlib.pyplot as plt\n",
    "import matplotlib.animation as ani\n",
    "import random\n",
    "dt=0.1#步长\n",
    "Cn=0#换道次数\n",
    "C=[]#换道信息记录\n",
    "A_i=4#IDM模型参数\n",
    "v_f=30#期望速度\n",
    "δ=2#\n",
    "l=6#默认车长\n",
    "s_0=8#安全距离\n",
    "s_1=0#IDM参数\n",
    "T_i=1.1#IDM参数\n",
    "b_i=4#\n",
    "Δa=0.39#换道门槛\n",
    "a_bias=0#换道平衡\n",
    "b_safe=-4#换道对后车影响安全减速度"
   ]
  },
  {
   "cell_type": "code",
   "execution_count": 16,
   "metadata": {},
   "outputs": [],
   "source": [
    "class Vehicle:#车辆定义\n",
    "    def __init__(self,ID=0,LID=1,T=10,S=float(\"inf\"),V=v_f,A=0,X=0,flag=0,stop=0,p=0.1):\n",
    "        self.ID=ID#车辆ID\n",
    "        self.LID=[LID for t in range(T)]#车辆所在车道ID\n",
    "        self.FID=-1#跟驰前车ID\n",
    "        self.BID=-1#被跟驰后车ID\n",
    "        self.FCID=-1#换道后 前车ID\n",
    "        self.BCID=-1#换道后 后车ID\n",
    "        self.FFlag=0#跟驰检测\n",
    "        self.CFlag=0#换道检测\n",
    "        self.s=[S for t in range(T)]#车头间距数据储存\n",
    "        self.v=[V for t in range(T)]#速度数据储存\n",
    "        self.a=[A for t in range(T)]#加速度数据储存\n",
    "        self.x=[X for t in range(T)]#位移数据储存\n",
    "        self.flag=flag#是否在路段内\n",
    "        self.stop=stop#是否停止\n",
    "        self.p=p#利他因子"
   ]
  },
  {
   "cell_type": "code",
   "execution_count": 17,
   "metadata": {},
   "outputs": [],
   "source": [
    "class Lane:#车道定义\n",
    "    def __init__(self,ID=1,LL=1000,T=1*60*60,Iq=1000/3600,flag=1,dm=0):\n",
    "        self.flag=flag#末端能否通行\n",
    "        self.ID=ID#车道ID\n",
    "        self.LL=LL#车道长度\n",
    "        self.Iq=Iq#输入流量\n",
    "        if self.flag!=0:\n",
    "            self.VID=0#该车道下次到达的车辆ID\n",
    "            self.Vehicles=[Vehicle(n,ID,T) for n in range(int(T*Iq))]#提前分配该车道预计到达车辆\n",
    "        if self.flag==0:\n",
    "            self.VID=1#起始车辆ID设置为1\n",
    "            #初始位置和利他因子设置\n",
    "            self.Vehicles=[Vehicle(ID=n,LID=ID,T=T,X=dm,p=0) for n in range(int(T*Iq))]\n",
    "            #设置一辆常停车在路端\n",
    "            self.Vehicles[0].stop=1\n",
    "            self.Vehicles[0].flag=1\n",
    "            self.Vehicles[0].x=[LL+dm for t in range(T)]"
   ]
  },
  {
   "cell_type": "code",
   "execution_count": 18,
   "metadata": {},
   "outputs": [],
   "source": [
    "def IDM(s=s_0,v1=0,v0=0):#IDM模型求加速度\n",
    "    if s-l<=0:#修改后的IDM，由于公式自带的平方项，当s减少到车长下时，负效应会消失，应控制使其大于车场\n",
    "        s=6.01\n",
    "    a=A_i*(1-math.pow((v1/v_f),δ)-math.pow(((Sit(v1,v0)-l)/(s-l)),2))\n",
    "    return a#未设置最大减速度，防止碰撞（穿模）"
   ]
  },
  {
   "cell_type": "code",
   "execution_count": 19,
   "metadata": {},
   "outputs": [],
   "source": [
    "def Sit(v1=0,v0=0):#期望车距函数\n",
    "    Sx=s_0+s_1*math.pow((v1/v_f),0.5)+T_i*v1+(v1*(v1-v0))/(2*math.pow(A_i*b_i,0.5))\n",
    "    return Sx"
   ]
  },
  {
   "cell_type": "code",
   "execution_count": 20,
   "metadata": {},
   "outputs": [],
   "source": [
    "#换道需求+安全换道\n",
    "def DS(a0=0,a1=0,a2=0,ac2=0,s1c=s_0,s2c=s_0,sc2c=s_0,v0=0,vc0=0,v1=0,v2=0,vc2=0,p=1):\n",
    "    a1c=IDM(s1c,v1,vc0)#换道后 本车的加速度\n",
    "    a2c=IDM(s2c,v2,v0)#换道后 原后车的加速度\n",
    "    ac2c=IDM(sc2c,vc2,v1)#换道后 后车的加速度\n",
    "    D=a1c-a1+p*(a2c-a2+ac2c-ac2)\n",
    "    if D>Δa+a_bias and ac2c>b_safe:\n",
    "        return 1\n",
    "    else:\n",
    "        return 0"
   ]
  },
  {
   "cell_type": "code",
   "execution_count": 21,
   "metadata": {},
   "outputs": [],
   "source": [
    "def Poisson(lam):#泊松近似，当步长足够小时与泊松无明显区别\n",
    "    u = random.uniform(0,1)\n",
    "    p = 2.718281828459045**(-lam)\n",
    "    f = p\n",
    "    if u < f:\n",
    "        return 0\n",
    "    else:\n",
    "        return 1"
   ]
  },
  {
   "cell_type": "code",
   "execution_count": 22,
   "metadata": {},
   "outputs": [],
   "source": [
    "def Simulation(ln=2,ll=1000,T=1*60*60,Iq=1000/3600):#仿真\n",
    "    global Cn\n",
    "    global C\n",
    "    #初始化\n",
    "    T=int(T/dt)\n",
    "    #主路\n",
    "    Lanes=[Lane(n+1,ll,T,Iq) for n in range(ln)]\n",
    "    #匝道\n",
    "    MLane=Lane(0,300,T,500/3600,0,7500)\n",
    "    Lanes.insert(0,MLane)\n",
    "    #路段内的车\n",
    "    Vehicles=[MLane.Vehicles[0]]#先将匝道端部设想的停止车辆添加到路段中\n",
    "    \n",
    "    #开始仿真\n",
    "    for t in range(T-1):\n",
    "        \n",
    "        #到达\n",
    "        for L in Lanes:\n",
    "            if Poisson(L.Iq*dt):\n",
    "                if L.VID<T*L.Iq*dt:\n",
    "                    V=L.Vehicles[L.VID]\n",
    "                    V.flag=1\n",
    "                    Vehicles.append(V)\n",
    "                    L.VID+=1\n",
    "                    \n",
    "        #跟驰判断与匹配\n",
    "        for V in Vehicles:\n",
    "            if V.stop==0:\n",
    "                if V.LID[t]==0 and V.ID!=0 and 1070>V.x[t]>=1030 and t%10==0:\n",
    "                    print(V.ID,V.x[t],V.v[t],V.a[t],V.FID,Vehicles[0].LID[t])\n",
    "                V.FFlag=0\n",
    "                for F in Vehicles:\n",
    "                    if F.LID[t]==V.LID[t] and F.x[t]>V.x[t]:\n",
    "                        V.FFlag=1\n",
    "                        if F.x[t]-V.x[t]<V.s[t]:\n",
    "                            V.FID=Vehicles.index(F)\n",
    "                            V.s[t]=F.x[t]-V.x[t]\n",
    "                if V.FFlag==0:\n",
    "                    V.FID=-1\n",
    "        \n",
    "        #跟驰\n",
    "        for V in Vehicles:\n",
    "            if V.stop==0:\n",
    "                if V.FFlag==1:\n",
    "                    V.x[t+1]=V.x[t]+V.v[t]*dt+0.5*V.a[t]*dt*dt\n",
    "                    V.v[t+1]=max(V.v[t]+V.a[t]*dt,0)\n",
    "                    V.a[t+1]=IDM(V.s[t],V.v[t],Vehicles[V.FID].v[t])\n",
    "                else:\n",
    "                    V.x[t+1]=V.x[t]+V.v[t]*dt+0.5*V.a[t]*dt*dt\n",
    "                    V.v[t+1]=max(V.v[t]+V.a[t]*dt,0)\n",
    "                    V.a[t+1]=IDM(float(\"inf\"),V.v[t],v_f)\n",
    "        \n",
    "        #后车查询\n",
    "        for V in Vehicles:\n",
    "            for B in Vehicles:\n",
    "                if B.FID==Vehicles.index(V):\n",
    "                    V.BID=Vehicles.index(B)\n",
    "                    break\n",
    "            V.BID=-1\n",
    "        \n",
    "        #相邻车道前车判断与匹配\n",
    "        for V in Vehicles:\n",
    "            if V.stop==0:\n",
    "                ts=float(\"inf\")\n",
    "                V.FCID=-1\n",
    "                for F in Vehicles:\n",
    "                    if ((F.LID[t]==1 and V.LID[t]==0) or (F.LID[t]==2 and V.LID[t]==1) or (F.LID[t]==1 and V.LID[t]==2)) and 0<F.x[t]-V.x[t]<ts:\n",
    "                        V.FCID=Vehicles.index(F)\n",
    "                        ts=F.x[t]-V.x[t]\n",
    "        \n",
    "        #相邻车道后车判断与匹配\n",
    "        for V in Vehicles:\n",
    "            if V.stop==0:\n",
    "                ts=float(\"inf\")\n",
    "                V.BCID=-1\n",
    "                for B in Vehicles:\n",
    "                    if ((B.LID[t]==1 and V.LID[t]==0) or (B.LID[t]==2 and V.LID[t]==1) or (B.LID[t]==1 and V.LID[t]==2)) and 0<V.x[t]-B.x[t]<ts:\n",
    "                        V.BCID=Vehicles.index(B)\n",
    "                        ts=V.x[t]-B.x[t]\n",
    "        \n",
    "        #换道判断\n",
    "        for V in Vehicles:\n",
    "            if V.stop==0:\n",
    "                a0=0;a1=V.a[t];a2=0;ac2=0;s1c=float(\"inf\");s2c=float(\"inf\");sc2c=float(\"inf\");v0=0;vc0=0;v1=V.v[t];v2=0;vc2=0;p=V.p\n",
    "                if V.FID>=0:\n",
    "                    F=Vehicles[V.FID]\n",
    "                    a0=F.a[t]\n",
    "                    v0=F.v[t]\n",
    "                if V.BID>=0:\n",
    "                    B=Vehicles[V.BID]\n",
    "                    a2=B.a[t]\n",
    "                    v2=B.v[t]\n",
    "                    if V.FID>=0:\n",
    "                        s2c=Vehicles[V.FID].x[t]-B.x[t]\n",
    "                if V.FCID>=0:\n",
    "                    FC=Vehicles[V.FCID]\n",
    "                    s1c=FC.x[t]-V.x[t]\n",
    "                    vc0=FC.v[t]\n",
    "                if V.BCID>=0:\n",
    "                    BC=Vehicles[V.BCID]\n",
    "                    ac2=BC.a[t]\n",
    "                    vc2=BC.v[t]\n",
    "                    sc2c=V.x[t]-BC.x[t]\n",
    "                if DS(a0,a1,a2,ac2,s1c,s2c,sc2c,v0,vc0,v1,v2,vc2,p):\n",
    "                    if V.LID[t]==1:\n",
    "                        V.CFlag=2\n",
    "                    else:\n",
    "                        V.CFlag=1\n",
    "                else:\n",
    "                    V.CFlag=0\n",
    "        #换道\n",
    "        for V in Vehicles:\n",
    "            if V.stop==0:\n",
    "                while V.FID!=-1 and V.CFlag!=0:#检测前100m内有无换道，有则推迟换道（推迟到下一个步长，保证换道判断同步性的同时，减少一队车辆同时换道的情况）\n",
    "                    if Vehicles[V.FID].x[t]-V.x[t]>100:\n",
    "                        break\n",
    "                    if Vehicles[V.FID].CFlag!=0:\n",
    "                        V.CFlag=0\n",
    "                        break\n",
    "                    V.FID=Vehicles[V.FID].FID\n",
    "                if V.CFlag!=0 and (V.FID<0 or Vehicles[V.FID].CFlag==0):\n",
    "                    if t>300/dt:#前5min预热，使车辆散步到路段\n",
    "                        Cn+=1\n",
    "                        C.append((V.x[t],V.LID[t]))\n",
    "                    for tt in range(t,T-1):#换道成功后，修改该车所在车道\n",
    "                        V.LID[tt]=V.CFlag\n",
    "        \n",
    "        #出界处理\n",
    "        for V in Vehicles:\n",
    "            if V.x[t]>ll or V.x[t]<0:#将位移大于路段长度的车辆从路段中剔除\n",
    "                V.flag=0\n",
    "                del Vehicles[Vehicles.index(V)]\n",
    "    \n",
    "    print(\"ok\")\n",
    "    return Lanes"
   ]
  },
  {
   "cell_type": "code",
   "execution_count": 23,
   "metadata": {},
   "outputs": [],
   "source": [
    "def Visual(Results,ll,ln,T):#可视化\n",
    "    x=[100*int(i/3) for i in range(int(3*ll/100+3))]\n",
    "    y=[i%3 for i in range(int(3*ll/100+3))]\n",
    "    #print(y)\n",
    "    s=[0 for i in range(int(3*ll/100+3))]\n",
    "    for c in C:\n",
    "        if 0<=c[0]<=ll:\n",
    "            s[3*int(c[0]/100)+c[1]]+=1\n",
    "        #if c[1]!=1:\n",
    "            #print(c[0],c[1],3*int(c[0]/100)+c[1],(3*int(c[0]/100)+c[1])%3)\n",
    "    plt.rcParams[\"font.family\"] = 'Arial Unicode MS'\n",
    "    plt.figure(figsize=(15,1))\n",
    "    plt.xlim([0,10000])\n",
    "    plt.scatter(x,y,s)\n",
    "    fig=plt.figure(figsize=(15,1))\n",
    "    plt.title(\"车道-位移\")\n",
    "    plt.xlim([0,10000])\n",
    "    ims=[]\n",
    "    for t in range(int(T/dt)-1):\n",
    "        if 2600<t<3000 and t%10==0:\n",
    "            x=[0,0,0]\n",
    "            y=[0,0,0]\n",
    "            for i in range(3):\n",
    "                x[i]=[Results[i].Vehicles[n].x[t] for n in range(int(T*Results[i].Iq))]\n",
    "                y[i]=[Results[i].Vehicles[n].LID[t] for n in range(int(T*Results[i].Iq))]\n",
    "            X=x[0]+x[1]+x[2]\n",
    "            Y=y[0]+y[1]+y[2]\n",
    "            im=plt.scatter(X,Y,c='k').findobj()\n",
    "            ims.append(im)\n",
    "    animation = ani.ArtistAnimation(fig, ims, interval=100, repeat_delay=1000)\n",
    "    animation.save(\"test.gif\",writer='pillow')"
   ]
  },
  {
   "cell_type": "code",
   "execution_count": 26,
   "metadata": {},
   "outputs": [
    {
     "name": "stdout",
     "output_type": "stream",
     "text": [
      "786.7\n",
      "83 190 186\n"
     ]
    }
   ],
   "source": [
    "print(Cn*dt,Cn/T)"
   ]
  },
  {
   "cell_type": "code",
   "execution_count": 24,
   "metadata": {
    "collapsed": true,
    "jupyter": {
     "outputs_hidden": true
    }
   },
   "outputs": [
    {
     "name": "stdout",
     "output_type": "stream",
     "text": [
      "0\n",
      "1\n",
      "2\n",
      "1 2\n",
      "2 1\n",
      "1 2\n",
      "2 1\n",
      "1 2\n",
      "2 1\n",
      "1 2\n",
      "2 1\n",
      "1 2\n",
      "2 1\n",
      "1 2\n",
      "2 1\n",
      "1 2\n",
      "2 1\n",
      "1 2\n",
      "2 1\n",
      "1 2\n",
      "2 1\n",
      "1 2\n",
      "2 1\n",
      "1 2\n",
      "2 1\n",
      "1 2\n",
      "2 1\n",
      "2 1\n",
      "2 1\n",
      "1 2\n",
      "1 2\n",
      "2 1\n",
      "1 2\n",
      "2 1\n",
      "1 2\n",
      "2 1\n",
      "1 2\n",
      "2 1\n",
      "1 2\n",
      "ok\n"
     ]
    }
   ],
   "source": [
    "ln=2\n",
    "ll=10*1000\n",
    "T=0.2*60*60\n",
    "Iq=1000/3600\n",
    "Results=Simulation(ln,ll,T,Iq)"
   ]
  },
  {
   "cell_type": "code",
   "execution_count": 25,
   "metadata": {},
   "outputs": [
    {
     "data": {
      "image/png": "[encoded data removed]",
      "text/plain": [
       "<Figure size 1080x72 with 1 Axes>"
      ]
     },
     "metadata": {
      "needs_background": "light"
     },
     "output_type": "display_data"
    },
    {
     "data": {
      "image/png": "[encoded data removed]",
      "text/plain": [
       "<Figure size 1080x72 with 1 Axes>"
      ]
     },
     "metadata": {
      "needs_background": "light"
     },
     "output_type": "display_data"
    }
   ],
   "source": [
    "Visual(Results,ll,ln,T)"
   ]
  },
  {
   "cell_type": "markdown",
   "metadata": {},
   "source": [
    "> Sofarja@outlook.com\n",
    ">\n",
    "> ---\n",
    ">\n",
    "> 21018116\n",
    ">\n",
    "> 郭艺铧\n",
    ">\n",
    "> 交通工程"
   ]
  }
 ],
 "metadata": {
  "kernelspec": {
   "display_name": "Python 3",
   "language": "python",
   "name": "python3"
  },
  "language_info": {
   "codemirror_mode": {
    "name": "ipython",
    "version": 3
   },
   "file_extension": ".py",
   "mimetype": "text/x-python",
   "name": "python",
   "nbconvert_exporter": "python",
   "pygments_lexer": "ipython3",
   "version": "3.7.0"
  }
 },
 "nbformat": 4,
 "nbformat_minor": 4
}
