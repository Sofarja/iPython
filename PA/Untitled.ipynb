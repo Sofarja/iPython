{
 "cells": [
  {
   "cell_type": "code",
   "execution_count": 3,
   "metadata": {},
   "outputs": [
    {
     "ename": "ImportError",
     "evalue": "Keras requires TensorFlow 2.2 or higher. Install TensorFlow via `pip install tensorflow`",
     "output_type": "error",
     "traceback": [
      "\u001b[1;31m---------------------------------------------------------------------------\u001b[0m",
      "\u001b[1;31mModuleNotFoundError\u001b[0m                       Traceback (most recent call last)",
      "\u001b[1;32md:\\python\\lib\\site-packages\\keras\\__init__.py\u001b[0m in \u001b[0;36m<module>\u001b[1;34m\u001b[0m\n\u001b[0;32m      2\u001b[0m \u001b[1;32mtry\u001b[0m\u001b[1;33m:\u001b[0m\u001b[1;33m\u001b[0m\u001b[0m\n\u001b[1;32m----> 3\u001b[1;33m     \u001b[1;32mfrom\u001b[0m \u001b[0mtensorflow\u001b[0m\u001b[1;33m.\u001b[0m\u001b[0mkeras\u001b[0m\u001b[1;33m.\u001b[0m\u001b[0mlayers\u001b[0m\u001b[1;33m.\u001b[0m\u001b[0mexperimental\u001b[0m\u001b[1;33m.\u001b[0m\u001b[0mpreprocessing\u001b[0m \u001b[1;32mimport\u001b[0m \u001b[0mRandomRotation\u001b[0m\u001b[1;33m\u001b[0m\u001b[0m\n\u001b[0m\u001b[0;32m      4\u001b[0m \u001b[1;32mexcept\u001b[0m \u001b[0mImportError\u001b[0m\u001b[1;33m:\u001b[0m\u001b[1;33m\u001b[0m\u001b[0m\n",
      "\u001b[1;31mModuleNotFoundError\u001b[0m: No module named 'tensorflow'",
      "\nDuring handling of the above exception, another exception occurred:\n",
      "\u001b[1;31mImportError\u001b[0m                               Traceback (most recent call last)",
      "\u001b[1;32m<ipython-input-3-5a7a48b1b054>\u001b[0m in \u001b[0;36m<module>\u001b[1;34m\u001b[0m\n\u001b[0;32m      4\u001b[0m \u001b[1;33m\u001b[0m\u001b[0m\n\u001b[0;32m      5\u001b[0m \u001b[1;33m\u001b[0m\u001b[0m\n\u001b[1;32m----> 6\u001b[1;33m \u001b[1;32mfrom\u001b[0m \u001b[0mkeras\u001b[0m\u001b[1;33m.\u001b[0m\u001b[0mmodels\u001b[0m \u001b[1;32mimport\u001b[0m \u001b[0mSequential\u001b[0m\u001b[1;33m\u001b[0m\u001b[0m\n\u001b[0m\u001b[0;32m      7\u001b[0m \u001b[1;32mfrom\u001b[0m \u001b[0mkeras\u001b[0m\u001b[1;33m.\u001b[0m\u001b[0mlayers\u001b[0m \u001b[1;32mimport\u001b[0m \u001b[0mDense\u001b[0m\u001b[1;33m,\u001b[0m \u001b[0mActivation\u001b[0m\u001b[1;33m,\u001b[0m \u001b[0mDropout\u001b[0m\u001b[1;33m\u001b[0m\u001b[0m\n\u001b[0;32m      8\u001b[0m \u001b[1;32mfrom\u001b[0m \u001b[0mkeras\u001b[0m\u001b[1;33m.\u001b[0m\u001b[0moptimizers\u001b[0m \u001b[1;32mimport\u001b[0m \u001b[0mAdam\u001b[0m\u001b[1;33m\u001b[0m\u001b[0m\n",
      "\u001b[1;32md:\\python\\lib\\site-packages\\keras\\__init__.py\u001b[0m in \u001b[0;36m<module>\u001b[1;34m\u001b[0m\n\u001b[0;32m      4\u001b[0m \u001b[1;32mexcept\u001b[0m \u001b[0mImportError\u001b[0m\u001b[1;33m:\u001b[0m\u001b[1;33m\u001b[0m\u001b[0m\n\u001b[0;32m      5\u001b[0m     raise ImportError(\n\u001b[1;32m----> 6\u001b[1;33m         \u001b[1;34m'Keras requires TensorFlow 2.2 or higher. '\u001b[0m\u001b[1;33m\u001b[0m\u001b[0m\n\u001b[0m\u001b[0;32m      7\u001b[0m         'Install TensorFlow via `pip install tensorflow`')\n\u001b[0;32m      8\u001b[0m \u001b[1;33m\u001b[0m\u001b[0m\n",
      "\u001b[1;31mImportError\u001b[0m: Keras requires TensorFlow 2.2 or higher. Install TensorFlow via `pip install tensorflow`"
     ]
    }
   ],
   "source": [
    "import pandas as pd\n",
    "import numpy as np\n",
    "import matplotlib.pyplot as plt\n",
    "\n",
    "\n",
    "from keras.models import Sequential\n",
    "from keras.layers import Dense, Activation, Dropout\n",
    "from keras.optimizers import Adam\n",
    "from tensorflow.keras.callbacks import TensorBoard\n",
    "\n",
    "import time\n",
    "NAME = 'DigiRecognizer-CNN-{}'.format(int(time.time()))\n",
    "tensorboard = TensorBoard(log_dir='logs\\{}'.format(NAME))\n",
    "\n",
    "def readData(fp):                   # 这里主要是把读取的POI和OD数据转换成12769(113*113)*N的形式，N是维度，对于POI是32维(一个点16，一OD对32)，对于OD是一维，即OD流量\n",
    "    od = pd.read_excel(fp[0])\n",
    "    poi = pd.read_excel(fp[1])\n",
    "    zeroAppend = pd.DataFrame([np.array(['{}'.format(i).zfill(3)+'-'+'{}'.format(i).zfill(3)] + [0 for j in range(18)]) for i in range(1,114)], columns=od.columns)\n",
    "    od = pd.concat([od, zeroAppend],axis=0).sort_values(by='od').reset_index(drop=True)\n",
    "    od[od.columns[1:]] = od[od.columns[1:]].astype(int)\n",
    "    od = od.values\n",
    "    odTime = np.array([od[:,i] for i in range(1,19)]).T\n",
    "    poi = poi.values[:,2:]\n",
    "    poiData = np.array([poi[i].tolist()+poi[j].tolist() for i in range(0,113) for j in range(0,113)])\n",
    "    return odTime, poiData\n",
    "\n",
    "\n",
    "def nnModel():                      # 模型结构\n",
    "    model = Sequential()\n",
    "    model.add(Dense(200))\n",
    "    model.add(Activation('relu'))\n",
    "    model.add(Dropout(0.3))\n",
    "    model.add(Dense(200))\n",
    "    model.add(Activation('relu'))\n",
    "    model.add(Dropout(0.3))\n",
    "    model.add(Dense(1))\n",
    "    model.add(Activation('relu'))\n",
    "    adam = Adam(lr=1e-3)\n",
    "    model.compile(optimizer=adam, loss='mse',metrics=['mae'])\n",
    "    return model\n",
    "\n",
    "\n",
    "def modelTrain(X_train, y_train, model, savefp):        # 训练过程\n",
    "    history = model.fit(X_train, y_train, epochs=300, validation_split=0.1, callbacks=[tensorboard])\n",
    "    plt.plot(history.epoch, history.history['loss'], label='train_loss')\n",
    "    plt.plot(history.epoch, history.history['val_loss'], label='test_loss')\n",
    "    plt.ylim(0, 1500)\n",
    "    plt.legend()\n",
    "    plt.show()\n",
    "    model.save(savefp)\n",
    "\n",
    "\n",
    "def dataDivide(odTime, poiData):\n",
    "    pass\n",
    "\n",
    "def shuffle_np(X, Y):\n",
    "    Y = Y.reshape(len(Y), 1)\n",
    "    data = np.concatenate([X, Y], axis=-1)\n",
    "    np.random.seed(48)\n",
    "    np.random.shuffle(data)\n",
    "    X = data[:, :-1]\n",
    "    Y = data[:, -1]\n",
    "    return X, Y\n",
    "\n",
    "def main(i):                                            # 主函数，i是时间段在表中是第几列\n",
    "    fp = [r'OD.xlsx', r'POI-normalized data.xlsx']\n",
    "    odTime, poiData = readData(fp)\n",
    "    X = poiData\n",
    "    y = odTime[:,i]\n",
    "    X, y = shuffle_np(X, y)\n",
    "    model = nnModel()\n",
    "    modelTrain(X, y, model, 'save-17.h5')\n",
    "\n",
    "if __name__ == '__main__':\n",
    "    main(11)"
   ]
  },
  {
   "cell_type": "code",
   "execution_count": 3,
   "metadata": {},
   "outputs": [
    {
     "name": "stdout",
     "output_type": "stream",
     "text": [
      "Note: you may need to restart the kernel to use updated packages.\n"
     ]
    },
    {
     "name": "stderr",
     "output_type": "stream",
     "text": [
      "ERROR: Invalid requirement: 'tensorflow\\xa0\\xa0-i'\n"
     ]
    }
   ],
   "source": [
    "pip install tensorflow  -i http://pypi.doubanio.com/simple/ --trusted-host pypi.doubanio.com"
   ]
  }
 ],
 "metadata": {
  "kernelspec": {
   "display_name": "Python 3",
   "language": "python",
   "name": "python3"
  },
  "language_info": {
   "codemirror_mode": {
    "name": "ipython",
    "version": 3
   },
   "file_extension": ".py",
   "mimetype": "text/x-python",
   "name": "python",
   "nbconvert_exporter": "python",
   "pygments_lexer": "ipython3",
   "version": "3.7.0"
  }
 },
 "nbformat": 4,
 "nbformat_minor": 4
}
