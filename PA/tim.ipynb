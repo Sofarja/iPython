{
 "cells": [
  {
   "cell_type": "code",
   "execution_count": 5,
   "metadata": {},
   "outputs": [
    {
     "name": "stdout",
     "output_type": "stream",
     "text": [
      "2020-03-12 23:19:01\n"
     ]
    }
   ],
   "source": [
    "import pandas as pd\n",
    "from pandas.tseries.offsets import *\n",
    "time='20200312231901'\n",
    "date=pd.to_datetime(time)\n",
    "print(date)"
   ]
  },
  {
   "cell_type": "code",
   "execution_count": 16,
   "metadata": {},
   "outputs": [
    {
     "name": "stdout",
     "output_type": "stream",
     "text": [
      "Wall time: 1.3 s\n",
      "0         20170102141900\n",
      "1         20170102072443\n",
      "2         20170102100358\n",
      "3         20170102212702\n",
      "4         20170102130139\n",
      "               ...      \n",
      "911594    20170102162046\n",
      "911595    20170102193850\n",
      "911596    20170102141011\n",
      "911597               NaN\n",
      "911598               NaN\n",
      "Name: 入站时间, Length: 911599, dtype: object\n",
      "0        2017-01-02 14:19:00\n",
      "1        2017-01-02 07:24:43\n",
      "2        2017-01-02 10:03:58\n",
      "3        2017-01-02 21:27:02\n",
      "4        2017-01-02 13:01:39\n",
      "                 ...        \n",
      "911594   2017-01-02 16:20:46\n",
      "911595   2017-01-02 19:38:50\n",
      "911596   2017-01-02 14:10:11\n",
      "911597                   NaT\n",
      "911598                   NaT\n",
      "Name: 入站时间, Length: 911599, dtype: datetime64[ns]\n",
      "Wall time: 1min 4s\n"
     ]
    }
   ],
   "source": [
    "%%time\n",
    "import pandas as pd\n",
    "#from pandas.tseries.offsets import *\n",
    "%time data = pd.read_csv(\"MET20170102.csv\", dtype=str, sep=' ')\n",
    "time=data['入站时间']\n",
    "print(time)\n",
    "t=pd.to_datetime(time, errors='coerce')\n",
    "print(t)"
   ]
  },
  {
   "cell_type": "code",
   "execution_count": 38,
   "metadata": {},
   "outputs": [
    {
     "name": "stdout",
     "output_type": "stream",
     "text": [
      "Wall time: 1.7 s\n",
      "1723      2017-01-04 08:36:19\n",
      "2609      2017-01-04 07:19:12\n",
      "2719      2017-01-04 07:13:20\n",
      "3089      2017-01-04 20:33:50\n",
      "3216      2017-01-04 07:11:39\n",
      "                  ...        \n",
      "1164661   2017-01-04 07:19:39\n",
      "1164706   2017-01-04 08:38:53\n",
      "1165360   2017-01-04 17:37:06\n",
      "1165792   2017-01-04 17:01:37\n",
      "1166323   2017-01-04 19:56:40\n",
      "Name: 入站时间, Length: 2213, dtype: datetime64[ns]\n",
      "1723      2017-01-04 09:00:00\n",
      "2609      2017-01-04 08:09:51\n",
      "2719      2017-01-04 08:04:45\n",
      "3089      2017-01-04 21:25:53\n",
      "3216      2017-01-04 07:33:41\n",
      "                  ...        \n",
      "1164661   2017-01-04 07:44:29\n",
      "1164706   2017-01-04 09:05:49\n",
      "1165360   2017-01-04 18:12:42\n",
      "1165792   2017-01-04 17:32:47\n",
      "1166323   2017-01-04 20:27:50\n",
      "Name: 时间, Length: 2213, dtype: datetime64[ns]\n",
      "1723      00:23:41\n",
      "2609      00:50:39\n",
      "2719      00:51:25\n",
      "3089      00:52:03\n",
      "3216      00:22:02\n",
      "            ...   \n",
      "1164661   00:24:50\n",
      "1164706   00:26:56\n",
      "1165360   00:35:36\n",
      "1165792   00:31:10\n",
      "1166323   00:31:10\n",
      "Length: 2213, dtype: timedelta64[ns]\n"
     ]
    }
   ],
   "source": [
    "import pandas as pd\n",
    "%time data = pd.read_csv(\"MET20170104.csv\", dtype=str, sep=' ')\n",
    "for i in range(1,2):\n",
    "    ent=pd.to_datetime(data['入站时间'][data['站点号']==str(i).zfill(7)], errors='coerce')\n",
    "    ext=pd.to_datetime('2017-01-04 '+data['时间'][data['站点号']==str(i).zfill(7)], errors='coerce')\n",
    "    tp=ext-ent\n",
    "    print(ent)\n",
    "    print(ext)\n",
    "    print(tp)"
   ]
  },
  {
   "cell_type": "code",
   "execution_count": 36,
   "metadata": {},
   "outputs": [
    {
     "name": "stdout",
     "output_type": "stream",
     "text": [
      "Wall time: 1.6 s\n",
      "0          2017-01-04 16:49:09\n",
      "1          2017-01-04 07:14:12\n",
      "2          2017-01-04 09:56:45\n",
      "3          2017-01-04 16:20:50\n",
      "4          2017-01-04 07:33:49\n",
      "                  ...         \n",
      "1166788    2017-01-04 17:26:46\n",
      "1166789    2017-01-04 16:15:12\n",
      "1166790    2017-01-04 13:52:34\n",
      "1166791        2017-01-04 rows\n",
      "1166792       2017-01-04 spool\n",
      "Name: 时间, Length: 1166793, dtype: object\n"
     ]
    }
   ],
   "source": [
    "import pandas as pd\n",
    "from datetime import datetime\n",
    "%time data = pd.read_csv(\"MET20170104.csv\", dtype=str, sep=' ')\n",
    "ext='2017-01-04 '+data['时间']\n",
    "print(ext)"
   ]
  },
  {
   "cell_type": "code",
   "execution_count": 29,
   "metadata": {},
   "outputs": [
    {
     "data": {
      "text/plain": [
       "datetime.datetime(1900, 1, 1, 17, 26, 46)"
      ]
     },
     "execution_count": 29,
     "metadata": {},
     "output_type": "execute_result"
    }
   ],
   "source": [
    "import pandas as pd\n",
    "from datetime import datetime\n",
    "t='17:26:46'\n",
    "datetime.strptime(t,'%H:%M:%S')"
   ]
  },
  {
   "cell_type": "code",
   "execution_count": 31,
   "metadata": {},
   "outputs": [
    {
     "name": "stdout",
     "output_type": "stream",
     "text": [
      "0000000\n",
      "0000001\n",
      "0000002\n",
      "0000003\n",
      "0000004\n"
     ]
    }
   ],
   "source": [
    "for i in range(5):\n",
    "    print(str(i).zfill(7))"
   ]
  },
  {
   "cell_type": "code",
   "execution_count": 39,
   "metadata": {},
   "outputs": [
    {
     "data": {
      "text/plain": [
       "'4:23:09.128700'"
      ]
     },
     "execution_count": 39,
     "metadata": {},
     "output_type": "execute_result"
    }
   ],
   "source": [
    "import datetime\n",
    "str(datetime.timedelta(seconds=15789.1287))"
   ]
  },
  {
   "cell_type": "code",
   "execution_count": null,
   "metadata": {},
   "outputs": [],
   "source": []
  }
 ],
 "metadata": {
  "kernelspec": {
   "display_name": "Python 3",
   "language": "python",
   "name": "python3"
  },
  "language_info": {
   "codemirror_mode": {
    "name": "ipython",
    "version": 3
   },
   "file_extension": ".py",
   "mimetype": "text/x-python",
   "name": "python",
   "nbconvert_exporter": "python",
   "pygments_lexer": "ipython3",
   "version": "3.7.0"
  }
 },
 "nbformat": 4,
 "nbformat_minor": 4
}
