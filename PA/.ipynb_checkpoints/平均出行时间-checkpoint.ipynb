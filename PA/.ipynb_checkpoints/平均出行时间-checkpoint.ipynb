{
 "cells": [
  {
   "cell_type": "code",
   "execution_count": 9,
   "metadata": {},
   "outputs": [],
   "source": [
    "import pandas as pd\n",
    "import numpy as np\n",
    "import datetime\n",
    "n=12\n",
    "data = pd.read_csv(\"MET201701\"+str(n)+\".csv\", dtype=str, sep=' ')\n",
    "id = pd.read_excel(\"STATIONID.xls\")\n",
    "mtp=[[0]*2]*113\n",
    "for i in range(1,114):\n",
    "    ent=pd.to_datetime(data['入站时间'][data['站点号']==str(i).zfill(7)], errors='coerce')\n",
    "    ext=pd.to_datetime('2017-01-12 '+data['时间'][data['站点号']==str(i).zfill(7)], errors='coerce')\n",
    "    tp=(ext-ent).astype('timedelta64[s]').astype(int)/60\n",
    "    mtp[i-1]=[id.values[i-1][1],int(round(np.mean(tp)))]\n",
    "np.savetxt(str(n)+'号平均出行时间.csv', mtp, fmt='%s,%s', delimiter = ',')"
   ]
  },
  {
   "cell_type": "code",
   "execution_count": null,
   "metadata": {},
   "outputs": [],
   "source": []
  }
 ],
 "metadata": {
  "kernelspec": {
   "display_name": "Python 3",
   "language": "python",
   "name": "python3"
  },
  "language_info": {
   "codemirror_mode": {
    "name": "ipython",
    "version": 3
   },
   "file_extension": ".py",
   "mimetype": "text/x-python",
   "name": "python",
   "nbconvert_exporter": "python",
   "pygments_lexer": "ipython3",
   "version": "3.7.0"
  }
 },
 "nbformat": 4,
 "nbformat_minor": 4
}
