{
 "cells": [
  {
   "cell_type": "code",
   "execution_count": 5,
   "metadata": {},
   "outputs": [
    {
     "name": "stdout",
     "output_type": "stream",
     "text": [
      "2020-03-12 23:19:01\n"
     ]
    }
   ],
   "source": [
    "import pandas as pd\n",
    "from pandas.tseries.offsets import *\n",
    "time='20200312231901'\n",
    "date=pd.to_datetime(time)\n",
    "print(date)"
   ]
  },
  {
   "cell_type": "code",
   "execution_count": 16,
   "metadata": {},
   "outputs": [
    {
     "name": "stdout",
     "output_type": "stream",
     "text": [
      "Wall time: 1.3 s\n",
      "0         20170102141900\n",
      "1         20170102072443\n",
      "2         20170102100358\n",
      "3         20170102212702\n",
      "4         20170102130139\n",
      "               ...      \n",
      "911594    20170102162046\n",
      "911595    20170102193850\n",
      "911596    20170102141011\n",
      "911597               NaN\n",
      "911598               NaN\n",
      "Name: 入站时间, Length: 911599, dtype: object\n",
      "0        2017-01-02 14:19:00\n",
      "1        2017-01-02 07:24:43\n",
      "2        2017-01-02 10:03:58\n",
      "3        2017-01-02 21:27:02\n",
      "4        2017-01-02 13:01:39\n",
      "                 ...        \n",
      "911594   2017-01-02 16:20:46\n",
      "911595   2017-01-02 19:38:50\n",
      "911596   2017-01-02 14:10:11\n",
      "911597                   NaT\n",
      "911598                   NaT\n",
      "Name: 入站时间, Length: 911599, dtype: datetime64[ns]\n",
      "Wall time: 1min 4s\n"
     ]
    }
   ],
   "source": [
    "%%time\n",
    "import pandas as pd\n",
    "#from pandas.tseries.offsets import *\n",
    "%time data = pd.read_csv(\"MET20170102.csv\", dtype=str, sep=' ')\n",
    "time=data['入站时间']\n",
    "print(time)\n",
    "t=pd.to_datetime(time, errors='coerce')\n",
    "print(t)"
   ]
  },
  {
   "cell_type": "code",
   "execution_count": 12,
   "metadata": {},
   "outputs": [
    {
     "name": "stdout",
     "output_type": "stream",
     "text": [
      "Wall time: 1.31 s\n",
      "              交易日期        时间               卡面号   卡种       设备号      站点号  \\\n",
      "0       2017-01-02  14:41:16  0000993172268096  003  22020907  0000009   \n",
      "1       2017-01-02  08:07:36  0000993172268092  003  22046202  0000062   \n",
      "2       2017-01-02  10:36:53  0000993172268092  003  22040403  0000004   \n",
      "3       2017-01-02  21:42:59  0000993172254333  030  22023205  0000032   \n",
      "4       2017-01-02  13:19:16  0000993172254333  030  22022606  0000026   \n",
      "...            ...       ...               ...  ...       ...      ...   \n",
      "911594  2017-01-02  17:19:30  0000997178542944  007  29071223  0000112   \n",
      "911595  2017-01-02  20:35:17  0000997178542944  007  22023003  0000030   \n",
      "911596  2017-01-02  14:34:56  0000997178524850  007  29070303  0000103   \n",
      "911597      911597      rows         selected.  NaN       NaN      NaN   \n",
      "911598        SQL>     spool               off  NaN       NaN      NaN   \n",
      "\n",
      "                  入站时间    入站站点号  \n",
      "0       20170102141900  0000032  \n",
      "1       20170102072443  0000004  \n",
      "2       20170102100358  0000062  \n",
      "3       20170102212702  0000026  \n",
      "4       20170102130139  0000032  \n",
      "...                ...      ...  \n",
      "911594  20170102162046  0000030  \n",
      "911595  20170102193850  0000112  \n",
      "911596  20170102141011  0000009  \n",
      "911597             NaN      NaN  \n",
      "911598             NaN      NaN  \n",
      "\n",
      "[911599 rows x 8 columns]\n"
     ]
    }
   ],
   "source": [
    "import pandas as pd\n",
    "%time data = pd.read_csv(\"MET20170102.csv\", dtype=str, sep=' ')\n",
    "print(data)"
   ]
  },
  {
   "cell_type": "code",
   "execution_count": 43,
   "metadata": {},
   "outputs": [
    {
     "name": "stdout",
     "output_type": "stream",
     "text": [
      "2020-03-12 23:19:02\n",
      "2020-03-12 23:19:01\n"
     ]
    },
    {
     "data": {
      "text/plain": [
       "True"
      ]
     },
     "execution_count": 43,
     "metadata": {},
     "output_type": "execute_result"
    }
   ],
   "source": [
    "import pandas as pd\n",
    "from pandas.tseries.offsets import *\n",
    "time='20200312231901'\n",
    "t='20200312231902'\n",
    "date=pd.to_datetime(time)\n",
    "T=pd.to_datetime(t)\n",
    "print(T)\n",
    "print(date)\n",
    "T>date"
   ]
  },
  {
   "cell_type": "code",
   "execution_count": null,
   "metadata": {},
   "outputs": [],
   "source": []
  }
 ],
 "metadata": {
  "kernelspec": {
   "display_name": "Python 3",
   "language": "python",
   "name": "python3"
  },
  "language_info": {
   "codemirror_mode": {
    "name": "ipython",
    "version": 3
   },
   "file_extension": ".py",
   "mimetype": "text/x-python",
   "name": "python",
   "nbconvert_exporter": "python",
   "pygments_lexer": "ipython3",
   "version": "3.7.0"
  }
 },
 "nbformat": 4,
 "nbformat_minor": 4
}
