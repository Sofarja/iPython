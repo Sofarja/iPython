{
 "cells": [
  {
   "cell_type": "code",
   "execution_count": 84,
   "metadata": {},
   "outputs": [
    {
     "name": "stdout",
     "output_type": "stream",
     "text": [
      "最终输出为从1号点到其他点的最短距离\n",
      "[0. 1. 2. 0. 0. 0.]\n",
      "[0. 1. 2. 0. 0. 5.]\n",
      "[0. 1. 2. 8. 0. 5.]\n",
      "[ 0.  1.  2.  8. 20.  5.]\n",
      "[ 0.  1.  2.  8. 17.  5.]\n",
      "[ 0.  1.  2.  8. 17.  5.]\n"
     ]
    }
   ],
   "source": [
    "from xml.etree.ElementTree import ElementTree,Element\n",
    "import numpy as np\n",
    "import pandas as pd\n",
    "\n",
    "def read_xml(in_path):\n",
    "    tree = ElementTree()\n",
    "    tree.parse(in_path)\n",
    "    return tree\n",
    "    \n",
    "def find_nodes(tree, path):\n",
    "    return tree.findall(path)\n",
    "\n",
    "def if_match(node, kv_map):\n",
    "    for key in kv_map:\n",
    "        if node.get(key) != kv_map.get(key):\n",
    "            return False\n",
    "    return True\n",
    "\n",
    "def get_node_by_keyvalue(nodelist, kv_map):\n",
    "    result_nodes = []\n",
    "    for node in nodelist:\n",
    "        if if_match(node, kv_map):\n",
    "            result_nodes.append(node)\n",
    "    return result_nodes\n",
    "\n",
    "def show_value_by_path(nodelist, tag, kv_map):\n",
    "    rlt = []\n",
    "    for parent_node in nodelist:\n",
    "        children = list(parent_node)\n",
    "        if children[0].text == kv_map:\n",
    "            for child in children:\n",
    "                print(child.tag+\"  \"+child.text)\n",
    "                \n",
    "if __name__ == \"__main__\":\n",
    "    \n",
    "    #read xml\n",
    "    tree = read_xml(\"net.xml\")\n",
    "    \n",
    "    #sort by node\n",
    "    nodelist = find_nodes(tree, \"node\")\n",
    "    dist=np.zeros(6)\n",
    "    mark=np.zeros(6)\n",
    "    \n",
    "    mark[0]=1 #startpoint\n",
    "    print(\"最终输出为从1号点到其他点的最短距离\")\n",
    "    m=1\n",
    "    while mark[0]!=0:\n",
    "        id=int(mark[0])\n",
    "        result_nodes = get_node_by_keyvalue(nodelist, {\"id\": str(id)})\n",
    "        for parent_node in result_nodes:\n",
    "            children = list(parent_node)\n",
    "            for child in children:\n",
    "                t=int(child.attrib.get('id'))\n",
    "                if t!=1:\n",
    "                    weight=int(child.text)\n",
    "                    if dist[t-1]==0 or dist[t-1]>=dist[id-1]+weight:\n",
    "                        dist[t-1]=dist[id-1]+weight\n",
    "                        if t in mark:\n",
    "                            pass\n",
    "                        else:\n",
    "                            mark[m]=t\n",
    "                            m=m+1\n",
    "        m=m-1\n",
    "        for i in range(4):\n",
    "            mark[i]=mark[i+1]\n",
    "        print(dist)\n",
    "    "
   ]
  },
  {
   "cell_type": "code",
   "execution_count": null,
   "metadata": {},
   "outputs": [],
   "source": []
  }
 ],
 "metadata": {
  "kernelspec": {
   "display_name": "Python 3",
   "language": "python",
   "name": "python3"
  },
  "language_info": {
   "name": ""
  }
 },
 "nbformat": 4,
 "nbformat_minor": 4
}
