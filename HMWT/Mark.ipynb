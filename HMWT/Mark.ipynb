{
 "cells": [
  {
   "cell_type": "code",
   "execution_count": 1,
   "metadata": {},
   "outputs": [],
   "source": [
    "import folium\n",
    "import folium.plugins as plugins\n",
    "import numpy as np"
   ]
  },
  {
   "cell_type": "code",
   "execution_count": 2,
   "metadata": {},
   "outputs": [],
   "source": [
    "import os\n",
    "import pandas as pd\n",
    "\n",
    "coors = [(31.892721152098,118.819909393787),(31.892174598582,118.819651901722),\n",
    "        (31.891700916243,118.819659948349),(31.891338820889,118.819901347160),\n",
    "        (31.891065540434,118.820381462574),(31.891896765967,118.820815980434),\n",
    "        (31.894706935900,118.819348812103),(31.894381288511,118.819372951984),\n",
    "        (31.894062471769,118.818879425526),(31.894652281873,118.818914294243),\n",
    "        (31.885769471407,118.813264123450),(31.885757141131,118.812753441408),\n",
    "        (31.886139685777,118.813285592219),(31.885740839306,118.813796313989),\n",
    "        (31.883670718916,118.812096118927),(31.883653968365,118.813072137783),\n",
    "        (31.884026011877,118.813158273697),(31.885911774652,118.815400600433),\n",
    "        (31.885486289863,118.815956020311),(31.885830664243,118.814942667525),\n",
    "        (31.886457790959,118.815308157968),(31.885988945529,118.821622059849),\n",
    "        (31.887063977706,118.821527885051),(31.886618221913,118.820702735917),\n",
    "        (31.885909383034,118.820498519062),(31.885714548633,118.817423579099),\n",
    "        (31.892736788381,118.818326071064),(31.892651182297,118.816396178177),\n",
    "        (31.892552814862,118.814944743111),(31.891751899494,118.815423253551),\n",
    "        (31.890148739783,118.813213999926),(31.890138203003,118.814907333207),\n",
    "        (31.891430022789,118.811337806718),(31.891399638447,118.812160268792)]\n",
    "\n",
    "data=[]\n",
    "label=[i for i in range(1,71)]"
   ]
  },
  {
   "cell_type": "code",
   "execution_count": 3,
   "metadata": {},
   "outputs": [],
   "source": [
    "def normalize(array):\n",
    "    return (array-array.min())/(array.max()-array.min())"
   ]
  },
  {
   "cell_type": "code",
   "execution_count": 4,
   "metadata": {},
   "outputs": [
    {
     "name": "stdout",
     "output_type": "stream",
     "text": [
      "10.0\n"
     ]
    }
   ],
   "source": [
    "df = pd.DataFrame(coors, columns=['lon', 'lat'])\n",
    "weight=pd.read_excel(\"停车数++.xlsx\",header = None)\n",
    "print(weight[69][33])\n",
    "for j in range(70):\n",
    "    df['weight']=normalize(weight[j])\n",
    "    data.append(df.values.tolist())"
   ]
  },
  {
   "cell_type": "code",
   "execution_count": 5,
   "metadata": {},
   "outputs": [],
   "source": [
    "mp = folium.Map(location=[df['lon'].mean(),\n",
    "                          df['lat'].mean()], zoom_start=15, control_scale=True)\n",
    "\n",
    "htmp = plugins.HeatMapWithTime(data, radius=50, index=label)\n",
    "\n",
    "htmp.add_to(mp)\n",
    "\n",
    "mp.save('Mark++.html')"
   ]
  }
 ],
 "metadata": {
  "kernelspec": {
   "display_name": "Python 3",
   "language": "python",
   "name": "python3"
  },
  "language_info": {
   "codemirror_mode": {
    "name": "ipython",
    "version": 3
   },
   "file_extension": ".py",
   "mimetype": "text/x-python",
   "name": "python",
   "nbconvert_exporter": "python",
   "pygments_lexer": "ipython3",
   "version": "3.7.0"
  }
 },
 "nbformat": 4,
 "nbformat_minor": 4
}
