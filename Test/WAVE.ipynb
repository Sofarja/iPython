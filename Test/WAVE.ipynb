{
 "cells": [
  {
   "cell_type": "code",
   "execution_count": 1,
   "metadata": {},
   "outputs": [
    {
     "name": "stdout",
     "output_type": "stream",
     "text": [
      "MUF = 81.0 MHz\n"
     ]
    }
   ],
   "source": [
    "import math\n",
    "C=299792458 #光速 m/s\n",
    "e=1.602176634*10**(-19) #电子电量 C\n",
    "m=9.10956*10**(-31) #电子质量 kg\n",
    "N=[2.5*10**9,2*10**10,2*10**11,2*10**12] #各层电子密度\n",
    "H=[0,80000,115000,180000,225000] #各层最大电子密度高度\n",
    "h=[80000,35000,65000,45000] #各层厚度\n",
    "v=[10**7,10**5,10**3,10**2] #各层碰撞概率\n",
    "N_m=2*10**12 #最大电子密度 /m^3\n",
    "Δ=0*math.pi/6 #发射仰角\n",
    "R=6371000 #地球半径 m\n",
    "S=-120 #接收灵敏度 dBm\n",
    "θ_0=math.asin(R/(R+h[0])*math.cos(Δ)) #电离D层入射角\n",
    "f_c=(80.8*N_m)**0.5 #临界频率\n",
    "f_m=f_c/math.cos(θ_0) #最大可用频率（MUF）\n",
    "print('MUF =',round(f_m/10**6,0),'MHz')"
   ]
  },
  {
   "cell_type": "code",
   "execution_count": 2,
   "metadata": {},
   "outputs": [],
   "source": [
    "#MAX FREQUENCY\n",
    "def F_MAX(f):\n",
    "    if f>f_m:\n",
    "        return 0\n",
    "    else:\n",
    "        return 1"
   ]
  },
  {
   "cell_type": "code",
   "execution_count": 3,
   "metadata": {},
   "outputs": [],
   "source": [
    "#SKY WAVE PROPAGATION\n",
    "def SKY(f=10*10**6,Δ=0,V_g=C):\n",
    "    Δ=math.pi/2-Δ\n",
    "    n_0=1 #空气相对折射率\n",
    "    x=0 #到达反射点前的水平位移\n",
    "    t=0 #到达反射点前的时间\n",
    "    La=0 #非偏移吸收衰减\n",
    "    for i in range(4):\n",
    "        θ=math.asin((R+H[i])/(R+H[i+1])*math.cos(math.pi/2-Δ)) #下一层入射角\n",
    "        x=x+R*(Δ-θ)\n",
    "        t=t+(R+H[i])*math.sin(Δ-θ)/math.sin(θ)/V_g\n",
    "        f_0=(80.8*N[i])**0.5 #等离子体频率\n",
    "        f_r=f_0/math.cos(θ) #反射频率\n",
    "        if f<=f_r: #是否\n",
    "            print(i)\n",
    "            break\n",
    "        ε_r=1-80.8*N[i]/f**2 #不考虑地磁场，有耗等离子体相对介电常数\n",
    "        n_1=(ε_r)**0.5 #相对折射率\n",
    "        V_g=n_1*C #群速，信号传播速度\n",
    "        Δ=math.asin(n_0*math.sin(θ)/n_1) #下一层折射角\n",
    "        n_0=n_1\n",
    "        La=La+(60*math.pi*N[i]*e**2*v[i])/(n_1*m*((2*math.pi*f)**2+v[i]**2))*R*(Δ-θ)\n",
    "    Lbf=32.5+20*math.log10(f/10**6)+20*math.log10(2*x/1000) #自由空间基本传输损耗\n",
    "    La=8.68*La\n",
    "    Lb=Lbf+La+16.8 #基本传输损耗\n",
    "    print(\"水平面位移\",2*x,\"m\",\"时间\",2*t,\"s\",\"基本传输损耗\",Lb,\"dB\")"
   ]
  },
  {
   "cell_type": "code",
   "execution_count": 4,
   "metadata": {},
   "outputs": [
    {
     "name": "stdout",
     "output_type": "stream",
     "text": [
      "1\n",
      "3\n",
      "水平面位移 3628891.961692309 m 时间 0.012426324699824071 s 基本传输损耗 148.01519546740641 dB\n"
     ]
    }
   ],
   "source": [
    "f=20*10**6\n",
    "print(F_MAX(f))\n",
    "SKY(f,Δ,C)"
   ]
  }
 ],
 "metadata": {
  "kernelspec": {
   "display_name": "Python 3",
   "language": "python",
   "name": "python3"
  },
  "language_info": {
   "codemirror_mode": {
    "name": "ipython",
    "version": 3
   },
   "file_extension": ".py",
   "mimetype": "text/x-python",
   "name": "python",
   "nbconvert_exporter": "python",
   "pygments_lexer": "ipython3",
   "version": "3.7.0"
  }
 },
 "nbformat": 4,
 "nbformat_minor": 4
}
