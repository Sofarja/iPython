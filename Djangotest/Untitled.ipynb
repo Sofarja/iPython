{
 "cells": [
  {
   "cell_type": "code",
   "execution_count": 1,
   "metadata": {},
   "outputs": [
    {
     "name": "stdout",
     "output_type": "stream",
     "text": [
      "Collecting Django\n",
      "  Downloading Django-3.1.3-py3-none-any.whl (7.8 MB)\n",
      "Collecting sqlparse>=0.2.2\n",
      "  Downloading sqlparse-0.4.1-py3-none-any.whl (42 kB)\n",
      "Collecting asgiref<4,>=3.2.10\n",
      "  Downloading asgiref-3.3.1-py3-none-any.whl (19 kB)\n",
      "Requirement already satisfied: pytz in d:\\python\\lib\\site-packages (from Django) (2019.3)\n",
      "Installing collected packages: sqlparse, asgiref, Django\n",
      "Successfully installed Django-3.1.3 asgiref-3.3.1 sqlparse-0.4.1\n",
      "Note: you may need to restart the kernel to use updated packages.\n"
     ]
    },
    {
     "name": "stderr",
     "output_type": "stream",
     "text": [
      "WARNING: You are using pip version 20.2.2; however, version 20.2.4 is available.\n",
      "You should consider upgrading via the 'd:\\python\\python.exe -m pip install --upgrade pip' command.\n"
     ]
    }
   ],
   "source": [
    "pip install Django"
   ]
  },
  {
   "cell_type": "code",
   "execution_count": 1,
   "metadata": {},
   "outputs": [
    {
     "name": "stdout",
     "output_type": "stream",
     "text": [
      "Collecting django-cool\n",
      "  Downloading django_cool-1.0.6-py3-none-any.whl (212 kB)\n",
      "Requirement already satisfied: Django>=2.2 in d:\\python\\lib\\site-packages (from django-cool) (3.1.3)\n",
      "Collecting djangorestframework\n",
      "  Downloading djangorestframework-3.12.2-py3-none-any.whl (957 kB)\n",
      "Requirement already satisfied: pytz in d:\\python\\lib\\site-packages (from Django>=2.2->django-cool) (2019.3)\n",
      "Requirement already satisfied: sqlparse>=0.2.2 in d:\\python\\lib\\site-packages (from Django>=2.2->django-cool) (0.4.1)\n",
      "Requirement already satisfied: asgiref<4,>=3.2.10 in d:\\python\\lib\\site-packages (from Django>=2.2->django-cool) (3.3.1)\n",
      "Installing collected packages: djangorestframework, django-cool\n",
      "Successfully installed django-cool-1.0.6 djangorestframework-3.12.2\n",
      "Note: you may need to restart the kernel to use updated packages.\n"
     ]
    },
    {
     "name": "stderr",
     "output_type": "stream",
     "text": [
      "WARNING: You are using pip version 20.2.2; however, version 20.2.4 is available.\n",
      "You should consider upgrading via the 'd:\\python\\python.exe -m pip install --upgrade pip' command.\n"
     ]
    }
   ],
   "source": [
    "pip install django-cool"
   ]
  },
  {
   "cell_type": "code",
   "execution_count": 2,
   "metadata": {},
   "outputs": [
    {
     "name": "stdout",
     "output_type": "stream",
     "text": [
      "Collecting django-rest-framework\n",
      "  Downloading django-rest-framework-0.1.0.tar.gz (969 bytes)\n",
      "Requirement already satisfied: djangorestframework in d:\\python\\lib\\site-packages (from django-rest-framework) (3.12.2)\n",
      "Requirement already satisfied: django>=2.2 in d:\\python\\lib\\site-packages (from djangorestframework->django-rest-framework) (3.1.3)\n",
      "Requirement already satisfied: pytz in d:\\python\\lib\\site-packages (from django>=2.2->djangorestframework->django-rest-framework) (2019.3)\n",
      "Requirement already satisfied: asgiref<4,>=3.2.10 in d:\\python\\lib\\site-packages (from django>=2.2->djangorestframework->django-rest-framework) (3.3.1)\n",
      "Requirement already satisfied: sqlparse>=0.2.2 in d:\\python\\lib\\site-packages (from django>=2.2->djangorestframework->django-rest-framework) (0.4.1)\n",
      "Building wheels for collected packages: django-rest-framework\n",
      "  Building wheel for django-rest-framework (setup.py): started\n",
      "  Building wheel for django-rest-framework (setup.py): finished with status 'done'\n",
      "  Created wheel for django-rest-framework: filename=django_rest_framework-0.1.0-py3-none-any.whl size=1383 sha256=015e94e891146eac7a8a770d5499fc22a83a03a2fcdf80d4aa2ecf619c2291f2\n",
      "  Stored in directory: c:\\users\\87947\\appdata\\local\\pip\\cache\\wheels\\4e\\91\\20\\fa6a680aba1d64f99839437e328d92461965163781a83d0c9d\n",
      "Successfully built django-rest-framework\n",
      "Installing collected packages: django-rest-framework\n",
      "Successfully installed django-rest-framework-0.1.0\n",
      "Note: you may need to restart the kernel to use updated packages.\n"
     ]
    },
    {
     "name": "stderr",
     "output_type": "stream",
     "text": [
      "WARNING: You are using pip version 20.2.2; however, version 20.2.4 is available.\n",
      "You should consider upgrading via the 'd:\\python\\python.exe -m pip install --upgrade pip' command.\n"
     ]
    }
   ],
   "source": [
    "pip install django-rest-framework"
   ]
  },
  {
   "cell_type": "code",
   "execution_count": 3,
   "metadata": {},
   "outputs": [
    {
     "name": "stdout",
     "output_type": "stream",
     "text": [
      "Collecting channels\n",
      "  Downloading channels-3.0.2-py3-none-any.whl (38 kB)\n",
      "Requirement already satisfied: asgiref<4,>=3.2.10 in d:\\python\\lib\\site-packages (from channels) (3.3.1)\n",
      "Collecting daphne<4,>=3.0\n",
      "  Downloading daphne-3.0.1-py3-none-any.whl (26 kB)\n",
      "Requirement already satisfied: Django>=2.2 in d:\\python\\lib\\site-packages (from channels) (3.1.3)\n",
      "Collecting autobahn>=0.18\n",
      "  Downloading autobahn-20.7.1-py2.py3-none-any.whl (1.5 MB)\n",
      "Collecting twisted[tls]>=18.7\n",
      "  Downloading Twisted-20.3.0-cp37-cp37m-win32.whl (3.1 MB)\n",
      "Requirement already satisfied: sqlparse>=0.2.2 in d:\\python\\lib\\site-packages (from Django>=2.2->channels) (0.4.1)\n",
      "Requirement already satisfied: pytz in d:\\python\\lib\\site-packages (from Django>=2.2->channels) (2019.3)\n",
      "Collecting txaio>=20.3.1\n",
      "  Downloading txaio-20.4.1-py2.py3-none-any.whl (30 kB)\n",
      "Collecting cryptography>=2.7\n",
      "  Downloading cryptography-3.2.1-cp37-cp37m-win32.whl (1.3 MB)\n",
      "Collecting incremental>=16.10.1\n",
      "  Downloading incremental-17.5.0-py2.py3-none-any.whl (16 kB)\n",
      "Collecting PyHamcrest!=1.10.0,>=1.9.0\n",
      "  Downloading PyHamcrest-2.0.2-py3-none-any.whl (52 kB)\n",
      "Requirement already satisfied: attrs>=19.2.0 in d:\\python\\lib\\site-packages (from twisted[tls]>=18.7->daphne<4,>=3.0->channels) (19.3.0)\n",
      "Collecting hyperlink>=17.1.1\n",
      "  Downloading hyperlink-20.0.1-py2.py3-none-any.whl (48 kB)\n",
      "Collecting zope.interface>=4.4.2\n",
      "  Downloading zope.interface-5.2.0-cp37-cp37m-win32.whl (194 kB)\n",
      "Collecting Automat>=0.3.0\n",
      "  Downloading Automat-20.2.0-py2.py3-none-any.whl (31 kB)\n",
      "Collecting constantly>=15.1\n",
      "  Downloading constantly-15.1.0-py2.py3-none-any.whl (7.9 kB)\n",
      "Collecting service-identity>=18.1.0; extra == \"tls\"\n",
      "  Downloading service_identity-18.1.0-py2.py3-none-any.whl (11 kB)\n",
      "Requirement already satisfied: idna!=2.3,>=0.6; extra == \"tls\" in d:\\python\\lib\\site-packages (from twisted[tls]>=18.7->daphne<4,>=3.0->channels) (2.8)\n",
      "Collecting pyopenssl>=16.0.0; extra == \"tls\"\n",
      "  Downloading pyOpenSSL-19.1.0-py2.py3-none-any.whl (53 kB)\n",
      "Requirement already satisfied: six>=1.4.1 in d:\\python\\lib\\site-packages (from cryptography>=2.7->autobahn>=0.18->daphne<4,>=3.0->channels) (1.14.0)\n",
      "Collecting cffi!=1.11.3,>=1.8\n",
      "  Downloading cffi-1.14.3-cp37-cp37m-win32.whl (166 kB)\n",
      "Requirement already satisfied: setuptools in d:\\python\\lib\\site-packages (from zope.interface>=4.4.2->twisted[tls]>=18.7->daphne<4,>=3.0->channels) (39.0.1)\n",
      "Collecting pyasn1-modules\n",
      "  Downloading pyasn1_modules-0.2.8-py2.py3-none-any.whl (155 kB)\n",
      "Collecting pyasn1\n",
      "  Downloading pyasn1-0.4.8-py2.py3-none-any.whl (77 kB)\n",
      "Collecting pycparser\n",
      "  Downloading pycparser-2.20-py2.py3-none-any.whl (112 kB)\n",
      "Installing collected packages: txaio, pycparser, cffi, cryptography, autobahn, incremental, PyHamcrest, hyperlink, zope.interface, Automat, constantly, pyasn1, pyasn1-modules, service-identity, pyopenssl, twisted, daphne, channels\n",
      "Successfully installed Automat-20.2.0 PyHamcrest-2.0.2 autobahn-20.7.1 cffi-1.14.3 channels-3.0.2 constantly-15.1.0 cryptography-3.2.1 daphne-3.0.1 hyperlink-20.0.1 incremental-17.5.0 pyasn1-0.4.8 pyasn1-modules-0.2.8 pycparser-2.20 pyopenssl-19.1.0 service-identity-18.1.0 twisted-20.3.0 txaio-20.4.1 zope.interface-5.2.0\n",
      "Note: you may need to restart the kernel to use updated packages.\n"
     ]
    },
    {
     "name": "stderr",
     "output_type": "stream",
     "text": [
      "WARNING: You are using pip version 20.2.2; however, version 20.2.4 is available.\n",
      "You should consider upgrading via the 'd:\\python\\python.exe -m pip install --upgrade pip' command.\n"
     ]
    }
   ],
   "source": [
    "pip install channels"
   ]
  }
 ],
 "metadata": {
  "kernelspec": {
   "display_name": "Python 3",
   "language": "python",
   "name": "python3"
  },
  "language_info": {
   "codemirror_mode": {
    "name": "ipython",
    "version": 3
   },
   "file_extension": ".py",
   "mimetype": "text/x-python",
   "name": "python",
   "nbconvert_exporter": "python",
   "pygments_lexer": "ipython3",
   "version": "3.7.0"
  }
 },
 "nbformat": 4,
 "nbformat_minor": 4
}
